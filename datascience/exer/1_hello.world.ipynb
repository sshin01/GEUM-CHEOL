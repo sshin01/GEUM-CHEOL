{
 "cells": [
  {
   "cell_type": "code",
   "execution_count": 67,
   "id": "eb520584-ca56-4b98-afe6-fdab2e74d208",
   "metadata": {},
   "outputs": [
    {
     "name": "stdout",
     "output_type": "stream",
     "text": [
      "Hello world!\n",
      "100\n",
      "3.14\n"
     ]
    }
   ],
   "source": [
    "\"\"\" \n",
    "print() function\n",
    "\"\"\"\n",
    "\n",
    "\n",
    "print(\"Hello world!\")\n",
    "print(100)\n",
    "pi = 3.14\n",
    "print(pi)"
   ]
  },
  {
   "cell_type": "code",
   "execution_count": 68,
   "id": "56eb1a95-9505-40e7-b874-9bce78ac6a5d",
   "metadata": {},
   "outputs": [
    {
     "name": "stdout",
     "output_type": "stream",
     "text": [
      "My name isGeum Cheol\n"
     ]
    }
   ],
   "source": [
    "intro = \"My name is\"\n",
    "name = \"Geum Cheol\"\n",
    "print(intro + name)"
   ]
  },
  {
   "cell_type": "code",
   "execution_count": 69,
   "id": "9ac336c9-0f3d-42d4-aa48-bad1233479c1",
   "metadata": {},
   "outputs": [],
   "source": [
    "\"\"\"\n",
    "Variables\n",
    "\"\"\"\n",
    "\n",
    "user_name = \"Geum Cheol\"\n",
    "user_id = 201755012\n",
    "user_email = \"kja6023@hs.ac.kr\"\n",
    "is_student = True\n",
    "\n",
    "#실습"
   ]
  },
  {
   "cell_type": "code",
   "execution_count": 70,
   "id": "45d29093-eca6-446f-b0ae-54e127ae7a59",
   "metadata": {},
   "outputs": [
    {
     "name": "stdout",
     "output_type": "stream",
     "text": [
      "x =  1\n",
      "Address of x:  140717397845808\n",
      "x =  2\n",
      "Address of x:  140717397845840\n"
     ]
    }
   ],
   "source": [
    "# Declare and Initialize a variable\n",
    "x = 1\n",
    "print('x = ' , x)\n",
    "print(\"Address of x: \", id(x))\n",
    "\n",
    "#(Re)Assign a value to the variable\n",
    "x = 2\n",
    "print('x = ' , x)\n",
    "print(\"Address of x: \", id(x))\n",
    "\n"
   ]
  },
  {
   "cell_type": "code",
   "execution_count": 71,
   "id": "5f19cafa-513c-44fc-b9bc-4ab12523b962",
   "metadata": {},
   "outputs": [],
   "source": [
    "# Valid cases:\n",
    "myvar = \"Shin\"\n",
    "my_var = \"Shin\"\n",
    "_my_var = \"Shin\"\n",
    "myVar = \"Shin\"\n",
    "MYVAR = \"Shin\"\n",
    "myvar2 = \"Shin\""
   ]
  },
  {
   "cell_type": "code",
   "execution_count": 72,
   "id": "a5d4ef83-b54d-4ec9-b21e-691741a24e5e",
   "metadata": {},
   "outputs": [],
   "source": [
    "\"\"\"\n",
    "Data Types: Integers\n",
    "\"\"\"\n",
    "\n",
    "chairs = 7\n",
    "tables = 1\n",
    "smartphone = 5\n",
    "sofas = 1\n",
    "broken_chairs = -1\n",
    "\n",
    "#실습"
   ]
  },
  {
   "cell_type": "code",
   "execution_count": 73,
   "id": "c3fdf12a-0e2f-40fa-b111-dc991b5e502f",
   "metadata": {},
   "outputs": [],
   "source": [
    "\"\"\"\n",
    "Data Types: Real Numbers\n",
    "\"\"\"\n",
    "\n",
    "PI = 3.14\n",
    "Kospi_index = 3125.76\n",
    "Krw_usd_exhange = 1176.83\n",
    "Kosdaq_index =  1035.66\n",
    "\n",
    "#실습 본인이 알고 있는 실수를 변수로 정의"
   ]
  },
  {
   "cell_type": "code",
   "execution_count": 74,
   "id": "8d2cfc30-46a5-4fcb-ba32-22a31df36599",
   "metadata": {},
   "outputs": [],
   "source": [
    "\"\"\"\n",
    "Data Types: Strings\n",
    "\"\"\"\n",
    "\n",
    "favorite_color = \"Black\"\n",
    "favorite_game =  \"Genshin\"\n",
    "favorite_sport = \"Baseball\"\n",
    "\n",
    "\n",
    "#실습 본인이 좋아하는 것들을 문자열 변수로 정의"
   ]
  },
  {
   "cell_type": "code",
   "execution_count": 75,
   "id": "6219731a-1a37-4467-8691-4cd1b39982a7",
   "metadata": {},
   "outputs": [
    {
     "name": "stdout",
     "output_type": "stream",
     "text": [
      "16\n"
     ]
    }
   ],
   "source": [
    "\"\"\"\n",
    "Plus-Equals Operations\n",
    "\"\"\"\n",
    "\n",
    "a = 8\n",
    "a *= 2\n",
    "print(a)"
   ]
  },
  {
   "cell_type": "code",
   "execution_count": 76,
   "id": "99f084f6-5c26-4bf1-bd4b-559ebc511364",
   "metadata": {
    "tags": []
   },
   "outputs": [
    {
     "name": "stdout",
     "output_type": "stream",
     "text": [
      "HSU\n"
     ]
    }
   ],
   "source": [
    "\"\"\"\n",
    "Erros\n",
    "\"\"\"\n",
    "\n",
    "#Name Erros\n",
    "\n",
    "\n",
    "my_school = \"HSU\"\n",
    "print(my_school)"
   ]
  },
  {
   "cell_type": "code",
   "execution_count": 77,
   "id": "69fd640a-aaca-47ed-bd10-1ad369109997",
   "metadata": {},
   "outputs": [
    {
     "name": "stdout",
     "output_type": "stream",
     "text": [
      "<class 'bool'>\n"
     ]
    }
   ],
   "source": [
    "is_tested = True\n",
    "print(type(is_tested)) # 변수가 어떤 데이터 타입인지를 알려주는 함수\n"
   ]
  },
  {
   "cell_type": "code",
   "execution_count": 78,
   "id": "13a37fd1-cd26-4dcb-8c62-d628087e9fdb",
   "metadata": {},
   "outputs": [
    {
     "name": "stdout",
     "output_type": "stream",
     "text": [
      "True\n",
      "True\n",
      "False\n"
     ]
    }
   ],
   "source": [
    "# 1\n",
    "print(\"Yes\" == 'Yes')\n",
    "\n",
    "# 2\n",
    "print((2 > 1) == (5 < 10))\n",
    "\n",
    "# 3\n",
    "c = '2'\n",
    "d = 2\n",
    "print(c == d)\n"
   ]
  },
  {
   "cell_type": "code",
   "execution_count": 79,
   "id": "7ef7daaa-7f6d-4a20-a463-5a4b836e8d8e",
   "metadata": {},
   "outputs": [
    {
     "name": "stdout",
     "output_type": "stream",
     "text": [
      "False\n"
     ]
    }
   ],
   "source": [
    "\"\"\"\n",
    "conditional statements\n",
    "\"\"\"\n",
    "\n",
    "puppy = \"maltepoo\"\n",
    "is_yes = False\n",
    "\n",
    "if puppy == \"maltese\":\n",
    "    is_yes = True\n",
    "    print(\"말티즈가 맞습니다.\")\n",
    "\n",
    "elif puppy == \"poodle\":\n",
    "    is_yes = True\n",
    "    print(\"푸들이 맞습니다.\")\n",
    "    \n",
    "print(is_yes)"
   ]
  },
  {
   "cell_type": "code",
   "execution_count": 80,
   "id": "088c4449-ed41-45b2-9bb1-57e0f2465e6d",
   "metadata": {},
   "outputs": [
    {
     "name": "stdout",
     "output_type": "stream",
     "text": [
      "[Error]\n",
      "continue...\n"
     ]
    }
   ],
   "source": [
    "\"Exception Handling\"\n",
    "\n",
    "x = 1\n",
    "\n",
    "try:\n",
    "    print(y)\n",
    "    print(x)\n",
    "except:\n",
    "    print('[Error]')\n",
    "\n",
    "print(\"continue...\")"
   ]
  },
  {
   "cell_type": "code",
   "execution_count": 81,
   "id": "b7a05de2-1582-4f45-9d2c-174204d97b92",
   "metadata": {},
   "outputs": [
    {
     "name": "stdout",
     "output_type": "stream",
     "text": [
      "[2, 3, 5, 7, 11, 2]\n",
      "[]\n"
     ]
    }
   ],
   "source": [
    "#리스트 소수\n",
    "\"\"\"\n",
    "Lists\n",
    "\"\"\"\n",
    "primes = [2,3,5,7,11,2]\n",
    "print(primes)\n",
    "\n",
    "empty_list = []\n",
    "print(empty_list)"
   ]
  },
  {
   "cell_type": "code",
   "execution_count": 2,
   "id": "38333732-3c8a-455d-a9b0-1b87b25a7584",
   "metadata": {},
   "outputs": [
    {
     "name": "stdout",
     "output_type": "stream",
     "text": [
      "['Jenny', 1, 1.4, True]\n"
     ]
    }
   ],
   "source": [
    "\"\"\"\n",
    "Multiple differnet data types\n",
    "\"\"\"\n",
    "mixed =['Jenny', 1, 1.4, True]\n",
    "print(mixed)\n",
    "list_of_lists = [ ['a', 1],['b', 2] ]"
   ]
  },
  {
   "cell_type": "code",
   "execution_count": 83,
   "id": "2b07386d-8ac7-42eb-bf74-dd3844e726e8",
   "metadata": {},
   "outputs": [
    {
     "name": "stdout",
     "output_type": "stream",
     "text": [
      "Roger\n",
      "Rafael\n",
      "Andy\n",
      "Novak\n"
     ]
    }
   ],
   "source": [
    "\"\"\"\n",
    "Zero-indexing\n",
    "\"\"\"\n",
    "\n",
    "names = ['Roger','Rafael','Andy','Novak']\n",
    "\n",
    "print(names[0]) #first data\n",
    "print(names[1])\n",
    "print(names[2])\n",
    "print(names[3])"
   ]
  },
  {
   "cell_type": "code",
   "execution_count": 84,
   "id": "be9b285f-6f22-41e5-9d57-4bd8948a1c6c",
   "metadata": {},
   "outputs": [
    {
     "name": "stdout",
     "output_type": "stream",
     "text": [
      "Novak\n",
      "Andy\n",
      "Rafael\n",
      "Roger\n"
     ]
    }
   ],
   "source": [
    "\"\"\"\n",
    "Negative indexing\n",
    "\"\"\"\n",
    "print(names[-1]) #last data\n",
    "print(names[-2]) #second to last data\n",
    "print(names[-3]) #third to last data\n",
    "print(names[-4])"
   ]
  },
  {
   "cell_type": "code",
   "execution_count": 85,
   "id": "646fdb30-077d-442b-b8e2-26672f613459",
   "metadata": {},
   "outputs": [
    {
     "name": "stdout",
     "output_type": "stream",
     "text": [
      "['생활관', '필헌관', '소통관']\n",
      "['만우관', '장공관', '필헌관', '소통관', '송암관', '늦봄관', '장준하통일관']\n",
      "['만우관', '장공관', '필헌관', '소통관', '송암관', '늦봄관', '장준하통일관']\n"
     ]
    }
   ],
   "source": [
    "#인덱스 구간에 있는 값을 구하는 방법\n",
    "\"\"\"\n",
    "List slicing\n",
    "\"\"\"\n",
    "hsu_buildings = ['만우관', '장공관', '필헌관', '소통관', '송암관', '늦봄관', '장준하통일관']\n",
    "building_slice = hsu_buildings[1:4] #독립적인 객체\n",
    "building_slice[0] = '생활관'\n",
    "\n",
    "print(building_slice)\n",
    "print(hsu_buildings)\n",
    "print(hsu_buildings[:])"
   ]
  },
  {
   "cell_type": "code",
   "execution_count": 86,
   "id": "c933a3ec-89e2-48cb-9764-77caaae6fb15",
   "metadata": {},
   "outputs": [
    {
     "name": "stdout",
     "output_type": "stream",
     "text": [
      "[['해우리', '청정원', '맥도날드'], ['짜장명가', ' 중식', '중화비빔밥'], ['찌개동아리', '한식', '제육전골'], ['맘스터치', '양식', '싸이버거']]\n",
      "['해우리', '청정원', '해우라면']\n"
     ]
    }
   ],
   "source": [
    "\"\"\"\n",
    "Multi-dimensinal Lists\n",
    "\"\"\"\n",
    "\n",
    "foodstore = [['해우리', '청정원', '맥도날드'], ['짜장명가', ' 중식', '중화비빔밥'], ['찌개동아리', '한식', '제육전골'], ['맘스터치', '양식', '싸이버거']]\n",
    "\n",
    "print(foodstore)\n",
    "\n",
    "foodstore[0][2] = '해우라면'\n",
    "print(foodstore[0])"
   ]
  },
  {
   "cell_type": "code",
   "execution_count": 87,
   "id": "b25ad05f-a0d2-4aab-a429-47d4ee7532f9",
   "metadata": {},
   "outputs": [
    {
     "name": "stdout",
     "output_type": "stream",
     "text": [
      "['cake', 'cookie', 'bread', 'biscuit', 'tart']\n"
     ]
    }
   ],
   "source": [
    "\"\"\"\n",
    "\n",
    "Adding Lists Together\n",
    "\"\"\"\n",
    "items_one = ['cake', 'cookie', 'bread']\n",
    "items_two = ['biscuit', 'tart']\n",
    "\n",
    "total_items = items_one + items_two\n",
    "print(total_items)"
   ]
  },
  {
   "cell_type": "code",
   "execution_count": 88,
   "id": "91bf90c3-7a69-4279-acc0-04266e8ee0f7",
   "metadata": {},
   "outputs": [
    {
     "name": "stdout",
     "output_type": "stream",
     "text": [
      "5\n"
     ]
    }
   ],
   "source": [
    "\"\"\"\n",
    "Useful Methods for Lists\n",
    "\"\"\"\n",
    "\n",
    "# Len()\n",
    "knapsack = [2, 4, 3, 7, 10]\n",
    "size = len(knapsack)\n",
    "print(size)"
   ]
  },
  {
   "cell_type": "code",
   "execution_count": 89,
   "id": "97a60557-5ffa-4d84-a2b0-9633691309f9",
   "metadata": {},
   "outputs": [
    {
     "name": "stdout",
     "output_type": "stream",
     "text": [
      "['daisies', 'periwinkle', 'tulips']\n"
     ]
    }
   ],
   "source": [
    "# append()\n",
    "orders = ['daisies', 'periwinkle']\n",
    "orders.append('tulips')\n",
    "\n",
    "print(orders)"
   ]
  },
  {
   "cell_type": "code",
   "execution_count": 90,
   "id": "74b4375e-f45e-4866-93a6-0e773000d008",
   "metadata": {},
   "outputs": [
    {
     "name": "stdout",
     "output_type": "stream",
     "text": [
      "['Karla', 'Maxium', 'Vikor', 'Martin', 'Isabella']\n"
     ]
    }
   ],
   "source": [
    "# insert()\n",
    "store_line = ['Karla', 'Maxium', 'Martin', 'Isabella']\n",
    "store_line.insert(2, 'Vikor')\n",
    "\n",
    "print(store_line)"
   ]
  },
  {
   "cell_type": "code",
   "execution_count": 91,
   "id": "e90ad436-b17b-4f6c-b445-cb37d7be584a",
   "metadata": {},
   "outputs": [
    {
     "data": {
      "text/plain": [
       "'Data Engineering'"
      ]
     },
     "execution_count": 91,
     "metadata": {},
     "output_type": "execute_result"
    }
   ],
   "source": [
    "# pop()\n",
    "\n",
    "sw_subjects = ['C Programming', 'Calculus', 'Data Engineering', 'Data Structures', 'Machine Learning']\n",
    "sw_subjects.pop(2)\n",
    "\n",
    "\n"
   ]
  },
  {
   "cell_type": "code",
   "execution_count": 92,
   "id": "5eb0e760-22d7-45ed-b7ec-3e4e36ba83b7",
   "metadata": {},
   "outputs": [
    {
     "name": "stdout",
     "output_type": "stream",
     "text": [
      "['C Programming', 'Data Engineering', 'Data Structures', 'Machine Learning']\n"
     ]
    }
   ],
   "source": [
    "sw_subjects = ['C Programming', 'Calculus', 'Data Engineering', 'Data Structures', 'Machine Learning']\n",
    "sw_subjects.remove('Calculus')\n",
    "print(sw_subjects)"
   ]
  },
  {
   "cell_type": "code",
   "execution_count": 93,
   "id": "44e71c37-6aab-4692-a5eb-97a147a14e48",
   "metadata": {
    "tags": []
   },
   "outputs": [
    {
     "ename": "ValueError",
     "evalue": "list.remove(x): x not in list",
     "output_type": "error",
     "traceback": [
      "\u001b[1;31m---------------------------------------------------------------------------\u001b[0m",
      "\u001b[1;31mValueError\u001b[0m                                Traceback (most recent call last)",
      "\u001b[1;32m<ipython-input-93-bf100646bdac>\u001b[0m in \u001b[0;36m<module>\u001b[1;34m\u001b[0m\n\u001b[0;32m      1\u001b[0m \u001b[1;31m# Error\u001b[0m\u001b[1;33m\u001b[0m\u001b[1;33m\u001b[0m\u001b[1;33m\u001b[0m\u001b[0m\n\u001b[0;32m      2\u001b[0m \u001b[0msw_subjects\u001b[0m \u001b[1;33m=\u001b[0m \u001b[1;33m[\u001b[0m\u001b[1;34m'C Programming'\u001b[0m\u001b[1;33m,\u001b[0m \u001b[1;34m'Calculus'\u001b[0m\u001b[1;33m,\u001b[0m \u001b[1;34m'Data Engineering'\u001b[0m\u001b[1;33m,\u001b[0m \u001b[1;34m'Data Structures'\u001b[0m\u001b[1;33m,\u001b[0m \u001b[1;34m'Machine Learning'\u001b[0m\u001b[1;33m]\u001b[0m\u001b[1;33m\u001b[0m\u001b[1;33m\u001b[0m\u001b[0m\n\u001b[1;32m----> 3\u001b[1;33m \u001b[0msw_subjects\u001b[0m\u001b[1;33m.\u001b[0m\u001b[0mremove\u001b[0m\u001b[1;33m(\u001b[0m\u001b[1;34m'Algorithms'\u001b[0m\u001b[1;33m)\u001b[0m\u001b[1;33m\u001b[0m\u001b[1;33m\u001b[0m\u001b[0m\n\u001b[0m\u001b[0;32m      4\u001b[0m \u001b[0mprint\u001b[0m\u001b[1;33m(\u001b[0m\u001b[0msw_subjects\u001b[0m\u001b[1;33m)\u001b[0m\u001b[1;33m\u001b[0m\u001b[1;33m\u001b[0m\u001b[0m\n",
      "\u001b[1;31mValueError\u001b[0m: list.remove(x): x not in list"
     ]
    }
   ],
   "source": [
    "# Error\n",
    "sw_subjects = ['C Programming', 'Calculus', 'Data Engineering', 'Data Structures', 'Machine Learning']\n",
    "sw_subjects.remove('Algorithms')\n",
    "print(sw_subjects)"
   ]
  },
  {
   "cell_type": "code",
   "execution_count": null,
   "id": "2819b3f4-3114-45c4-847f-3089e5dc69d5",
   "metadata": {
    "jupyter": {
     "source_hidden": true
    },
    "tags": []
   },
   "outputs": [],
   "source": [
    "# sort()\n",
    "\n",
    "numbers = [4, 2, 1, 3]\n",
    "numbers.sort()\n",
    "print(numbers)\n",
    "\n"
   ]
  },
  {
   "cell_type": "code",
   "execution_count": null,
   "id": "5da62043-d388-4295-9b9b-0590fc24c256",
   "metadata": {},
   "outputs": [],
   "source": [
    "hsu_buildings = ['만우관', '장공관', '필헌관', '소통관', '송암관', '늦봄관', '장준하통일관']\n",
    "hsu_buildings.sort()\n",
    "\n",
    "print(hsu_buildings)"
   ]
  },
  {
   "cell_type": "code",
   "execution_count": null,
   "id": "92dd17d5-2ed1-4e47-9dd1-ed12d56abbb2",
   "metadata": {},
   "outputs": [],
   "source": [
    "# sorted()\n",
    "\n",
    "numbers = [4, 2, 1, 3]\n",
    "sorted_numbers = sorted(numbers)\n",
    "print(sorted_numbers)"
   ]
  },
  {
   "cell_type": "code",
   "execution_count": null,
   "id": "89ab3583-9c3b-4887-bd7b-836afa113024",
   "metadata": {},
   "outputs": [],
   "source": [
    "\"\"\"\n",
    "for Loops\n",
    "\"\"\"\n",
    "nums = [1, 2, 3, 4, 5]\n",
    "for num in nums:\n",
    "    print(num)\n",
    "    \n",
    "# range()\n",
    "for i in range(4):\n",
    "    print(i)"
   ]
  },
  {
   "cell_type": "code",
   "execution_count": null,
   "id": "d33bbe87-b1c4-483d-91da-19321d7f26d3",
   "metadata": {},
   "outputs": [],
   "source": [
    "\"\"\"\n",
    "continue Keyword\n",
    "\"\"\"\n",
    "nums = [1, 2, -1, 4, -5, 5, 2, -9]\n",
    "\n",
    "for num in nums:\n",
    "    # If num is negative, we skip it\n",
    "    if num < 0:\n",
    "        continue\n",
    "    print(num)\n",
    "   "
   ]
  },
  {
   "cell_type": "code",
   "execution_count": null,
   "id": "892bbe15-ff13-40ac-97b0-cfcfe7f4af3b",
   "metadata": {},
   "outputs": [],
   "source": [
    "\"\"\"\n",
    "break Keyword\n",
    "\"\"\"\n",
    "\n",
    "game_plays = ['stage1', 'stage2', 'stage3', 'gameover', 'stage4']\n",
    "\n",
    "for play in game_plays:\n",
    "    \n",
    "    if play == 'gameover':\n",
    "        print(\"Game is over...\")\n",
    "        break\n",
    "     \n",
    "    print(play + \" is complete.\")"
   ]
  },
  {
   "cell_type": "code",
   "execution_count": null,
   "id": "76170e83-d021-4a50-82ff-948b978479d2",
   "metadata": {},
   "outputs": [],
   "source": [
    "\"\"\"\n",
    "List Comprehnesion\n",
    "\"\"\"\n",
    "\n",
    "one_to_ten = [i+1 for i in range(10)]\n",
    "print (one_to_ten)\n"
   ]
  },
  {
   "cell_type": "code",
   "execution_count": null,
   "id": "9187de3f-e4b8-41de-8871-c0b118246219",
   "metadata": {},
   "outputs": [],
   "source": [
    "\"\"\"\n",
    "List comprehension including conditions\n",
    "\"\"\"\n",
    "\n",
    "hotspurs = [['손흥민', 'A+'], ['케인', 'F'],['돔벨레', 'F'], ['알리', 'F'],\n",
    "            ['모우라', 'B+'], ['호이비에르','D']]\n",
    "poors = [player[0] for player in hotspurs if player[1] == 'F']\n",
    "print(poors)"
   ]
  },
  {
   "cell_type": "code",
   "execution_count": null,
   "id": "5e09e35e-6420-4008-89be-d421b08a76c6",
   "metadata": {},
   "outputs": [],
   "source": [
    "\"\"\"\n",
    "Nested Loops\n",
    "\"\"\"\n",
    "\n",
    "one_to_nine = [i+1 for i in range(9)]\n",
    "\n",
    "for i in one_to_nine:\n",
    "    for j in one_to_nine:\n",
    "        print(\"%d x %d = %d\" % (i, j, i*j))"
   ]
  },
  {
   "cell_type": "code",
   "execution_count": null,
   "id": "bad0d5a8-0685-4334-9ebf-d5a736448d3b",
   "metadata": {},
   "outputs": [],
   "source": [
    "# Infinite Loop\n",
    "x = 1\n",
    "y = 1\n",
    "while x < 5:\n",
    "    print(\"Do somthing\")\n",
    "    y +=1\n",
    "    if y > 5:\n",
    "        print(\"why doesn't it end?\")"
   ]
  },
  {
   "cell_type": "code",
   "execution_count": 1,
   "id": "a2591c61-e995-49d2-80ae-463541880593",
   "metadata": {},
   "outputs": [
    {
     "name": "stdout",
     "output_type": "stream",
     "text": [
      "3\n"
     ]
    },
    {
     "ename": "NameError",
     "evalue": "name 'x' is not defined",
     "output_type": "error",
     "traceback": [
      "\u001b[1;31m---------------------------------------------------------------------------\u001b[0m",
      "\u001b[1;31mNameError\u001b[0m                                 Traceback (most recent call last)",
      "\u001b[1;32m<ipython-input-1-7e6ed8895704>\u001b[0m in \u001b[0;36m<module>\u001b[1;34m\u001b[0m\n\u001b[0;32m     17\u001b[0m \u001b[1;33m\u001b[0m\u001b[0m\n\u001b[0;32m     18\u001b[0m \u001b[0mcls\u001b[0m \u001b[1;33m=\u001b[0m \u001b[0mmy_class\u001b[0m\u001b[1;33m(\u001b[0m\u001b[1;33m)\u001b[0m\u001b[1;33m\u001b[0m\u001b[1;33m\u001b[0m\u001b[0m\n\u001b[1;32m---> 19\u001b[1;33m \u001b[0mcls\u001b[0m\u001b[1;33m.\u001b[0m\u001b[0mmy_method\u001b[0m\u001b[1;33m(\u001b[0m\u001b[1;33m)\u001b[0m\u001b[1;33m\u001b[0m\u001b[1;33m\u001b[0m\u001b[0m\n\u001b[0m",
      "\u001b[1;32m<ipython-input-1-7e6ed8895704>\u001b[0m in \u001b[0;36mmy_method\u001b[1;34m(self)\u001b[0m\n\u001b[0;32m     14\u001b[0m \u001b[1;32mclass\u001b[0m \u001b[0mmy_class\u001b[0m\u001b[1;33m:\u001b[0m\u001b[1;33m\u001b[0m\u001b[1;33m\u001b[0m\u001b[0m\n\u001b[0;32m     15\u001b[0m     \u001b[1;32mdef\u001b[0m \u001b[0mmy_method\u001b[0m\u001b[1;33m(\u001b[0m\u001b[0mself\u001b[0m\u001b[1;33m)\u001b[0m\u001b[1;33m:\u001b[0m\u001b[1;33m\u001b[0m\u001b[1;33m\u001b[0m\u001b[0m\n\u001b[1;32m---> 16\u001b[1;33m         \u001b[1;32mreturn\u001b[0m \u001b[0mx\u001b[0m\u001b[1;33m+\u001b[0m\u001b[1;36m1\u001b[0m\u001b[1;33m\u001b[0m\u001b[1;33m\u001b[0m\u001b[0m\n\u001b[0m\u001b[0;32m     17\u001b[0m \u001b[1;33m\u001b[0m\u001b[0m\n\u001b[0;32m     18\u001b[0m \u001b[0mcls\u001b[0m \u001b[1;33m=\u001b[0m \u001b[0mmy_class\u001b[0m\u001b[1;33m(\u001b[0m\u001b[1;33m)\u001b[0m\u001b[1;33m\u001b[0m\u001b[1;33m\u001b[0m\u001b[0m\n",
      "\u001b[1;31mNameError\u001b[0m: name 'x' is not defined"
     ]
    }
   ],
   "source": [
    "\"\"\"\n",
    "Functions vs method\n",
    "\"\"\"\n",
    "#functions\n",
    "\n",
    "def my_function(x):\n",
    "    return x+1\n",
    "y = 2\n",
    "result =my_function(y)\n",
    "print(result)\n",
    "\n",
    "#method\n",
    "\n",
    "class my_class:\n",
    "    def my_method(self):\n",
    "        return x+1\n",
    "    \n",
    "cls = my_class()\n",
    "cls.my_method()"
   ]
  },
  {
   "cell_type": "code",
   "execution_count": null,
   "id": "16eab49e-651d-449a-a45b-fb079db32511",
   "metadata": {},
   "outputs": [],
   "source": [
    "\"\"\" #실습 참고\n",
    "Function Parameters\n",
    "\"\"\"\n",
    "def introduce_myself(name, birthyear, city): #parameter\n",
    "    print(\"Hello everyone, MY name is %s, I was born in %d, and I live in %s\"\n",
    "    % (name, birthyear, city))\n",
    "introduce_myself(\"Hyun Ahn\", 1985, \"Anyang\") #ar\n",
    "\n"
   ]
  },
  {
   "cell_type": "code",
   "execution_count": null,
   "id": "c946167d-d478-4771-8925-6f7bbf0ad8bf",
   "metadata": {},
   "outputs": [],
   "source": [
    "\"\"\"\n",
    "Return Keyword\n",
    "\"\"\"\n",
    "\n",
    "# Leap year = 윤년 (2월 29일)\n",
    "def check_leap_year(year):\n",
    "    if year % 6 == 0:\n",
    "        return \"%s is a leap year.\" % (year)\n",
    "    else:\n",
    "        return \"%s is not a leap year.\" % (year)\n",
    "check_leap_year(2021)"
   ]
  },
  {
   "cell_type": "code",
   "execution_count": null,
   "id": "27b32fc6-df34-4d43-911b-60e119aee433",
   "metadata": {},
   "outputs": [],
   "source": [
    "\"\"\"\n",
    "Returning Multiple Values\n",
    "\"\"\"\n",
    "\n",
    "\n",
    "def square_point(x, y, z):\n",
    "    x_squared = x ** 2\n",
    "    y_squared = y ** 2\n",
    "    z_squared = z ** 2\n",
    "    return x_squared, y_squared, z_squared\n",
    "three_squared, four_squared, five_squared = square_point(3, 4, 5)\n",
    "\n",
    "print(three_squared, four_squared, five_squared)"
   ]
  },
  {
   "cell_type": "code",
   "execution_count": null,
   "id": "8f1413ff-8750-4f37-9c85-86c3b20565ec",
   "metadata": {},
   "outputs": [],
   "source": [
    "\"\"\"\n",
    "Global variables\n",
    "\"\"\"\n",
    "\n",
    "a = \"Hello\"\n",
    "\n",
    "def prints_a():\n",
    "    print(a)\n",
    "    \n",
    "prints_a()"
   ]
  },
  {
   "cell_type": "code",
   "execution_count": null,
   "id": "175093a2-89f8-4ea7-b52f-e43108dd4b2e",
   "metadata": {
    "tags": []
   },
   "outputs": [],
   "source": [
    "\"\"\"\n",
    "Local Variables\n",
    "\"\"\"\n",
    "\n",
    "def f1():\n",
    "    a = 2 # local var.\n",
    "    print(c)\n",
    "f1()\n",
    "print(c)"
   ]
  },
  {
   "cell_type": "code",
   "execution_count": null,
   "id": "0c60b812-b264-471f-8017-6dce497e9161",
   "metadata": {},
   "outputs": [],
   "source": [
    "\"\"\"\n",
    "Keyworld Arguments and Default Valuves\n",
    "\"\"\"\n",
    "def findvolume(height, width, depth):\n",
    "    print(\"Height = %s\" % (height))\n",
    "    print(\"Width = %s\" % (width))\n",
    "    print(\"Depth = %s\" % (depth))\n",
    "    return height * width * depth\n",
    "#EX: height = 3, width = 1, depth = 2\n",
    "print(findvolume(height=3, depth=2, width=1 ))"
   ]
  },
  {
   "cell_type": "code",
   "execution_count": 2,
   "id": "a1fe0703-7ef8-4a55-a6a4-bf9d22eba3f1",
   "metadata": {},
   "outputs": [],
   "source": [
    "import numpy as np\n",
    "import pandas as pd\n",
    "from matplotlib import pyplot as plt"
   ]
  },
  {
   "cell_type": "code",
   "execution_count": 3,
   "id": "3ab6fe23-10f9-4a57-9651-6da6bb7401d1",
   "metadata": {},
   "outputs": [
    {
     "name": "stdout",
     "output_type": "stream",
     "text": [
      "[1 2 3 4]\n",
      "<class 'numpy.ndarray'>\n"
     ]
    }
   ],
   "source": [
    "# Creating a NumPy Array\n",
    "lst = [1, 2, 3, 4]\n",
    "\n",
    "arr = np.array(lst)\n",
    "print(arr)\n",
    "print(type(arr))"
   ]
  },
  {
   "cell_type": "code",
   "execution_count": 4,
   "id": "948f7ebf-1a6a-4c27-a05b-919f1d711d7e",
   "metadata": {},
   "outputs": [
    {
     "name": "stdout",
     "output_type": "stream",
     "text": [
      "int32\n"
     ]
    }
   ],
   "source": [
    "# .dtype attribut\n",
    "print(arr.dtype)\n",
    "lst = [1.1, 1.2, 2.5]"
   ]
  },
  {
   "cell_type": "code",
   "execution_count": 5,
   "id": "f0128c93-c7ab-4144-87af-fee49f729dc0",
   "metadata": {},
   "outputs": [
    {
     "name": "stdout",
     "output_type": "stream",
     "text": [
      "float64\n"
     ]
    }
   ],
   "source": [
    "arr = np.array([1.1, 1.2, 2.5])\n",
    "print(arr.dtype)"
   ]
  },
  {
   "cell_type": "code",
   "execution_count": 6,
   "id": "2a4c9ba5-4dba-455a-a5a7-730fd3a3bf2b",
   "metadata": {},
   "outputs": [
    {
     "name": "stdout",
     "output_type": "stream",
     "text": [
      "56\n",
      "104\n"
     ]
    }
   ],
   "source": [
    "\"\"\"\n",
    "Size Comparison of ndarray and list objects\n",
    "\"\"\"\n",
    "\n",
    "from sys import getsizeof\n",
    "\n",
    "lst = []\n",
    "print(getsizeof(lst))\n",
    "\n",
    "arr = np.array([])\n",
    "print(getsizeof(arr))"
   ]
  },
  {
   "cell_type": "code",
   "execution_count": 7,
   "id": "5b87e4c2-abf3-49a9-a24d-1dfd7cdde442",
   "metadata": {},
   "outputs": [
    {
     "name": "stdout",
     "output_type": "stream",
     "text": [
      "[25, 20, 35, 15, 15, 30, 45, 30]\n",
      "[25 20 35 15 15 30 45 30]\n"
     ]
    }
   ],
   "source": [
    "\"\"\"\n",
    "Operations with Numpy arrays\n",
    "\"\"\"\n",
    "\n",
    "prices = [30, 25, 40, 20, 20, 35, 50, 35]\n",
    "price_arr = np.array(prices)\n",
    "#With a list\n",
    "new_prices = [price -5 for price in prices]\n",
    "print(new_prices)\n",
    "\n",
    "price_arr -=5\n",
    "print(price_arr)"
   ]
  },
  {
   "cell_type": "code",
   "execution_count": 8,
   "id": "f7b151bf-d5cc-414e-b448-207eac398c7a",
   "metadata": {
    "tags": []
   },
   "outputs": [
    {
     "name": "stdout",
     "output_type": "stream",
     "text": [
      "[89 87 74 92 94]\n",
      "[260 281 248 276 272]\n",
      "[86.66666667 93.66666667 82.66666667 92.         90.66666667]\n",
      "[[ 92  94  88  91  87]\n",
      " [ 79 100  86  93  91]\n",
      " [ 89  87  74  92  94]]\n",
      "93\n",
      "[94 88]\n",
      "[87 91 94]\n"
     ]
    }
   ],
   "source": [
    "# Exercise: Operation with Test Scores\n",
    "\"\"\"\n",
    "Exercise: Test Scores\n",
    "\"\"\"\n",
    "test_1 = np.array([92, 94, 88, 91, 87])\n",
    "test_2 = np.array([79, 100, 86, 93, 91])\n",
    "test_3 = np.array([87, 85, 72, 90 ,92])\n",
    "\n",
    "test_3_fixed = test_3 +2\n",
    "print(test_3_fixed)\n",
    "\n",
    "total_grade = test_1 + test_2 + test_3_fixed\n",
    "print(total_grade)\n",
    "\n",
    "final_grade = total_grade /3\n",
    "print(final_grade)\n",
    "\n",
    "student_scores = np.array([test_1, test_2, test_3_fixed])\n",
    "print(student_scores)\n",
    "\n",
    "jeremy_test_2 = student_scores[1,3]\n",
    "print(jeremy_test_2)\n",
    "\n",
    "manual_adwoa_test_1 = np.array([student_scores[0, 1], student_scores[0, 2]])\n",
    "print(manual_adwoa_test_1)\n",
    "\n",
    "print(student_scores[:, 4])"
   ]
  },
  {
   "cell_type": "code",
   "execution_count": 9,
   "id": "5d218d1f-8fb4-478e-a88d-2f92d46ebead",
   "metadata": {
    "tags": []
   },
   "outputs": [
    {
     "name": "stdout",
     "output_type": "stream",
     "text": [
      "[ True False False False False False  True  True  True  True]\n",
      "[10  9  8  9  7]\n",
      "[10  2  2  4  5  3  9  8  9  7]\n",
      "[5]\n"
     ]
    }
   ],
   "source": [
    "a = np.array([10, 2, 2, 4, 5, 3, 9, 8, 9, 7])\n",
    "mask = a > 5\n",
    "print(mask)\n",
    "\n",
    "# select using logical operations \n",
    "selected = a[a > 5]\n",
    "print(selected)\n",
    "# combined logical operations\n",
    "selected = a[(a > 5) & a < 4]\n",
    "print(selected)\n",
    "\n",
    "selected = a[(a > 4) & (a < 7)]\n",
    "print(selected)"
   ]
  },
  {
   "cell_type": "code",
   "execution_count": 10,
   "id": "2248dfb2-b48d-4608-a7da-d4d6ee3e16d4",
   "metadata": {},
   "outputs": [],
   "source": [
    "# Exercise: Goldilocks Porridge Festival\n",
    "\n"
   ]
  },
  {
   "cell_type": "code",
   "execution_count": 11,
   "id": "d0dfb971-a1ee-40e9-9f00-7fb296bcf61a",
   "metadata": {},
   "outputs": [
    {
     "name": "stdout",
     "output_type": "stream",
     "text": [
      "[0 1 2]\n",
      "[3 4 5 6 7 8]\n",
      "[3 4 5 6 7 8]\n"
     ]
    }
   ],
   "source": [
    "\"\"\"\n",
    "\n",
    "\"\"\"\n",
    "#\n",
    "print(np.arange(3))\n",
    "print(np.arange(3, 9))\n",
    "print(np.arange(3, 9, 1))"
   ]
  },
  {
   "cell_type": "code",
   "execution_count": 12,
   "id": "c1f58f97-3678-428e-a429-fa5ef81e805d",
   "metadata": {},
   "outputs": [
    {
     "name": "stdout",
     "output_type": "stream",
     "text": [
      "[[5 0 3 3 7 9]\n",
      " [3 5 2 4 7 6]\n",
      " [8 8 1 6 7 7]\n",
      " [8 1 5 9 8 9]\n",
      " [4 3 0 3 5 0]]\n"
     ]
    }
   ],
   "source": [
    "# Radoom number generator\n",
    "\n",
    "np.random.seed(0)\n",
    "arr1 = np.random.randint(10, size=(5, 6))\n",
    "print(arr1)"
   ]
  },
  {
   "cell_type": "code",
   "execution_count": 13,
   "id": "75b3ad0f-3df2-415b-9c32-1bda99d179f9",
   "metadata": {},
   "outputs": [
    {
     "name": "stdout",
     "output_type": "stream",
     "text": [
      "[[5 8 9 5]\n",
      " [0 0 1 7]\n",
      " [6 9 2 4]]\n",
      "arr.ndim = 2\n",
      "arr.shape = (3, 4)\n",
      "arr.size = 12\n",
      "arr.dtype = int32\n",
      "arr.itemsize = 4\n",
      "arr.nbytes = 48\n"
     ]
    }
   ],
   "source": [
    "# Attributes\n",
    "\n",
    "np.random.seed(1)\n",
    "arr = np.random.randint(10, size=(3, 4))\n",
    "print(arr)\n",
    "\n",
    "print(\"arr.ndim =\", arr.ndim)\n",
    "print(\"arr.shape =\", arr.shape)\n",
    "print(\"arr.size =\", arr.size)\n",
    "print(\"arr.dtype =\", arr.dtype)\n",
    "print(\"arr.itemsize =\", arr.itemsize)\n",
    "print(\"arr.nbytes =\", arr.nbytes)\n",
    "\n"
   ]
  },
  {
   "cell_type": "code",
   "execution_count": 20,
   "id": "fc21b0d4-9ce3-4f65-bd77-a6f7959a3e06",
   "metadata": {},
   "outputs": [
    {
     "name": "stdout",
     "output_type": "stream",
     "text": [
      "[0 1 2 3 4 5 6 7 8 9]\n",
      "[3 4 5 6]\n",
      "[0 1 2 3 4]\n",
      "[5 6 7 8 9]\n",
      "[0 3 6 9]\n",
      "[2 4 6]\n"
     ]
    }
   ],
   "source": [
    "\"\"\"\n",
    "Slicing\n",
    "\"\"\"\n",
    "arr = np.arange(10)\n",
    "print(arr)\n",
    "\n",
    "print(arr[3:7])\n",
    "print(arr[:5])\n",
    "print(arr[5:])\n",
    "print(arr[::3])\n",
    "print(arr[2:8:2])"
   ]
  },
  {
   "cell_type": "code",
   "execution_count": 22,
   "id": "5a31b956-99fd-4a68-9575-e8c51835f4c9",
   "metadata": {},
   "outputs": [
    {
     "name": "stdout",
     "output_type": "stream",
     "text": [
      "[[8 8 6 2 8 7 2 1]\n",
      " [5 4 4 5 7 3 6 4]\n",
      " [3 7 6 1 3 5 8 4]\n",
      " [6 3 9 2 0 4 2 4]\n",
      " [1 7 8 2 9 8 7 1]\n",
      " [6 8 5 9 9 9 3 0]]\n",
      "[[8 8]\n",
      " [5 4]]\n",
      "[[99  8]\n",
      " [ 5  4]]\n"
     ]
    }
   ],
   "source": [
    "# Multi-dimensional subarrays\n",
    "np.random.seed(2)\n",
    "arr = np.random.randint(10, size=(6, 8))\n",
    "print(arr)\n",
    "arr_sub = arr[:2, :2]\n",
    "print(arr_sub)\n",
    "\n",
    "arr_sub[0, 0] = 99\n",
    "print(arr_sub)"
   ]
  },
  {
   "cell_type": "code",
   "execution_count": 23,
   "id": "d4bd1a1a-f80b-457b-9738-6f1e19707e52",
   "metadata": {},
   "outputs": [
    {
     "name": "stdout",
     "output_type": "stream",
     "text": [
      "[[8 8 6 2 8 7 2 1]\n",
      " [5 4 4 5 7 3 6 4]\n",
      " [3 7 6 1 3 5 8 4]\n",
      " [6 3 9 2 0 4 2 4]\n",
      " [1 7 8 2 9 8 7 1]\n",
      " [6 8 5 9 9 9 3 0]]\n",
      "[[8 8]\n",
      " [5 4]]\n",
      "[[99  8]\n",
      " [ 5  4]]\n"
     ]
    }
   ],
   "source": [
    "\"\"\"\n",
    "Subarrays as no-copy views\n",
    "\"\"\"\n",
    "\n",
    "np.random.seed(2)\n",
    "arr = np.random.randint(10, size=(6, 8))\n",
    "print(arr)\n",
    "\n",
    "arr_sub = arr[:2, :2].copy()\n",
    "print(arr_sub)\n",
    "\n",
    "arr_sub[0,0] = 99\n",
    "print(arr_sub)"
   ]
  },
  {
   "cell_type": "code",
   "execution_count": 29,
   "id": "b9ce1653-d642-4a46-8712-d128a17df712",
   "metadata": {},
   "outputs": [
    {
     "name": "stdout",
     "output_type": "stream",
     "text": [
      "[1 2 3 4 5 6 7 8 9] \n",
      "\n",
      "[[1 2 3]\n",
      " [4 5 6]\n",
      " [7 8 9]] \n",
      "\n"
     ]
    }
   ],
   "source": [
    "\"\"\"\n",
    "Reshaping of arr\n",
    "\"\"\"\n",
    "\n",
    "arr = np.arange(1, 10)\n",
    "print(arr, '\\n')\n",
    "\n",
    "grid =arr.reshape(3, 3)\n",
    "print(grid, '\\n')"
   ]
  },
  {
   "cell_type": "code",
   "execution_count": 30,
   "id": "7f4380c8-abcf-4bd1-a148-5ec2e88b5287",
   "metadata": {},
   "outputs": [],
   "source": [
    "# np. newaxi"
   ]
  },
  {
   "cell_type": "code",
   "execution_count": 36,
   "id": "eee02312-344c-4480-9687-9c03fe8a65fe",
   "metadata": {},
   "outputs": [
    {
     "name": "stdout",
     "output_type": "stream",
     "text": [
      "[[1 2 3 4 5 6 7 8 9]\n",
      " [1 2 3 4 5 6 7 8 9]]\n",
      "[[1 2 3]\n",
      " [1 2 3]\n",
      " [4 5 6]\n",
      " [4 5 6]\n",
      " [7 8 9]\n",
      " [7 8 9]]\n",
      "[[1 2 3 4 5 6 7 8 9]\n",
      " [1 2 3 4 5 6 7 8 9]]\n"
     ]
    }
   ],
   "source": [
    "\"\"\"\n",
    "Array Concatenation\n",
    "\"\"\"\n",
    "# np.concatenate() , np.vstack(), np.hstack\n",
    "\n",
    "arr_1 = np.array([[1, 2, 3], [1, 2, 3]])\n",
    "arr_2 = np.array([[4, 5, 6], [4, 5, 6]])\n",
    "arr_3 = np.array([[7, 8, 9], [7, 8, 9]])\n",
    "\n",
    "arr_total = np.concatenate([arr_1, arr_2, arr_3], axis=1)\n",
    "print(arr_total)\n",
    "\n",
    "arr_total = np.vstack([arr_1, arr_2, arr_3])\n",
    "print(arr_total)\n",
    "\n",
    "arr_total = np.hstack([arr_1, arr_2, arr_3])\n",
    "print(arr_total)"
   ]
  },
  {
   "cell_type": "code",
   "execution_count": 39,
   "id": "cc0143a2-483b-4f5b-917d-3f276de0f7dd",
   "metadata": {},
   "outputs": [
    {
     "name": "stdout",
     "output_type": "stream",
     "text": [
      "[1, 2, 3, 99, 99, 3, 2, 1] \n",
      "\n",
      "[1 2 3] [99 99] [3 2 1]\n"
     ]
    }
   ],
   "source": [
    "\"\"\"\n",
    "Array Splitting\n",
    "\"\"\"\n",
    "arr = [1, 2, 3, 99, 99, 3, 2, 1]\n",
    "print(arr, '\\n')\n",
    "\n",
    "arr_1, arr_2, arr_3 = np.split(arr, [3, 5])\n",
    "print(arr_1, arr_2, arr_3)"
   ]
  },
  {
   "cell_type": "code",
   "execution_count": null,
   "id": "4d1a0be3-1831-48d0-83e7-b3cf2e2daea5",
   "metadata": {},
   "outputs": [],
   "source": []
  }
 ],
 "metadata": {
  "kernelspec": {
   "display_name": "Python 3",
   "language": "python",
   "name": "python3"
  },
  "language_info": {
   "codemirror_mode": {
    "name": "ipython",
    "version": 3
   },
   "file_extension": ".py",
   "mimetype": "text/x-python",
   "name": "python",
   "nbconvert_exporter": "python",
   "pygments_lexer": "ipython3",
   "version": "3.8.8"
  }
 },
 "nbformat": 4,
 "nbformat_minor": 5
}
