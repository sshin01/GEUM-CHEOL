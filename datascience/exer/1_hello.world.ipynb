{
 "cells": [
  {
   "cell_type": "code",
   "execution_count": 1,
   "id": "eb520584-ca56-4b98-afe6-fdab2e74d208",
   "metadata": {},
   "outputs": [
    {
     "name": "stdout",
     "output_type": "stream",
     "text": [
      "Hello world!\n",
      "100\n",
      "3.14\n"
     ]
    }
   ],
   "source": [
    "\"\"\" \n",
    "print() function\n",
    "\"\"\"\n",
    "\n",
    "\n",
    "print(\"Hello world!\")\n",
    "print(100)\n",
    "pi = 3.14\n",
    "print(pi)"
   ]
  },
  {
   "cell_type": "code",
   "execution_count": 5,
   "id": "56eb1a95-9505-40e7-b874-9bce78ac6a5d",
   "metadata": {},
   "outputs": [
    {
     "name": "stdout",
     "output_type": "stream",
     "text": [
      "My name isGeum Cheol\n"
     ]
    }
   ],
   "source": [
    "intro = \"My name is\"\n",
    "name = \"Geum Cheol\"\n",
    "print(intro + name)"
   ]
  },
  {
   "cell_type": "code",
   "execution_count": 9,
   "id": "9ac336c9-0f3d-42d4-aa48-bad1233479c1",
   "metadata": {},
   "outputs": [],
   "source": [
    "\"\"\"\n",
    "Variables\n",
    "\"\"\"\n",
    "\n",
    "user_name = \"Geum Cheol\"\n",
    "user_id = 201755012\n",
    "user_email = \"kja6023@hs.ac.kr\"\n",
    "is_student = True\n",
    "\n",
    "#실습"
   ]
  },
  {
   "cell_type": "code",
   "execution_count": 12,
   "id": "45d29093-eca6-446f-b0ae-54e127ae7a59",
   "metadata": {},
   "outputs": [
    {
     "name": "stdout",
     "output_type": "stream",
     "text": [
      "x =  1\n",
      "Address of x:  140707874285360\n",
      "x =  2\n",
      "Address of x:  140707874285392\n"
     ]
    }
   ],
   "source": [
    "# Declare and Initialize a variable\n",
    "x = 1\n",
    "print('x = ' , x)\n",
    "print(\"Address of x: \", id(x))\n",
    "\n",
    "#(Re)Assign a value to the variable\n",
    "x = 2\n",
    "print('x = ' , x)\n",
    "print(\"Address of x: \", id(x))\n",
    "\n"
   ]
  },
  {
   "cell_type": "code",
   "execution_count": 13,
   "id": "5f19cafa-513c-44fc-b9bc-4ab12523b962",
   "metadata": {},
   "outputs": [],
   "source": [
    "# Valid cases:\n",
    "myvar = \"Shin\"\n",
    "my_var = \"Shin\"\n",
    "_my_var = \"Shin\"\n",
    "myVar = \"Shin\"\n",
    "MYVAR = \"Shin\"\n",
    "myvar2 = \"Shin\""
   ]
  },
  {
   "cell_type": "code",
   "execution_count": 15,
   "id": "a5d4ef83-b54d-4ec9-b21e-691741a24e5e",
   "metadata": {},
   "outputs": [],
   "source": [
    "\"\"\"\n",
    "Data Types: Integers\n",
    "\"\"\"\n",
    "\n",
    "chairs = 7\n",
    "tables = 1\n",
    "smartphone = 5\n",
    "sofas = 1\n",
    "broken_chairs = -1\n",
    "\n",
    "#실습"
   ]
  },
  {
   "cell_type": "code",
   "execution_count": 16,
   "id": "c3fdf12a-0e2f-40fa-b111-dc991b5e502f",
   "metadata": {},
   "outputs": [],
   "source": [
    "\"\"\"\n",
    "Data Types: Real Numbers\n",
    "\"\"\"\n",
    "\n",
    "PI = 3.14\n",
    "Kospi_index = 3125.76\n",
    "Krw_usd_exhange = 1176.83\n",
    "Kosdaq_index =  1035.66\n",
    "\n",
    "#실습 본인이 알고 있는 실수를 변수로 정의"
   ]
  },
  {
   "cell_type": "code",
   "execution_count": 17,
   "id": "8d2cfc30-46a5-4fcb-ba32-22a31df36599",
   "metadata": {},
   "outputs": [],
   "source": [
    "\"\"\"\n",
    "Data Types: Strings\n",
    "\"\"\"\n",
    "\n",
    "favorite_color = \"Black\"\n",
    "favorite_game =  \"Genshin\"\n",
    "favorite_sport = \"Baseball\"\n",
    "\n",
    "\n",
    "#실습 본인이 좋아하는 것들을 문자열 변수로 정의"
   ]
  },
  {
   "cell_type": "code",
   "execution_count": 20,
   "id": "6219731a-1a37-4467-8691-4cd1b39982a7",
   "metadata": {},
   "outputs": [
    {
     "name": "stdout",
     "output_type": "stream",
     "text": [
      "16\n"
     ]
    }
   ],
   "source": [
    "\"\"\"\n",
    "Plus-Equals Operations\n",
    "\"\"\"\n",
    "\n",
    "a = 8\n",
    "a *= 2\n",
    "print(a)"
   ]
  },
  {
   "cell_type": "code",
   "execution_count": 22,
   "id": "99f084f6-5c26-4bf1-bd4b-559ebc511364",
   "metadata": {
    "collapsed": true,
    "jupyter": {
     "outputs_hidden": true
    },
    "tags": []
   },
   "outputs": [
    {
     "name": "stdout",
     "output_type": "stream",
     "text": [
      "HSU\n"
     ]
    }
   ],
   "source": [
    "\"\"\"\n",
    "Erros\n",
    "\"\"\"\n",
    "\n",
    "#Name Erros\n",
    "\n",
    "\n",
    "my_school = \"HSU\"\n",
    "print(my_school)"
   ]
  },
  {
   "cell_type": "code",
   "execution_count": 2,
   "id": "69fd640a-aaca-47ed-bd10-1ad369109997",
   "metadata": {},
   "outputs": [
    {
     "name": "stdout",
     "output_type": "stream",
     "text": [
      "<class 'bool'>\n"
     ]
    }
   ],
   "source": [
    "is_tested = True\n",
    "print(type(is_tested)) # 변수가 어떤 데이터 타입인지를 알려주는 함수\n"
   ]
  },
  {
   "cell_type": "code",
   "execution_count": 4,
   "id": "13a37fd1-cd26-4dcb-8c62-d628087e9fdb",
   "metadata": {},
   "outputs": [
    {
     "name": "stdout",
     "output_type": "stream",
     "text": [
      "True\n",
      "True\n",
      "False\n"
     ]
    }
   ],
   "source": [
    "# 1\n",
    "print(\"Yes\" == 'Yes')\n",
    "\n",
    "# 2\n",
    "print((2 > 1) == (5 < 10))\n",
    "\n",
    "# 3\n",
    "c = '2'\n",
    "d = 2\n",
    "print(c == d)\n"
   ]
  },
  {
   "cell_type": "code",
   "execution_count": 6,
   "id": "7ef7daaa-7f6d-4a20-a463-5a4b836e8d8e",
   "metadata": {},
   "outputs": [
    {
     "name": "stdout",
     "output_type": "stream",
     "text": [
      "False\n"
     ]
    }
   ],
   "source": [
    "\"\"\"\n",
    "conditional statements\n",
    "\"\"\"\n",
    "\n",
    "puppy = \"maltepoo\"\n",
    "is_yes = False\n",
    "\n",
    "if puppy == \"maltese\":\n",
    "    is_yes = True\n",
    "    print(\"말티즈가 맞습니다.\")\n",
    "\n",
    "elif puppy == \"poodle\":\n",
    "    is_yes = True\n",
    "    print(\"푸들이 맞습니다.\")\n",
    "    \n",
    "print(is_yes)"
   ]
  },
  {
   "cell_type": "code",
   "execution_count": 9,
   "id": "088c4449-ed41-45b2-9bb1-57e0f2465e6d",
   "metadata": {},
   "outputs": [
    {
     "name": "stdout",
     "output_type": "stream",
     "text": [
      "[Error]\n",
      "continue...\n"
     ]
    }
   ],
   "source": [
    "\"Exception Handling\"\n",
    "\n",
    "x = 1\n",
    "\n",
    "try:\n",
    "    print(y)\n",
    "    print(x)\n",
    "except:\n",
    "    print('[Error]')\n",
    "\n",
    "print(\"continue...\")"
   ]
  },
  {
   "cell_type": "code",
   "execution_count": 3,
   "id": "b7a05de2-1582-4f45-9d2c-174204d97b92",
   "metadata": {},
   "outputs": [
    {
     "name": "stdout",
     "output_type": "stream",
     "text": [
      "[2, 3, 5, 7, 11, 2]\n",
      "[]\n"
     ]
    }
   ],
   "source": [
    "#리스트 소수\n",
    "\"\"\"\n",
    "Lists\n",
    "\"\"\"\n",
    "primes = [2,3,5,7,11,2]\n",
    "print(primes)\n",
    "\n",
    "empty_list = []\n",
    "print(empty_list)"
   ]
  },
  {
   "cell_type": "code",
   "execution_count": 6,
   "id": "38333732-3c8a-455d-a9b0-1b87b25a7584",
   "metadata": {},
   "outputs": [
    {
     "name": "stdout",
     "output_type": "stream",
     "text": [
      "['Jenny', 1, 1.4, True]\n"
     ]
    }
   ],
   "source": [
    "\"\"\"\n",
    "Multiple differnet data types\n",
    "\"\"\"\n",
    "mixed =['Jenny', 1, 1.4, True]\n",
    "print(mixed)\n",
    "list_of_lists = [ ['a', 1],['b', 2] ]"
   ]
  },
  {
   "cell_type": "code",
   "execution_count": 7,
   "id": "2b07386d-8ac7-42eb-bf74-dd3844e726e8",
   "metadata": {},
   "outputs": [
    {
     "name": "stdout",
     "output_type": "stream",
     "text": [
      "Roger\n",
      "Rafael\n",
      "Andy\n",
      "Novak\n"
     ]
    }
   ],
   "source": [
    "\"\"\"\n",
    "Zero-indexing\n",
    "\"\"\"\n",
    "\n",
    "names = ['Roger','Rafael','Andy','Novak']\n",
    "\n",
    "print(names[0]) #first data\n",
    "print(names[1])\n",
    "print(names[2])\n",
    "print(names[3])"
   ]
  },
  {
   "cell_type": "code",
   "execution_count": 9,
   "id": "be9b285f-6f22-41e5-9d57-4bd8948a1c6c",
   "metadata": {},
   "outputs": [
    {
     "name": "stdout",
     "output_type": "stream",
     "text": [
      "Novak\n",
      "Andy\n",
      "Rafael\n",
      "Roger\n"
     ]
    }
   ],
   "source": [
    "\"\"\"\n",
    "Negative indexing\n",
    "\"\"\"\n",
    "print(names[-1]) #last data\n",
    "print(names[-2]) #second to last data\n",
    "print(names[-3]) #third to last data\n",
    "print(names[-4])"
   ]
  },
  {
   "cell_type": "code",
   "execution_count": 18,
   "id": "646fdb30-077d-442b-b8e2-26672f613459",
   "metadata": {},
   "outputs": [
    {
     "name": "stdout",
     "output_type": "stream",
     "text": [
      "['생활관', '필헌관', '소통관']\n",
      "['만우관', '장공관', '필헌관', '소통관', '송암관', '늦봄관', '장준하통일관']\n",
      "['만우관', '장공관', '필헌관', '소통관', '송암관', '늦봄관', '장준하통일관']\n"
     ]
    }
   ],
   "source": [
    "#인덱스 구간에 있는 값을 구하는 방법\n",
    "\"\"\"\n",
    "List slicing\n",
    "\"\"\"\n",
    "hsu_buildings = ['만우관', '장공관', '필헌관', '소통관', '송암관', '늦봄관', '장준하통일관']\n",
    "building_slice = hsu_buildings[1:4] #독립적인 객체\n",
    "building_slice[0] = '생활관'\n",
    "\n",
    "print(building_slice)\n",
    "print(hsu_buildings)\n",
    "print(hsu_buildings[:])"
   ]
  },
  {
   "cell_type": "code",
   "execution_count": null,
   "id": "c933a3ec-89e2-48cb-9764-77caaae6fb15",
   "metadata": {},
   "outputs": [],
   "source": [
    "27;00"
   ]
  }
 ],
 "metadata": {
  "kernelspec": {
   "display_name": "Python 3",
   "language": "python",
   "name": "python3"
  },
  "language_info": {
   "codemirror_mode": {
    "name": "ipython",
    "version": 3
   },
   "file_extension": ".py",
   "mimetype": "text/x-python",
   "name": "python",
   "nbconvert_exporter": "python",
   "pygments_lexer": "ipython3",
   "version": "3.8.8"
  }
 },
 "nbformat": 4,
 "nbformat_minor": 5
}
