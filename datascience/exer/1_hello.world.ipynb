{
 "cells": [
  {
   "cell_type": "code",
   "execution_count": 67,
   "id": "eb520584-ca56-4b98-afe6-fdab2e74d208",
   "metadata": {},
   "outputs": [
    {
     "name": "stdout",
     "output_type": "stream",
     "text": [
      "Hello world!\n",
      "100\n",
      "3.14\n"
     ]
    }
   ],
   "source": [
    "\"\"\" \n",
    "print() function\n",
    "\"\"\"\n",
    "\n",
    "\n",
    "print(\"Hello world!\")\n",
    "print(100)\n",
    "pi = 3.14\n",
    "print(pi)"
   ]
  },
  {
   "cell_type": "code",
   "execution_count": 68,
   "id": "56eb1a95-9505-40e7-b874-9bce78ac6a5d",
   "metadata": {},
   "outputs": [
    {
     "name": "stdout",
     "output_type": "stream",
     "text": [
      "My name isGeum Cheol\n"
     ]
    }
   ],
   "source": [
    "intro = \"My name is\"\n",
    "name = \"Geum Cheol\"\n",
    "print(intro + name)"
   ]
  },
  {
   "cell_type": "code",
   "execution_count": 69,
   "id": "9ac336c9-0f3d-42d4-aa48-bad1233479c1",
   "metadata": {},
   "outputs": [],
   "source": [
    "\"\"\"\n",
    "Variables\n",
    "\"\"\"\n",
    "\n",
    "user_name = \"Geum Cheol\"\n",
    "user_id = 201755012\n",
    "user_email = \"kja6023@hs.ac.kr\"\n",
    "is_student = True\n",
    "\n",
    "#실습"
   ]
  },
  {
   "cell_type": "code",
   "execution_count": 70,
   "id": "45d29093-eca6-446f-b0ae-54e127ae7a59",
   "metadata": {},
   "outputs": [
    {
     "name": "stdout",
     "output_type": "stream",
     "text": [
      "x =  1\n",
      "Address of x:  140717397845808\n",
      "x =  2\n",
      "Address of x:  140717397845840\n"
     ]
    }
   ],
   "source": [
    "# Declare and Initialize a variable\n",
    "x = 1\n",
    "print('x = ' , x)\n",
    "print(\"Address of x: \", id(x))\n",
    "\n",
    "#(Re)Assign a value to the variable\n",
    "x = 2\n",
    "print('x = ' , x)\n",
    "print(\"Address of x: \", id(x))\n",
    "\n"
   ]
  },
  {
   "cell_type": "code",
   "execution_count": 71,
   "id": "5f19cafa-513c-44fc-b9bc-4ab12523b962",
   "metadata": {},
   "outputs": [],
   "source": [
    "# Valid cases:\n",
    "myvar = \"Shin\"\n",
    "my_var = \"Shin\"\n",
    "_my_var = \"Shin\"\n",
    "myVar = \"Shin\"\n",
    "MYVAR = \"Shin\"\n",
    "myvar2 = \"Shin\""
   ]
  },
  {
   "cell_type": "code",
   "execution_count": 72,
   "id": "a5d4ef83-b54d-4ec9-b21e-691741a24e5e",
   "metadata": {},
   "outputs": [],
   "source": [
    "\"\"\"\n",
    "Data Types: Integers\n",
    "\"\"\"\n",
    "\n",
    "chairs = 7\n",
    "tables = 1\n",
    "smartphone = 5\n",
    "sofas = 1\n",
    "broken_chairs = -1\n",
    "\n",
    "#실습"
   ]
  },
  {
   "cell_type": "code",
   "execution_count": 73,
   "id": "c3fdf12a-0e2f-40fa-b111-dc991b5e502f",
   "metadata": {},
   "outputs": [],
   "source": [
    "\"\"\"\n",
    "Data Types: Real Numbers\n",
    "\"\"\"\n",
    "\n",
    "PI = 3.14\n",
    "Kospi_index = 3125.76\n",
    "Krw_usd_exhange = 1176.83\n",
    "Kosdaq_index =  1035.66\n",
    "\n",
    "#실습 본인이 알고 있는 실수를 변수로 정의"
   ]
  },
  {
   "cell_type": "code",
   "execution_count": 74,
   "id": "8d2cfc30-46a5-4fcb-ba32-22a31df36599",
   "metadata": {},
   "outputs": [],
   "source": [
    "\"\"\"\n",
    "Data Types: Strings\n",
    "\"\"\"\n",
    "\n",
    "favorite_color = \"Black\"\n",
    "favorite_game =  \"Genshin\"\n",
    "favorite_sport = \"Baseball\"\n",
    "\n",
    "\n",
    "#실습 본인이 좋아하는 것들을 문자열 변수로 정의"
   ]
  },
  {
   "cell_type": "code",
   "execution_count": 75,
   "id": "6219731a-1a37-4467-8691-4cd1b39982a7",
   "metadata": {},
   "outputs": [
    {
     "name": "stdout",
     "output_type": "stream",
     "text": [
      "16\n"
     ]
    }
   ],
   "source": [
    "\"\"\"\n",
    "Plus-Equals Operations\n",
    "\"\"\"\n",
    "\n",
    "a = 8\n",
    "a *= 2\n",
    "print(a)"
   ]
  },
  {
   "cell_type": "code",
   "execution_count": 76,
   "id": "99f084f6-5c26-4bf1-bd4b-559ebc511364",
   "metadata": {
    "tags": []
   },
   "outputs": [
    {
     "name": "stdout",
     "output_type": "stream",
     "text": [
      "HSU\n"
     ]
    }
   ],
   "source": [
    "\"\"\"\n",
    "Erros\n",
    "\"\"\"\n",
    "\n",
    "#Name Erros\n",
    "\n",
    "\n",
    "my_school = \"HSU\"\n",
    "print(my_school)"
   ]
  },
  {
   "cell_type": "code",
   "execution_count": 77,
   "id": "69fd640a-aaca-47ed-bd10-1ad369109997",
   "metadata": {},
   "outputs": [
    {
     "name": "stdout",
     "output_type": "stream",
     "text": [
      "<class 'bool'>\n"
     ]
    }
   ],
   "source": [
    "is_tested = True\n",
    "print(type(is_tested)) # 변수가 어떤 데이터 타입인지를 알려주는 함수\n"
   ]
  },
  {
   "cell_type": "code",
   "execution_count": 78,
   "id": "13a37fd1-cd26-4dcb-8c62-d628087e9fdb",
   "metadata": {},
   "outputs": [
    {
     "name": "stdout",
     "output_type": "stream",
     "text": [
      "True\n",
      "True\n",
      "False\n"
     ]
    }
   ],
   "source": [
    "# 1\n",
    "print(\"Yes\" == 'Yes')\n",
    "\n",
    "# 2\n",
    "print((2 > 1) == (5 < 10))\n",
    "\n",
    "# 3\n",
    "c = '2'\n",
    "d = 2\n",
    "print(c == d)\n"
   ]
  },
  {
   "cell_type": "code",
   "execution_count": 79,
   "id": "7ef7daaa-7f6d-4a20-a463-5a4b836e8d8e",
   "metadata": {},
   "outputs": [
    {
     "name": "stdout",
     "output_type": "stream",
     "text": [
      "False\n"
     ]
    }
   ],
   "source": [
    "\"\"\"\n",
    "conditional statements\n",
    "\"\"\"\n",
    "\n",
    "puppy = \"maltepoo\"\n",
    "is_yes = False\n",
    "\n",
    "if puppy == \"maltese\":\n",
    "    is_yes = True\n",
    "    print(\"말티즈가 맞습니다.\")\n",
    "\n",
    "elif puppy == \"poodle\":\n",
    "    is_yes = True\n",
    "    print(\"푸들이 맞습니다.\")\n",
    "    \n",
    "print(is_yes)"
   ]
  },
  {
   "cell_type": "code",
   "execution_count": 80,
   "id": "088c4449-ed41-45b2-9bb1-57e0f2465e6d",
   "metadata": {},
   "outputs": [
    {
     "name": "stdout",
     "output_type": "stream",
     "text": [
      "[Error]\n",
      "continue...\n"
     ]
    }
   ],
   "source": [
    "\"Exception Handling\"\n",
    "\n",
    "x = 1\n",
    "\n",
    "try:\n",
    "    print(y)\n",
    "    print(x)\n",
    "except:\n",
    "    print('[Error]')\n",
    "\n",
    "print(\"continue...\")"
   ]
  },
  {
   "cell_type": "code",
   "execution_count": 81,
   "id": "b7a05de2-1582-4f45-9d2c-174204d97b92",
   "metadata": {},
   "outputs": [
    {
     "name": "stdout",
     "output_type": "stream",
     "text": [
      "[2, 3, 5, 7, 11, 2]\n",
      "[]\n"
     ]
    }
   ],
   "source": [
    "#리스트 소수\n",
    "\"\"\"\n",
    "Lists\n",
    "\"\"\"\n",
    "primes = [2,3,5,7,11,2]\n",
    "print(primes)\n",
    "\n",
    "empty_list = []\n",
    "print(empty_list)"
   ]
  },
  {
   "cell_type": "code",
   "execution_count": 2,
   "id": "38333732-3c8a-455d-a9b0-1b87b25a7584",
   "metadata": {},
   "outputs": [
    {
     "name": "stdout",
     "output_type": "stream",
     "text": [
      "['Jenny', 1, 1.4, True]\n"
     ]
    }
   ],
   "source": [
    "\"\"\"\n",
    "Multiple differnet data types\n",
    "\"\"\"\n",
    "mixed =['Jenny', 1, 1.4, True]\n",
    "print(mixed)\n",
    "list_of_lists = [ ['a', 1],['b', 2] ]"
   ]
  },
  {
   "cell_type": "code",
   "execution_count": 83,
   "id": "2b07386d-8ac7-42eb-bf74-dd3844e726e8",
   "metadata": {},
   "outputs": [
    {
     "name": "stdout",
     "output_type": "stream",
     "text": [
      "Roger\n",
      "Rafael\n",
      "Andy\n",
      "Novak\n"
     ]
    }
   ],
   "source": [
    "\"\"\"\n",
    "Zero-indexing\n",
    "\"\"\"\n",
    "\n",
    "names = ['Roger','Rafael','Andy','Novak']\n",
    "\n",
    "print(names[0]) #first data\n",
    "print(names[1])\n",
    "print(names[2])\n",
    "print(names[3])"
   ]
  },
  {
   "cell_type": "code",
   "execution_count": 84,
   "id": "be9b285f-6f22-41e5-9d57-4bd8948a1c6c",
   "metadata": {},
   "outputs": [
    {
     "name": "stdout",
     "output_type": "stream",
     "text": [
      "Novak\n",
      "Andy\n",
      "Rafael\n",
      "Roger\n"
     ]
    }
   ],
   "source": [
    "\"\"\"\n",
    "Negative indexing\n",
    "\"\"\"\n",
    "print(names[-1]) #last data\n",
    "print(names[-2]) #second to last data\n",
    "print(names[-3]) #third to last data\n",
    "print(names[-4])"
   ]
  },
  {
   "cell_type": "code",
   "execution_count": 85,
   "id": "646fdb30-077d-442b-b8e2-26672f613459",
   "metadata": {},
   "outputs": [
    {
     "name": "stdout",
     "output_type": "stream",
     "text": [
      "['생활관', '필헌관', '소통관']\n",
      "['만우관', '장공관', '필헌관', '소통관', '송암관', '늦봄관', '장준하통일관']\n",
      "['만우관', '장공관', '필헌관', '소통관', '송암관', '늦봄관', '장준하통일관']\n"
     ]
    }
   ],
   "source": [
    "#인덱스 구간에 있는 값을 구하는 방법\n",
    "\"\"\"\n",
    "List slicing\n",
    "\"\"\"\n",
    "hsu_buildings = ['만우관', '장공관', '필헌관', '소통관', '송암관', '늦봄관', '장준하통일관']\n",
    "building_slice = hsu_buildings[1:4] #독립적인 객체\n",
    "building_slice[0] = '생활관'\n",
    "\n",
    "print(building_slice)\n",
    "print(hsu_buildings)\n",
    "print(hsu_buildings[:])"
   ]
  },
  {
   "cell_type": "code",
   "execution_count": 86,
   "id": "c933a3ec-89e2-48cb-9764-77caaae6fb15",
   "metadata": {},
   "outputs": [
    {
     "name": "stdout",
     "output_type": "stream",
     "text": [
      "[['해우리', '청정원', '맥도날드'], ['짜장명가', ' 중식', '중화비빔밥'], ['찌개동아리', '한식', '제육전골'], ['맘스터치', '양식', '싸이버거']]\n",
      "['해우리', '청정원', '해우라면']\n"
     ]
    }
   ],
   "source": [
    "\"\"\"\n",
    "Multi-dimensinal Lists\n",
    "\"\"\"\n",
    "\n",
    "foodstore = [['해우리', '청정원', '맥도날드'], ['짜장명가', ' 중식', '중화비빔밥'], ['찌개동아리', '한식', '제육전골'], ['맘스터치', '양식', '싸이버거']]\n",
    "\n",
    "print(foodstore)\n",
    "\n",
    "foodstore[0][2] = '해우라면'\n",
    "print(foodstore[0])"
   ]
  },
  {
   "cell_type": "code",
   "execution_count": 87,
   "id": "b25ad05f-a0d2-4aab-a429-47d4ee7532f9",
   "metadata": {},
   "outputs": [
    {
     "name": "stdout",
     "output_type": "stream",
     "text": [
      "['cake', 'cookie', 'bread', 'biscuit', 'tart']\n"
     ]
    }
   ],
   "source": [
    "\"\"\"\n",
    "\n",
    "Adding Lists Together\n",
    "\"\"\"\n",
    "items_one = ['cake', 'cookie', 'bread']\n",
    "items_two = ['biscuit', 'tart']\n",
    "\n",
    "total_items = items_one + items_two\n",
    "print(total_items)"
   ]
  },
  {
   "cell_type": "code",
   "execution_count": 88,
   "id": "91bf90c3-7a69-4279-acc0-04266e8ee0f7",
   "metadata": {},
   "outputs": [
    {
     "name": "stdout",
     "output_type": "stream",
     "text": [
      "5\n"
     ]
    }
   ],
   "source": [
    "\"\"\"\n",
    "Useful Methods for Lists\n",
    "\"\"\"\n",
    "\n",
    "# Len()\n",
    "knapsack = [2, 4, 3, 7, 10]\n",
    "size = len(knapsack)\n",
    "print(size)"
   ]
  },
  {
   "cell_type": "code",
   "execution_count": 89,
   "id": "97a60557-5ffa-4d84-a2b0-9633691309f9",
   "metadata": {},
   "outputs": [
    {
     "name": "stdout",
     "output_type": "stream",
     "text": [
      "['daisies', 'periwinkle', 'tulips']\n"
     ]
    }
   ],
   "source": [
    "# append()\n",
    "orders = ['daisies', 'periwinkle']\n",
    "orders.append('tulips')\n",
    "\n",
    "print(orders)"
   ]
  },
  {
   "cell_type": "code",
   "execution_count": 90,
   "id": "74b4375e-f45e-4866-93a6-0e773000d008",
   "metadata": {},
   "outputs": [
    {
     "name": "stdout",
     "output_type": "stream",
     "text": [
      "['Karla', 'Maxium', 'Vikor', 'Martin', 'Isabella']\n"
     ]
    }
   ],
   "source": [
    "# insert()\n",
    "store_line = ['Karla', 'Maxium', 'Martin', 'Isabella']\n",
    "store_line.insert(2, 'Vikor')\n",
    "\n",
    "print(store_line)"
   ]
  },
  {
   "cell_type": "code",
   "execution_count": 91,
   "id": "e90ad436-b17b-4f6c-b445-cb37d7be584a",
   "metadata": {},
   "outputs": [
    {
     "data": {
      "text/plain": [
       "'Data Engineering'"
      ]
     },
     "execution_count": 91,
     "metadata": {},
     "output_type": "execute_result"
    }
   ],
   "source": [
    "# pop()\n",
    "\n",
    "sw_subjects = ['C Programming', 'Calculus', 'Data Engineering', 'Data Structures', 'Machine Learning']\n",
    "sw_subjects.pop(2)\n",
    "\n",
    "\n"
   ]
  },
  {
   "cell_type": "code",
   "execution_count": 92,
   "id": "5eb0e760-22d7-45ed-b7ec-3e4e36ba83b7",
   "metadata": {},
   "outputs": [
    {
     "name": "stdout",
     "output_type": "stream",
     "text": [
      "['C Programming', 'Data Engineering', 'Data Structures', 'Machine Learning']\n"
     ]
    }
   ],
   "source": [
    "sw_subjects = ['C Programming', 'Calculus', 'Data Engineering', 'Data Structures', 'Machine Learning']\n",
    "sw_subjects.remove('Calculus')\n",
    "print(sw_subjects)"
   ]
  },
  {
   "cell_type": "code",
   "execution_count": 93,
   "id": "44e71c37-6aab-4692-a5eb-97a147a14e48",
   "metadata": {
    "tags": []
   },
   "outputs": [
    {
     "ename": "ValueError",
     "evalue": "list.remove(x): x not in list",
     "output_type": "error",
     "traceback": [
      "\u001b[1;31m---------------------------------------------------------------------------\u001b[0m",
      "\u001b[1;31mValueError\u001b[0m                                Traceback (most recent call last)",
      "\u001b[1;32m<ipython-input-93-bf100646bdac>\u001b[0m in \u001b[0;36m<module>\u001b[1;34m\u001b[0m\n\u001b[0;32m      1\u001b[0m \u001b[1;31m# Error\u001b[0m\u001b[1;33m\u001b[0m\u001b[1;33m\u001b[0m\u001b[1;33m\u001b[0m\u001b[0m\n\u001b[0;32m      2\u001b[0m \u001b[0msw_subjects\u001b[0m \u001b[1;33m=\u001b[0m \u001b[1;33m[\u001b[0m\u001b[1;34m'C Programming'\u001b[0m\u001b[1;33m,\u001b[0m \u001b[1;34m'Calculus'\u001b[0m\u001b[1;33m,\u001b[0m \u001b[1;34m'Data Engineering'\u001b[0m\u001b[1;33m,\u001b[0m \u001b[1;34m'Data Structures'\u001b[0m\u001b[1;33m,\u001b[0m \u001b[1;34m'Machine Learning'\u001b[0m\u001b[1;33m]\u001b[0m\u001b[1;33m\u001b[0m\u001b[1;33m\u001b[0m\u001b[0m\n\u001b[1;32m----> 3\u001b[1;33m \u001b[0msw_subjects\u001b[0m\u001b[1;33m.\u001b[0m\u001b[0mremove\u001b[0m\u001b[1;33m(\u001b[0m\u001b[1;34m'Algorithms'\u001b[0m\u001b[1;33m)\u001b[0m\u001b[1;33m\u001b[0m\u001b[1;33m\u001b[0m\u001b[0m\n\u001b[0m\u001b[0;32m      4\u001b[0m \u001b[0mprint\u001b[0m\u001b[1;33m(\u001b[0m\u001b[0msw_subjects\u001b[0m\u001b[1;33m)\u001b[0m\u001b[1;33m\u001b[0m\u001b[1;33m\u001b[0m\u001b[0m\n",
      "\u001b[1;31mValueError\u001b[0m: list.remove(x): x not in list"
     ]
    }
   ],
   "source": [
    "# Error\n",
    "sw_subjects = ['C Programming', 'Calculus', 'Data Engineering', 'Data Structures', 'Machine Learning']\n",
    "sw_subjects.remove('Algorithms')\n",
    "print(sw_subjects)"
   ]
  },
  {
   "cell_type": "code",
   "execution_count": null,
   "id": "2819b3f4-3114-45c4-847f-3089e5dc69d5",
   "metadata": {
    "jupyter": {
     "source_hidden": true
    },
    "tags": []
   },
   "outputs": [],
   "source": [
    "# sort()\n",
    "\n",
    "numbers = [4, 2, 1, 3]\n",
    "numbers.sort()\n",
    "print(numbers)\n",
    "\n"
   ]
  },
  {
   "cell_type": "code",
   "execution_count": null,
   "id": "5da62043-d388-4295-9b9b-0590fc24c256",
   "metadata": {},
   "outputs": [],
   "source": [
    "hsu_buildings = ['만우관', '장공관', '필헌관', '소통관', '송암관', '늦봄관', '장준하통일관']\n",
    "hsu_buildings.sort()\n",
    "\n",
    "print(hsu_buildings)"
   ]
  },
  {
   "cell_type": "code",
   "execution_count": null,
   "id": "92dd17d5-2ed1-4e47-9dd1-ed12d56abbb2",
   "metadata": {},
   "outputs": [],
   "source": [
    "# sorted()\n",
    "\n",
    "numbers = [4, 2, 1, 3]\n",
    "sorted_numbers = sorted(numbers)\n",
    "print(sorted_numbers)"
   ]
  },
  {
   "cell_type": "code",
   "execution_count": null,
   "id": "89ab3583-9c3b-4887-bd7b-836afa113024",
   "metadata": {},
   "outputs": [],
   "source": [
    "\"\"\"\n",
    "for Loops\n",
    "\"\"\"\n",
    "nums = [1, 2, 3, 4, 5]\n",
    "for num in nums:\n",
    "    print(num)\n",
    "    \n",
    "# range()\n",
    "for i in range(4):\n",
    "    print(i)"
   ]
  },
  {
   "cell_type": "code",
   "execution_count": null,
   "id": "d33bbe87-b1c4-483d-91da-19321d7f26d3",
   "metadata": {},
   "outputs": [],
   "source": [
    "\"\"\"\n",
    "continue Keyword\n",
    "\"\"\"\n",
    "nums = [1, 2, -1, 4, -5, 5, 2, -9]\n",
    "\n",
    "for num in nums:\n",
    "    # If num is negative, we skip it\n",
    "    if num < 0:\n",
    "        continue\n",
    "    print(num)\n",
    "   "
   ]
  },
  {
   "cell_type": "code",
   "execution_count": null,
   "id": "892bbe15-ff13-40ac-97b0-cfcfe7f4af3b",
   "metadata": {},
   "outputs": [],
   "source": [
    "\"\"\"\n",
    "break Keyword\n",
    "\"\"\"\n",
    "\n",
    "game_plays = ['stage1', 'stage2', 'stage3', 'gameover', 'stage4']\n",
    "\n",
    "for play in game_plays:\n",
    "    \n",
    "    if play == 'gameover':\n",
    "        print(\"Game is over...\")\n",
    "        break\n",
    "     \n",
    "    print(play + \" is complete.\")"
   ]
  },
  {
   "cell_type": "code",
   "execution_count": null,
   "id": "76170e83-d021-4a50-82ff-948b978479d2",
   "metadata": {},
   "outputs": [],
   "source": [
    "\"\"\"\n",
    "List Comprehnesion\n",
    "\"\"\"\n",
    "\n",
    "one_to_ten = [i+1 for i in range(10)]\n",
    "print (one_to_ten)\n"
   ]
  },
  {
   "cell_type": "code",
   "execution_count": null,
   "id": "9187de3f-e4b8-41de-8871-c0b118246219",
   "metadata": {},
   "outputs": [],
   "source": [
    "\"\"\"\n",
    "List comprehension including conditions\n",
    "\"\"\"\n",
    "\n",
    "hotspurs = [['손흥민', 'A+'], ['케인', 'F'],['돔벨레', 'F'], ['알리', 'F'],\n",
    "            ['모우라', 'B+'], ['호이비에르','D']]\n",
    "poors = [player[0] for player in hotspurs if player[1] == 'F']\n",
    "print(poors)"
   ]
  },
  {
   "cell_type": "code",
   "execution_count": null,
   "id": "5e09e35e-6420-4008-89be-d421b08a76c6",
   "metadata": {},
   "outputs": [],
   "source": [
    "\"\"\"\n",
    "Nested Loops\n",
    "\"\"\"\n",
    "\n",
    "one_to_nine = [i+1 for i in range(9)]\n",
    "\n",
    "for i in one_to_nine:\n",
    "    for j in one_to_nine:\n",
    "        print(\"%d x %d = %d\" % (i, j, i*j))"
   ]
  },
  {
   "cell_type": "code",
   "execution_count": null,
   "id": "bad0d5a8-0685-4334-9ebf-d5a736448d3b",
   "metadata": {},
   "outputs": [],
   "source": [
    "# Infinite Loop\n",
    "x = 1\n",
    "y = 1\n",
    "while x < 5:\n",
    "    print(\"Do somthing\")\n",
    "    y +=1\n",
    "    if y > 5:\n",
    "        print(\"why doesn't it end?\")"
   ]
  },
  {
   "cell_type": "code",
   "execution_count": 49,
   "id": "a2591c61-e995-49d2-80ae-463541880593",
   "metadata": {},
   "outputs": [
    {
     "name": "stdout",
     "output_type": "stream",
     "text": [
      "3\n"
     ]
    },
    {
     "data": {
      "text/plain": [
       "array([[-2.66590391e-01, -2.71998007e+00],\n",
       "       [ 1.89857439e+00,  2.00797760e+00],\n",
       "       [ 1.08122833e+00, -1.29506499e+00],\n",
       "       [-3.20694607e-01, -3.01236325e+00],\n",
       "       [ 8.00676220e-01,  2.48873278e-01],\n",
       "       [ 4.37570121e-01, -2.58770608e+00],\n",
       "       [ 1.44484589e+00,  1.65825555e+00],\n",
       "       [ 3.73443783e-01, -1.70315425e+00],\n",
       "       [ 1.49524476e+00,  1.24543952e+00],\n",
       "       [ 7.37965857e-01,  9.98228260e-01],\n",
       "       [ 1.57877273e+00,  3.63632100e+00],\n",
       "       [-2.52574718e-02, -9.31294540e-01],\n",
       "       [ 4.29368951e-01, -1.11768692e+00],\n",
       "       [ 1.47163922e+00,  1.12576827e+00],\n",
       "       [ 1.04453806e+00,  1.68157702e+00],\n",
       "       [ 1.79084221e+00,  2.47981907e+00],\n",
       "       [ 1.95831099e+00,  2.39872339e+00],\n",
       "       [ 1.62499709e+00,  2.49516840e+00],\n",
       "       [ 1.94255316e+00,  3.52925434e+00],\n",
       "       [-8.17425266e-01, -2.58446991e+00],\n",
       "       [ 1.51691384e+00,  1.28717773e+00],\n",
       "       [ 1.04260992e+00,  2.93476910e+00],\n",
       "       [ 1.19682744e+00,  7.85704345e-01],\n",
       "       [ 1.98842468e-02,  9.07091034e-01],\n",
       "       [ 6.52794199e-01,  8.29826877e-01],\n",
       "       [ 8.57478965e-01,  2.74651299e-01],\n",
       "       [ 2.18923685e+00,  3.49294590e+00],\n",
       "       [ 9.68502130e-01,  1.55891378e+00],\n",
       "       [-1.31436945e-01, -7.23712786e-01],\n",
       "       [ 3.97422857e-01,  5.03319980e-01],\n",
       "       [ 1.21752093e+00,  2.88123670e+00],\n",
       "       [ 6.40189827e-01, -1.91311960e-01],\n",
       "       [ 5.77588126e-01, -1.01590709e-01],\n",
       "       [-6.27097945e-01, -1.28312406e+00],\n",
       "       [-4.84792374e-01, -4.09616263e+00],\n",
       "       [ 2.52723792e+00,  4.14104857e+00],\n",
       "       [ 5.16849697e-01,  7.81930392e-01],\n",
       "       [ 1.48225423e+00, -2.45501095e-02],\n",
       "       [ 9.66043442e-01,  1.81421491e+00],\n",
       "       [ 4.95811129e-01,  6.07575349e-01],\n",
       "       [ 1.28223121e+00,  1.46406744e+00],\n",
       "       [ 6.70719778e-01,  6.48883926e-01],\n",
       "       [ 7.71252310e-01,  5.76568255e-01],\n",
       "       [ 1.47512375e+00,  2.55572231e+00],\n",
       "       [ 4.55217042e-01,  9.07322168e-01],\n",
       "       [-1.78511984e-01, -1.64476775e+00],\n",
       "       [ 1.59114963e+00,  1.73580464e+00],\n",
       "       [ 5.79145471e-01,  6.76795759e-02],\n",
       "       [ 1.30099558e+00,  1.77385650e+00],\n",
       "       [ 1.30568080e+00,  2.49352315e+00],\n",
       "       [ 9.44494118e-01,  2.19139454e+00],\n",
       "       [ 4.00069664e-01,  1.94124810e-01],\n",
       "       [ 1.94674679e+00,  3.46898717e+00],\n",
       "       [ 6.80780472e-01, -8.02942207e-01],\n",
       "       [ 1.23347278e+00,  1.59895489e+00],\n",
       "       [ 2.14798871e+00,  4.11261598e+00],\n",
       "       [ 5.47172007e-01, -1.02355683e+00],\n",
       "       [ 1.17832687e+00,  1.01138075e-02],\n",
       "       [ 1.65407930e+00,  8.30187722e-01],\n",
       "       [-1.92534329e-01, -1.43644180e+00],\n",
       "       [ 1.31938461e+00,  9.32033768e-01],\n",
       "       [-9.29574283e-01, -1.52922881e+00],\n",
       "       [ 2.24349192e+00,  5.34006937e+00],\n",
       "       [-6.33104693e-01, -2.57680227e+00],\n",
       "       [ 1.77759124e+00,  3.81174955e+00],\n",
       "       [ 1.39825898e+00,  1.30780326e+00],\n",
       "       [ 1.92574396e+00,  3.83084111e+00],\n",
       "       [ 5.06156843e-01, -8.67147645e-01],\n",
       "       [ 9.56970668e-01, -3.42508192e-01],\n",
       "       [ 2.41356471e-01, -7.81123416e-01],\n",
       "       [ 1.21130445e+00,  1.40000514e+00],\n",
       "       [-8.99162386e-02, -8.19050859e-01],\n",
       "       [ 4.58141852e-01, -1.59114574e-01],\n",
       "       [ 6.91458772e-01,  9.24445554e-01],\n",
       "       [ 5.24001920e-01,  5.89627299e-01],\n",
       "       [ 2.21828261e+00,  1.30574500e+00],\n",
       "       [-7.96669665e-01, -9.70374561e-01],\n",
       "       [ 6.30560173e-01, -3.13884991e-04],\n",
       "       [ 1.17161857e+00,  1.28546056e+00],\n",
       "       [ 1.41329378e+00,  7.83315134e-01],\n",
       "       [ 1.85927863e+00,  1.99530807e+00],\n",
       "       [ 8.83659201e-01,  3.98046397e-01],\n",
       "       [ 6.09340398e-01, -1.32233046e-01],\n",
       "       [ 7.02922149e-03, -1.16611609e+00],\n",
       "       [-2.98236734e-01, -4.18682700e+00],\n",
       "       [ 1.25268899e+00,  2.58580757e+00],\n",
       "       [-1.24071996e+00, -4.67869687e+00],\n",
       "       [ 1.04626182e+00,  8.66725147e-01],\n",
       "       [-1.20158015e-01, -2.01528046e+00],\n",
       "       [ 4.94080168e-01, -5.67549277e-01],\n",
       "       [ 2.05570147e+00,  3.88807041e+00],\n",
       "       [ 4.02217302e-02,  8.26678928e-02],\n",
       "       [ 1.33829398e+00,  1.14848603e+00],\n",
       "       [ 3.87950444e-01, -2.17046387e-01],\n",
       "       [ 7.68678300e-01,  3.62403395e-01],\n",
       "       [-2.13411797e-01, -1.52949918e+00],\n",
       "       [-1.18485819e+00, -3.07211516e+00],\n",
       "       [ 1.01391107e+00, -7.27942266e-01],\n",
       "       [ 2.82694509e-01, -2.76818466e-01],\n",
       "       [-1.48912338e-01, -6.43223772e-01]])"
      ]
     },
     "execution_count": 49,
     "metadata": {},
     "output_type": "execute_result"
    }
   ],
   "source": [
    "\"\"\"\n",
    "Functions vs method\n",
    "\"\"\"\n",
    "#functions\n",
    "\n",
    "def my_function(x):\n",
    "    return x+1\n",
    "y = 2\n",
    "result =my_function(y)\n",
    "print(result)\n",
    "\n",
    "#method\n",
    "\n",
    "class my_class:\n",
    "    def my_method(self):\n",
    "        return x+1\n",
    "    \n",
    "cls = my_class()\n",
    "cls.my_method()"
   ]
  },
  {
   "cell_type": "code",
   "execution_count": null,
   "id": "16eab49e-651d-449a-a45b-fb079db32511",
   "metadata": {},
   "outputs": [],
   "source": [
    "\"\"\" #실습 참고\n",
    "Function Parameters\n",
    "\"\"\"\n",
    "def introduce_myself(name, birthyear, city): #parameter\n",
    "    print(\"Hello everyone, MY name is %s, I was born in %d, and I live in %s\"\n",
    "    % (name, birthyear, city))\n",
    "introduce_myself(\"Hyun Ahn\", 1985, \"Anyang\") #ar\n",
    "\n"
   ]
  },
  {
   "cell_type": "code",
   "execution_count": null,
   "id": "c946167d-d478-4771-8925-6f7bbf0ad8bf",
   "metadata": {},
   "outputs": [],
   "source": [
    "\"\"\"\n",
    "Return Keyword\n",
    "\"\"\"\n",
    "\n",
    "# Leap year = 윤년 (2월 29일)\n",
    "def check_leap_year(year):\n",
    "    if year % 6 == 0:\n",
    "        return \"%s is a leap year.\" % (year)\n",
    "    else:\n",
    "        return \"%s is not a leap year.\" % (year)\n",
    "check_leap_year(2021)"
   ]
  },
  {
   "cell_type": "code",
   "execution_count": null,
   "id": "27b32fc6-df34-4d43-911b-60e119aee433",
   "metadata": {},
   "outputs": [],
   "source": [
    "\"\"\"\n",
    "Returning Multiple Values\n",
    "\"\"\"\n",
    "\n",
    "\n",
    "def square_point(x, y, z):\n",
    "    x_squared = x ** 2\n",
    "    y_squared = y ** 2\n",
    "    z_squared = z ** 2\n",
    "    return x_squared, y_squared, z_squared\n",
    "three_squared, four_squared, five_squared = square_point(3, 4, 5)\n",
    "\n",
    "print(three_squared, four_squared, five_squared)"
   ]
  },
  {
   "cell_type": "code",
   "execution_count": null,
   "id": "8f1413ff-8750-4f37-9c85-86c3b20565ec",
   "metadata": {},
   "outputs": [],
   "source": [
    "\"\"\"\n",
    "Global variables\n",
    "\"\"\"\n",
    "\n",
    "a = \"Hello\"\n",
    "\n",
    "def prints_a():\n",
    "    print(a)\n",
    "    \n",
    "prints_a()"
   ]
  },
  {
   "cell_type": "code",
   "execution_count": null,
   "id": "175093a2-89f8-4ea7-b52f-e43108dd4b2e",
   "metadata": {
    "tags": []
   },
   "outputs": [],
   "source": [
    "\"\"\"\n",
    "Local Variables\n",
    "\"\"\"\n",
    "\n",
    "def f1():\n",
    "    a = 2 # local var.\n",
    "    print(c)\n",
    "f1()\n",
    "print(c)"
   ]
  },
  {
   "cell_type": "code",
   "execution_count": null,
   "id": "0c60b812-b264-471f-8017-6dce497e9161",
   "metadata": {},
   "outputs": [],
   "source": [
    "\"\"\"\n",
    "Keyworld Arguments and Default Valuves\n",
    "\"\"\"\n",
    "def findvolume(height, width, depth):\n",
    "    print(\"Height = %s\" % (height))\n",
    "    print(\"Width = %s\" % (width))\n",
    "    print(\"Depth = %s\" % (depth))\n",
    "    return height * width * depth\n",
    "#EX: height = 3, width = 1, depth = 2\n",
    "print(findvolume(height=3, depth=2, width=1 ))"
   ]
  },
  {
   "cell_type": "code",
   "execution_count": 1,
   "id": "a1fe0703-7ef8-4a55-a6a4-bf9d22eba3f1",
   "metadata": {},
   "outputs": [],
   "source": [
    "import numpy as np\n",
    "import pandas as pd\n",
    "from matplotlib import pyplot as plt"
   ]
  },
  {
   "cell_type": "code",
   "execution_count": 2,
   "id": "3ab6fe23-10f9-4a57-9651-6da6bb7401d1",
   "metadata": {},
   "outputs": [
    {
     "name": "stdout",
     "output_type": "stream",
     "text": [
      "[1 2 3 4]\n",
      "<class 'numpy.ndarray'>\n"
     ]
    }
   ],
   "source": [
    "# Creating a NumPy Array\n",
    "lst = [1, 2, 3, 4]\n",
    "\n",
    "arr = np.array(lst)\n",
    "print(arr)\n",
    "print(type(arr))"
   ]
  },
  {
   "cell_type": "code",
   "execution_count": 3,
   "id": "948f7ebf-1a6a-4c27-a05b-919f1d711d7e",
   "metadata": {},
   "outputs": [
    {
     "name": "stdout",
     "output_type": "stream",
     "text": [
      "int32\n"
     ]
    }
   ],
   "source": [
    "# .dtype attribut\n",
    "print(arr.dtype)\n",
    "lst = [1.1, 1.2, 2.5]"
   ]
  },
  {
   "cell_type": "code",
   "execution_count": 4,
   "id": "f0128c93-c7ab-4144-87af-fee49f729dc0",
   "metadata": {},
   "outputs": [
    {
     "name": "stdout",
     "output_type": "stream",
     "text": [
      "float64\n"
     ]
    }
   ],
   "source": [
    "arr = np.array([1.1, 1.2, 2.5])\n",
    "print(arr.dtype)"
   ]
  },
  {
   "cell_type": "code",
   "execution_count": 5,
   "id": "2a4c9ba5-4dba-455a-a5a7-730fd3a3bf2b",
   "metadata": {},
   "outputs": [
    {
     "name": "stdout",
     "output_type": "stream",
     "text": [
      "56\n",
      "104\n"
     ]
    }
   ],
   "source": [
    "\"\"\"\n",
    "Size Comparison of ndarray and list objects\n",
    "\"\"\"\n",
    "\n",
    "from sys import getsizeof\n",
    "\n",
    "lst = []\n",
    "print(getsizeof(lst))\n",
    "\n",
    "arr = np.array([])\n",
    "print(getsizeof(arr))"
   ]
  },
  {
   "cell_type": "code",
   "execution_count": 6,
   "id": "5b87e4c2-abf3-49a9-a24d-1dfd7cdde442",
   "metadata": {},
   "outputs": [
    {
     "name": "stdout",
     "output_type": "stream",
     "text": [
      "[25, 20, 35, 15, 15, 30, 45, 30]\n",
      "[25 20 35 15 15 30 45 30]\n"
     ]
    }
   ],
   "source": [
    "\"\"\"\n",
    "Operations with Numpy arrays\n",
    "\"\"\"\n",
    "\n",
    "prices = [30, 25, 40, 20, 20, 35, 50, 35]\n",
    "price_arr = np.array(prices)\n",
    "#With a list\n",
    "new_prices = [price -5 for price in prices]\n",
    "print(new_prices)\n",
    "\n",
    "price_arr -=5\n",
    "print(price_arr)"
   ]
  },
  {
   "cell_type": "code",
   "execution_count": 7,
   "id": "f7b151bf-d5cc-414e-b448-207eac398c7a",
   "metadata": {
    "tags": []
   },
   "outputs": [
    {
     "name": "stdout",
     "output_type": "stream",
     "text": [
      "[89 87 74 92 94]\n",
      "[260 281 248 276 272]\n",
      "[86.66666667 93.66666667 82.66666667 92.         90.66666667]\n",
      "[[ 92  94  88  91  87]\n",
      " [ 79 100  86  93  91]\n",
      " [ 89  87  74  92  94]]\n",
      "93\n",
      "[94 88]\n",
      "[87 91 94]\n"
     ]
    }
   ],
   "source": [
    "# Exercise: Operation with Test Scores\n",
    "\"\"\"\n",
    "Exercise: Test Scores\n",
    "\"\"\"\n",
    "test_1 = np.array([92, 94, 88, 91, 87])\n",
    "test_2 = np.array([79, 100, 86, 93, 91])\n",
    "test_3 = np.array([87, 85, 72, 90 ,92])\n",
    "\n",
    "test_3_fixed = test_3 +2\n",
    "print(test_3_fixed)\n",
    "\n",
    "total_grade = test_1 + test_2 + test_3_fixed\n",
    "print(total_grade)\n",
    "\n",
    "final_grade = total_grade /3\n",
    "print(final_grade)\n",
    "\n",
    "student_scores = np.array([test_1, test_2, test_3_fixed])\n",
    "print(student_scores)\n",
    "\n",
    "jeremy_test_2 = student_scores[1,3]\n",
    "print(jeremy_test_2)\n",
    "\n",
    "manual_adwoa_test_1 = np.array([student_scores[0, 1], student_scores[0, 2]])\n",
    "print(manual_adwoa_test_1)\n",
    "\n",
    "print(student_scores[:, 4])"
   ]
  },
  {
   "cell_type": "code",
   "execution_count": 8,
   "id": "5d218d1f-8fb4-478e-a88d-2f92d46ebead",
   "metadata": {
    "tags": []
   },
   "outputs": [
    {
     "name": "stdout",
     "output_type": "stream",
     "text": [
      "[ True False False False False False  True  True  True  True]\n",
      "[10  9  8  9  7]\n",
      "[10  2  2  4  5  3  9  8  9  7]\n",
      "[5]\n"
     ]
    }
   ],
   "source": [
    "a = np.array([10, 2, 2, 4, 5, 3, 9, 8, 9, 7])\n",
    "mask = a > 5\n",
    "print(mask)\n",
    "\n",
    "# select using logical operations \n",
    "selected = a[a > 5]\n",
    "print(selected)\n",
    "# combined logical operations\n",
    "selected = a[(a > 5) & a < 4]\n",
    "print(selected)\n",
    "\n",
    "selected = a[(a > 4) & (a < 7)]\n",
    "print(selected)"
   ]
  },
  {
   "cell_type": "code",
   "execution_count": 9,
   "id": "2248dfb2-b48d-4608-a7da-d4d6ee3e16d4",
   "metadata": {},
   "outputs": [],
   "source": [
    "# Exercise: Goldilocks Porridge Festival\n",
    "\n"
   ]
  },
  {
   "cell_type": "code",
   "execution_count": 10,
   "id": "d0dfb971-a1ee-40e9-9f00-7fb296bcf61a",
   "metadata": {},
   "outputs": [
    {
     "name": "stdout",
     "output_type": "stream",
     "text": [
      "[0 1 2]\n",
      "[3 4 5 6 7 8]\n",
      "[3 4 5 6 7 8]\n"
     ]
    }
   ],
   "source": [
    "\"\"\"\n",
    "\n",
    "\"\"\"\n",
    "#\n",
    "print(np.arange(3))\n",
    "print(np.arange(3, 9))\n",
    "print(np.arange(3, 9, 1))"
   ]
  },
  {
   "cell_type": "code",
   "execution_count": 11,
   "id": "c1f58f97-3678-428e-a429-fa5ef81e805d",
   "metadata": {},
   "outputs": [
    {
     "name": "stdout",
     "output_type": "stream",
     "text": [
      "[[5 0 3 3 7 9]\n",
      " [3 5 2 4 7 6]\n",
      " [8 8 1 6 7 7]\n",
      " [8 1 5 9 8 9]\n",
      " [4 3 0 3 5 0]]\n"
     ]
    }
   ],
   "source": [
    "# Radoom number generator\n",
    "\n",
    "np.random.seed(0)\n",
    "arr1 = np.random.randint(10, size=(5, 6))\n",
    "print(arr1)"
   ]
  },
  {
   "cell_type": "code",
   "execution_count": 12,
   "id": "75b3ad0f-3df2-415b-9c32-1bda99d179f9",
   "metadata": {},
   "outputs": [
    {
     "name": "stdout",
     "output_type": "stream",
     "text": [
      "[[5 8 9 5]\n",
      " [0 0 1 7]\n",
      " [6 9 2 4]]\n",
      "arr.ndim = 2\n",
      "arr.shape = (3, 4)\n",
      "arr.size = 12\n",
      "arr.dtype = int32\n",
      "arr.itemsize = 4\n",
      "arr.nbytes = 48\n"
     ]
    }
   ],
   "source": [
    "# Attributes\n",
    "\n",
    "np.random.seed(1)\n",
    "arr = np.random.randint(10, size=(3, 4))\n",
    "print(arr)\n",
    "\n",
    "print(\"arr.ndim =\", arr.ndim)\n",
    "print(\"arr.shape =\", arr.shape)\n",
    "print(\"arr.size =\", arr.size)\n",
    "print(\"arr.dtype =\", arr.dtype)\n",
    "print(\"arr.itemsize =\", arr.itemsize)\n",
    "print(\"arr.nbytes =\", arr.nbytes)\n",
    "\n"
   ]
  },
  {
   "cell_type": "code",
   "execution_count": 13,
   "id": "fc21b0d4-9ce3-4f65-bd77-a6f7959a3e06",
   "metadata": {},
   "outputs": [
    {
     "name": "stdout",
     "output_type": "stream",
     "text": [
      "[0 1 2 3 4 5 6 7 8 9]\n",
      "[3 4 5 6]\n",
      "[0 1 2 3 4]\n",
      "[5 6 7 8 9]\n",
      "[0 3 6 9]\n",
      "[2 4 6]\n"
     ]
    }
   ],
   "source": [
    "\"\"\"\n",
    "Slicing\n",
    "\"\"\"\n",
    "arr = np.arange(10)\n",
    "print(arr)\n",
    "\n",
    "print(arr[3:7])\n",
    "print(arr[:5])\n",
    "print(arr[5:])\n",
    "print(arr[::3])\n",
    "print(arr[2:8:2])"
   ]
  },
  {
   "cell_type": "code",
   "execution_count": 14,
   "id": "5a31b956-99fd-4a68-9575-e8c51835f4c9",
   "metadata": {},
   "outputs": [
    {
     "name": "stdout",
     "output_type": "stream",
     "text": [
      "[[8 8 6 2 8 7 2 1]\n",
      " [5 4 4 5 7 3 6 4]\n",
      " [3 7 6 1 3 5 8 4]\n",
      " [6 3 9 2 0 4 2 4]\n",
      " [1 7 8 2 9 8 7 1]\n",
      " [6 8 5 9 9 9 3 0]]\n",
      "[[8 8]\n",
      " [5 4]]\n",
      "[[99  8]\n",
      " [ 5  4]]\n"
     ]
    }
   ],
   "source": [
    "# Multi-dimensional subarrays\n",
    "np.random.seed(2)\n",
    "arr = np.random.randint(10, size=(6, 8))\n",
    "print(arr)\n",
    "arr_sub = arr[:2, :2]\n",
    "print(arr_sub)\n",
    "\n",
    "arr_sub[0, 0] = 99\n",
    "print(arr_sub)"
   ]
  },
  {
   "cell_type": "code",
   "execution_count": 15,
   "id": "d4bd1a1a-f80b-457b-9738-6f1e19707e52",
   "metadata": {},
   "outputs": [
    {
     "name": "stdout",
     "output_type": "stream",
     "text": [
      "[[8 8 6 2 8 7 2 1]\n",
      " [5 4 4 5 7 3 6 4]\n",
      " [3 7 6 1 3 5 8 4]\n",
      " [6 3 9 2 0 4 2 4]\n",
      " [1 7 8 2 9 8 7 1]\n",
      " [6 8 5 9 9 9 3 0]]\n",
      "[[8 8]\n",
      " [5 4]]\n",
      "[[99  8]\n",
      " [ 5  4]]\n"
     ]
    }
   ],
   "source": [
    "\"\"\"\n",
    "Subarrays as no-copy views\n",
    "\"\"\"\n",
    "\n",
    "np.random.seed(2)\n",
    "arr = np.random.randint(10, size=(6, 8))\n",
    "print(arr)\n",
    "\n",
    "arr_sub = arr[:2, :2].copy()\n",
    "print(arr_sub)\n",
    "\n",
    "arr_sub[0,0] = 99\n",
    "print(arr_sub)"
   ]
  },
  {
   "cell_type": "code",
   "execution_count": 16,
   "id": "b9ce1653-d642-4a46-8712-d128a17df712",
   "metadata": {},
   "outputs": [
    {
     "name": "stdout",
     "output_type": "stream",
     "text": [
      "[1 2 3 4 5 6 7 8 9] \n",
      "\n",
      "[[1 2 3]\n",
      " [4 5 6]\n",
      " [7 8 9]] \n",
      "\n"
     ]
    }
   ],
   "source": [
    "\"\"\"\n",
    "Reshaping of arr\n",
    "\"\"\"\n",
    "\n",
    "arr = np.arange(1, 10)\n",
    "print(arr, '\\n')\n",
    "\n",
    "grid =arr.reshape(3, 3)\n",
    "print(grid, '\\n')"
   ]
  },
  {
   "cell_type": "code",
   "execution_count": 17,
   "id": "7f4380c8-abcf-4bd1-a148-5ec2e88b5287",
   "metadata": {},
   "outputs": [],
   "source": [
    "# np. newaxi"
   ]
  },
  {
   "cell_type": "code",
   "execution_count": 18,
   "id": "eee02312-344c-4480-9687-9c03fe8a65fe",
   "metadata": {},
   "outputs": [
    {
     "name": "stdout",
     "output_type": "stream",
     "text": [
      "[[1 2 3 4 5 6 7 8 9]\n",
      " [1 2 3 4 5 6 7 8 9]]\n",
      "[[1 2 3]\n",
      " [1 2 3]\n",
      " [4 5 6]\n",
      " [4 5 6]\n",
      " [7 8 9]\n",
      " [7 8 9]]\n",
      "[[1 2 3 4 5 6 7 8 9]\n",
      " [1 2 3 4 5 6 7 8 9]]\n"
     ]
    }
   ],
   "source": [
    "\"\"\"\n",
    "Array Concatenation\n",
    "\"\"\"\n",
    "# np.concatenate() , np.vstack(), np.hstack\n",
    "\n",
    "arr_1 = np.array([[1, 2, 3], [1, 2, 3]])\n",
    "arr_2 = np.array([[4, 5, 6], [4, 5, 6]])\n",
    "arr_3 = np.array([[7, 8, 9], [7, 8, 9]])\n",
    "\n",
    "arr_total = np.concatenate([arr_1, arr_2, arr_3], axis=1)\n",
    "print(arr_total)\n",
    "\n",
    "arr_total = np.vstack([arr_1, arr_2, arr_3])\n",
    "print(arr_total)\n",
    "\n",
    "arr_total = np.hstack([arr_1, arr_2, arr_3])\n",
    "print(arr_total)"
   ]
  },
  {
   "cell_type": "code",
   "execution_count": 19,
   "id": "cc0143a2-483b-4f5b-917d-3f276de0f7dd",
   "metadata": {},
   "outputs": [
    {
     "name": "stdout",
     "output_type": "stream",
     "text": [
      "[1, 2, 3, 99, 99, 3, 2, 1] \n",
      "\n",
      "[1 2 3] [99 99] [3 2 1]\n"
     ]
    }
   ],
   "source": [
    "\"\"\"\n",
    "Array Splitting\n",
    "\"\"\"\n",
    "arr = [1, 2, 3, 99, 99, 3, 2, 1]\n",
    "print(arr, '\\n')\n",
    "\n",
    "arr_1, arr_2, arr_3 = np.split(arr, [3, 5])\n",
    "print(arr_1, arr_2, arr_3)"
   ]
  },
  {
   "cell_type": "code",
   "execution_count": 20,
   "id": "4d1a0be3-1831-48d0-83e7-b3cf2e2daea5",
   "metadata": {},
   "outputs": [
    {
     "name": "stdout",
     "output_type": "stream",
     "text": [
      "[1 3 9 9 3]\n"
     ]
    },
    {
     "data": {
      "text/plain": [
       "array([1.        , 0.33333333, 0.11111111, 0.11111111, 0.33333333])"
      ]
     },
     "execution_count": 20,
     "metadata": {},
     "output_type": "execute_result"
    }
   ],
   "source": [
    "#Function for computing reciprocals\n",
    "def compute_reciprocals(values):\n",
    "    output = np.empty(len(values))\n",
    "    for i in range(len(values)):\n",
    "        output[i] = 1.0 / values[i]\n",
    "    return output\n",
    "\n",
    "values = np.random.randint(1, 10, size=5)\n",
    "print(values)\n",
    "\n",
    "compute_reciprocals(values)"
   ]
  },
  {
   "cell_type": "code",
   "execution_count": 21,
   "id": "04073646-4d77-425a-bd0d-3949775fae6a",
   "metadata": {},
   "outputs": [
    {
     "name": "stdout",
     "output_type": "stream",
     "text": [
      "1.9 s ± 42.7 ms per loop (mean ± std. dev. of 7 runs, 1 loop each)\n"
     ]
    }
   ],
   "source": [
    "\"\"\"\n",
    "Comparison: Loop vs ufuncs\n",
    "\"\"\"\n",
    "big_array = np.random.randint(1, 100, size=1000000)\n",
    "\n",
    "# Looping on a big array\n",
    "%timeit compute_reciprocals(big_array)\n",
    "\n",
    "# magic function (e.g, $timeit)"
   ]
  },
  {
   "cell_type": "code",
   "execution_count": 22,
   "id": "a42723e4-1097-48a1-917b-1949b08b04ef",
   "metadata": {},
   "outputs": [
    {
     "name": "stdout",
     "output_type": "stream",
     "text": [
      "3.34 ms ± 248 µs per loop (mean ± std. dev. of 7 runs, 100 loops each)\n"
     ]
    }
   ],
   "source": [
    "# Vectorized operations\n",
    "%timeit 1 / big_array"
   ]
  },
  {
   "cell_type": "code",
   "execution_count": 23,
   "id": "76500106-3c21-40b1-9d67-8c96bbd09887",
   "metadata": {},
   "outputs": [
    {
     "name": "stdout",
     "output_type": "stream",
     "text": [
      "[5 8 9 5 0] [0 1 7 6 9]\n",
      "[ 3  6  7  3 -2]\n",
      "[ 3  7 14  9  7]\n",
      "[[2 4 5 2 4]\n",
      " [2 4 7 7 9]\n",
      " [1 7 0 6 9]]\n",
      "[[ 4 16 25  4 16]\n",
      " [ 4 16 49 49 81]\n",
      " [ 1 49  0 36 81]]\n"
     ]
    }
   ],
   "source": [
    "\"\"\"\n",
    "numpt.ufunc\n",
    "\"\"\"\n",
    "\n",
    "np.random.seed(1)\n",
    "arr1 = np.random.randint(10, size=(5))\n",
    "arr2 = np.random.randint(10, size=(5))\n",
    "print(arr1, arr2)\n",
    "\n",
    "arr1 = arr1 - 2\n",
    "print(arr1)\n",
    "\n",
    "arr3 =arr1 + arr2\n",
    "print(arr3)\n",
    "\n",
    "arr4 = np.random.randint(10, size=(3, 5))\n",
    "print(arr4)\n",
    "\n",
    "arr5 = arr4 **2\n",
    "print(arr5)"
   ]
  },
  {
   "cell_type": "code",
   "execution_count": 24,
   "id": "d203b72a-4840-426f-acf4-5c226f015f3f",
   "metadata": {},
   "outputs": [
    {
     "name": "stdout",
     "output_type": "stream",
     "text": [
      "x    = [0 1 2 3]\n",
      "x + 5 = [5 6 7 8]\n",
      "x - 5 = [-5 -4 -3 -2]\n",
      "x * 2 = [0 2 4 6]\n",
      "x / 2 = [0.  0.5 1.  1.5]\n",
      "x ** 2 = [0 1 4 9]\n"
     ]
    }
   ],
   "source": [
    "\"\"\"\n",
    "UFuncs: Array Arithmetic\n",
    "\"\"\"\n",
    "\n",
    "# Basic arithmetic operations on an array\n",
    "x = np.arange(4)\n",
    "print(\"x    =\",x)\n",
    "print(\"x + 5 =\", x + 5)\n",
    "print(\"x - 5 =\", x - 5)\n",
    "print(\"x * 2 =\", x * 2)\n",
    "print(\"x / 2 =\", x / 2)\n",
    "print(\"x ** 2 =\", x ** 2)\n",
    "\n",
    "# # Use UFuncs\n",
    "# print(\"x + 5 =\", np.add(x, 5))\n",
    "# print(\"x - 5 =\", np.subtrack(x, 5))\n",
    "# print(\"x * 2 =\", np.multiply(x, 2))\n",
    "# print(\"x / 2 =\", np.divide(x, 2))\n",
    "# print(\"x ** 2 =\", np.power(x, 2))\n"
   ]
  },
  {
   "cell_type": "code",
   "execution_count": 25,
   "id": "87497738-472d-4289-b9e7-20e5866b942a",
   "metadata": {},
   "outputs": [],
   "source": [
    "# Use UFuncs"
   ]
  },
  {
   "cell_type": "code",
   "execution_count": 26,
   "id": "93ae2b67-6803-43b5-bbd9-88dcd49239f8",
   "metadata": {},
   "outputs": [
    {
     "name": "stdout",
     "output_type": "stream",
     "text": [
      "[2 1 0 1 2]\n",
      "[5. 5. 2. 1.]\n"
     ]
    }
   ],
   "source": [
    "\"\"\"\n",
    "\n",
    "\"\"\"\n",
    "x= np.array([-2, -1, 0, 1, 2])\n",
    "print(np.abs(x))\n",
    "\n",
    "x= np.array([3-4j, 4-3j, 2+0j, 0+1j])\n",
    "print(np.abs(x))"
   ]
  },
  {
   "cell_type": "code",
   "execution_count": 27,
   "id": "eaf79bdd-5d35-4e61-a905-489d33b28f31",
   "metadata": {},
   "outputs": [
    {
     "name": "stdout",
     "output_type": "stream",
     "text": [
      "[0.         1.57079633 3.14159265]\n",
      "[0.0000000e+00 1.0000000e+00 1.2246468e-16]\n",
      "[ 1.000000e+00  6.123234e-17 -1.000000e+00]\n",
      "[ 0.00000000e+00  1.63312394e+16 -1.22464680e-16]\n"
     ]
    }
   ],
   "source": [
    "\"\"\"\n",
    "UFuncs: Trigonometric Functions\n",
    "\"\"\"\n",
    "theta = np.linspace(0, np.pi, 3)\n",
    "\n",
    "print(theta)\n",
    "\n",
    "print(np.sin(theta))\n",
    "print(np.cos(theta))\n",
    "print(np.tan(theta))"
   ]
  },
  {
   "cell_type": "code",
   "execution_count": 28,
   "id": "2e51d760-e62a-491e-bb99-ec5af6a3a5b8",
   "metadata": {},
   "outputs": [
    {
     "name": "stdout",
     "output_type": "stream",
     "text": [
      "[1 2 3 4]\n",
      "10\n",
      "24\n"
     ]
    }
   ],
   "source": [
    "\"\"\"\n",
    "UFuncs:Agregation\n",
    "\"\"\"\n",
    "x = np.arange(1, 5)\n",
    "print(x)\n",
    "\n",
    "aggr = np.add.reduce(x)\n",
    "print(aggr)\n",
    "\n",
    "aggr = np.multiply.reduce(x)\n",
    "print(aggr)"
   ]
  },
  {
   "cell_type": "code",
   "execution_count": 29,
   "id": "e2610563-2a0e-4884-a03e-509da74f0fa5",
   "metadata": {
    "tags": []
   },
   "outputs": [
    {
     "name": "stdout",
     "output_type": "stream",
     "text": [
      "[ 1  2  3  4  5  6  7  8  9 10 11 12 13 14]\n",
      "[         1          2          6         24        120        720\n",
      "       5040      40320     362880    3628800   39916800  479001600\n",
      " 1932053504 1278945280]\n"
     ]
    }
   ],
   "source": [
    "# accumulate()\n",
    "\n",
    "x = np.arange(1, 15)\n",
    "print(x)\n",
    "\n",
    "accum = np.multiply.accumulate(x)\n",
    "print(accum)"
   ]
  },
  {
   "cell_type": "code",
   "execution_count": 30,
   "id": "b34feb17-a7f9-4acc-85fd-f2d4b0b7430a",
   "metadata": {},
   "outputs": [
    {
     "name": "stdout",
     "output_type": "stream",
     "text": [
      "[0.4359949  0.02592623 0.54966248 ... 0.78483191 0.00778062 0.42442656]\n",
      "sum = 499468.5166853333\n",
      "75.3 ms ± 6.64 ms per loop (mean ± std. dev. of 7 runs, 10 loops each)\n"
     ]
    }
   ],
   "source": [
    "# Summing the volues in an Array\n",
    "\n",
    "np.random.seed(2)\n",
    "arr = np.random.rand(1000000) # rand(): create 0~1 real values\n",
    "\n",
    "print(arr)\n",
    "print('sum =', np.sum(arr))\n",
    "\n",
    "%timeit sum(arr)"
   ]
  },
  {
   "cell_type": "code",
   "execution_count": 31,
   "id": "97fc254b-8fc0-45a6-a8ea-8a363e361db5",
   "metadata": {
    "tags": []
   },
   "outputs": [
    {
     "name": "stdout",
     "output_type": "stream",
     "text": [
      "1.49 ms ± 240 µs per loop (mean ± std. dev. of 7 runs, 1000 loops each)\n"
     ]
    }
   ],
   "source": [
    "%timeit np.sum(arr)"
   ]
  },
  {
   "cell_type": "code",
   "execution_count": 32,
   "id": "6cafee13-165b-4543-a0aa-30ee71fa4b1b",
   "metadata": {},
   "outputs": [
    {
     "name": "stdout",
     "output_type": "stream",
     "text": [
      "max = 0.9999976661165695\n",
      "min = 9.475783189216713e-07\n",
      "mean = 0.49946851668533326\n",
      "median = 0.49948650836352526\n",
      "percentile = 0.49948650836352526\n",
      "False\n",
      "True\n"
     ]
    }
   ],
   "source": [
    "# Other Aggr. functions\n",
    "print(\"max =\", np.max(arr))\n",
    "print(\"min =\", np.min(arr))\n",
    "print(\"mean =\", np.mean(arr))\n",
    "print(\"median =\", np.median(arr))\n",
    "print(\"percentile =\", np.percentile(arr, 50))\n",
    "print(np.any(arr>1))\n",
    "print(np.all(arr>0))"
   ]
  },
  {
   "cell_type": "code",
   "execution_count": 33,
   "id": "ea2bdae5-57d8-4699-8218-c2fb8c743227",
   "metadata": {},
   "outputs": [
    {
     "name": "stdout",
     "output_type": "stream",
     "text": [
      "[[3 6 6 0]\n",
      " [9 8 4 7]\n",
      " [0 0 7 1]]\n",
      "[15 28  8]\n"
     ]
    }
   ],
   "source": [
    "# Multi dimensuional aggregates\n",
    "\n",
    "np.random.seed(5)\n",
    "\n",
    "arr = np.random.randint(10, size=(3, 4))\n",
    "print(arr)\n",
    "\n",
    "print(np.sum(arr, axis=1))"
   ]
  },
  {
   "cell_type": "code",
   "execution_count": 34,
   "id": "020771a5-73d5-4cc9-981f-8e11b6add1af",
   "metadata": {},
   "outputs": [
    {
     "name": "stdout",
     "output_type": "stream",
     "text": [
      "[[1. 1. 1.]\n",
      " [1. 1. 1.]\n",
      " [1. 1. 1.]]\n",
      "[0 1 2]\n",
      "[[1. 2. 3.]\n",
      " [1. 2. 3.]\n",
      " [1. 2. 3.]]\n"
     ]
    }
   ],
   "source": [
    "\"\"\"\n",
    "\n",
    "\"\"\"\n",
    "# Broadcasting: 10 + 2D arrays\n",
    "a = np.ones((3, 3))\n",
    "print(a)\n",
    "\n",
    "b = np.arange(3)\n",
    "print(b)\n",
    "\n",
    "print(a+b)"
   ]
  },
  {
   "cell_type": "code",
   "execution_count": 51,
   "id": "ca9475b7-7e3d-4e79-8f4a-0ec3f5680dfb",
   "metadata": {},
   "outputs": [
    {
     "name": "stdout",
     "output_type": "stream",
     "text": [
      "[0 1 2]\n",
      "[[0]\n",
      " [1]\n",
      " [2]]\n",
      "[0 1 2]\n",
      "[[0 1 2]\n",
      " [1 2 3]\n",
      " [2 3 4]]\n"
     ]
    }
   ],
   "source": [
    "# broadcast both arrays\n",
    "\n",
    "a = np.arange(3)\n",
    "print(a)\n",
    "a = a [:, np.newaxis]\n",
    "print(a)\n",
    "\n",
    "b = np.arange(3)\n",
    "print(b)\n",
    "\n",
    "print(a+b)"
   ]
  },
  {
   "cell_type": "code",
   "execution_count": 52,
   "id": "d0711053-3cef-43e0-a332-651a100256c8",
   "metadata": {
    "tags": []
   },
   "outputs": [
    {
     "name": "stdout",
     "output_type": "stream",
     "text": [
      "[[1. 1.]\n",
      " [1. 1.]\n",
      " [1. 1.]]\n",
      "[0 1 2]\n"
     ]
    },
    {
     "ename": "ValueError",
     "evalue": "operands could not be broadcast together with shapes (3,2) (3,) ",
     "output_type": "error",
     "traceback": [
      "\u001b[1;31m---------------------------------------------------------------------------\u001b[0m",
      "\u001b[1;31mValueError\u001b[0m                                Traceback (most recent call last)",
      "\u001b[1;32m~\\AppData\\Local\\Temp/ipykernel_14852/2722145962.py\u001b[0m in \u001b[0;36m<module>\u001b[1;34m\u001b[0m\n\u001b[0;32m      5\u001b[0m \u001b[0mprint\u001b[0m\u001b[1;33m(\u001b[0m\u001b[0mb\u001b[0m\u001b[1;33m)\u001b[0m\u001b[1;33m\u001b[0m\u001b[1;33m\u001b[0m\u001b[0m\n\u001b[0;32m      6\u001b[0m \u001b[1;33m\u001b[0m\u001b[0m\n\u001b[1;32m----> 7\u001b[1;33m \u001b[0mprint\u001b[0m\u001b[1;33m(\u001b[0m\u001b[0ma\u001b[0m\u001b[1;33m+\u001b[0m\u001b[0mb\u001b[0m\u001b[1;33m)\u001b[0m\u001b[1;33m\u001b[0m\u001b[1;33m\u001b[0m\u001b[0m\n\u001b[0m",
      "\u001b[1;31mValueError\u001b[0m: operands could not be broadcast together with shapes (3,2) (3,) "
     ]
    }
   ],
   "source": [
    "# # ValueError\n",
    "a = np.ones((3, 2))\n",
    "print(a)\n",
    "b = np.arange(3)\n",
    "print(b)\n",
    "\n",
    "print(a+b)"
   ]
  },
  {
   "cell_type": "code",
   "execution_count": null,
   "id": "529b3836-931f-4c56-be27-410e9a35a3fa",
   "metadata": {
    "tags": []
   },
   "outputs": [],
   "source": [
    "\"\"\"\n",
    "Comparisons, masks, and boolean logic\n",
    "\"\"\"\n",
    "x = np. array([1, 2, 3, 4, 5])\n",
    "print(x < 3)\n",
    "print(x >= 3)\n",
    "\n",
    "print(x != 3)\n",
    "print(x == 3)"
   ]
  },
  {
   "cell_type": "code",
   "execution_count": null,
   "id": "923a0ee9-4c2a-44a2-91ae-319c1351418d",
   "metadata": {},
   "outputs": [],
   "source": [
    "# bool masking for multi-dimensional arrays\n",
    "\n",
    "np.random.seed(0)\n",
    "a = np.random.randint(10, size=(3, 4))\n",
    "print(a)\n",
    "\n",
    "print(a < 6)"
   ]
  },
  {
   "cell_type": "code",
   "execution_count": null,
   "id": "b5834069-cd85-404e-9771-8ece5e834360",
   "metadata": {},
   "outputs": [],
   "source": [
    "\"\"\"\n",
    "working with boolean arrays\n",
    "\"\"\"\n",
    "\n",
    "print(a)\n",
    "print(np.count_nonzero(a < 6)) # True: 1, False: 0\n",
    "\n",
    "print(np.sum(a <6))\n",
    "\n",
    "print(np.any(a > 8))\n",
    "print(np.all(a > 1))"
   ]
  },
  {
   "cell_type": "code",
   "execution_count": null,
   "id": "e7f54af3-ef7d-4e70-af4f-a1e472e66b3d",
   "metadata": {},
   "outputs": [],
   "source": [
    "# Masubg operations\n",
    "\n",
    "print(a)\n",
    "print(a < 5)\n",
    "print(a[a < 5])"
   ]
  },
  {
   "cell_type": "code",
   "execution_count": null,
   "id": "533a436f-7985-4c25-9c1f-173cb24c5627",
   "metadata": {},
   "outputs": [],
   "source": [
    "\"\"\"\n",
    "Fancy Indexing\n",
    "\"\"\"\n",
    "\n",
    "np.random.seed(1)\n",
    "x = np.random.randint(100, size=10)\n",
    "print(x)\n",
    "\n",
    "a = x[2]; b = x[4]; c = x[6];\n",
    "print(a, b, c)\n",
    "\n",
    "ind = [2, 4, 6]\n",
    "print(x[ind])"
   ]
  },
  {
   "cell_type": "code",
   "execution_count": null,
   "id": "e4f4f44f-4023-4ed1-ad00-ed8402617a9c",
   "metadata": {},
   "outputs": [],
   "source": [
    "# For n-D arrays\n",
    "\n",
    "np.random.seed(2)\n",
    "x = np.random.randint(10, size=(3, 5))\n",
    "print(x)\n",
    "\n",
    "row = [0, 1, 2]\n",
    "col = [2, 1, 4]\n",
    "\n",
    "print(x[row, col])"
   ]
  },
  {
   "cell_type": "code",
   "execution_count": null,
   "id": "b3ef18b7-5755-42a3-97fe-b1c0580e6018",
   "metadata": {},
   "outputs": [],
   "source": [
    "# For n-D arrays with broadcasting\n",
    "\n",
    "print(x)\n",
    "\n",
    "row = np.array([0, 1, 2]) # list -> ndarray\n",
    "col = np.array([2, 1, 4])\n",
    "\n",
    "x[row[:, np.newaxis], col]\n",
    "\n"
   ]
  },
  {
   "cell_type": "code",
   "execution_count": null,
   "id": "9beed548-266e-4f28-aace-b1f661b3e2c0",
   "metadata": {},
   "outputs": [],
   "source": [
    "\"\"\"\n",
    "Combined Indexing\n",
    "\"\"\"\n",
    "x = np.arange(1, 13).reshape(3, 4)\n",
    "print(x)\n",
    "\n",
    "ind = [2, 0, 1]\n",
    "\n",
    "print(x[2, ind])\n",
    "\n",
    "\n"
   ]
  },
  {
   "cell_type": "code",
   "execution_count": 38,
   "id": "0bb7c958-b7a4-44a8-a866-561ba6192922",
   "metadata": {},
   "outputs": [
    {
     "name": "stdout",
     "output_type": "stream",
     "text": [
      "[[-1.26659039e+00 -3.71998007e+00]\n",
      " [ 8.98574387e-01  1.00797760e+00]\n",
      " [ 8.12283322e-02 -2.29506499e+00]\n",
      " [-1.32069461e+00 -4.01236325e+00]\n",
      " [-1.99323780e-01 -7.51126722e-01]\n",
      " [-5.62429879e-01 -3.58770608e+00]\n",
      " [ 4.44845894e-01  6.58255553e-01]\n",
      " [-6.26556217e-01 -2.70315425e+00]\n",
      " [ 4.95244764e-01  2.45439522e-01]\n",
      " [-2.62034143e-01 -1.77174030e-03]\n",
      " [ 5.78772733e-01  2.63632100e+00]\n",
      " [-1.02525747e+00 -1.93129454e+00]\n",
      " [-5.70631049e-01 -2.11768692e+00]\n",
      " [ 4.71639223e-01  1.25768272e-01]\n",
      " [ 4.45380634e-02  6.81577017e-01]\n",
      " [ 7.90842213e-01  1.47981907e+00]\n",
      " [ 9.58310989e-01  1.39872339e+00]\n",
      " [ 6.24997094e-01  1.49516840e+00]\n",
      " [ 9.42553159e-01  2.52925434e+00]\n",
      " [-1.81742527e+00 -3.58446991e+00]\n",
      " [ 5.16913839e-01  2.87177733e-01]\n",
      " [ 4.26099193e-02  1.93476910e+00]\n",
      " [ 1.96827436e-01 -2.14295655e-01]\n",
      " [-9.80115753e-01 -9.29089657e-02]\n",
      " [-3.47205801e-01 -1.70173123e-01]\n",
      " [-1.42521035e-01 -7.25348701e-01]\n",
      " [ 1.18923685e+00  2.49294590e+00]\n",
      " [-3.14978696e-02  5.58913783e-01]\n",
      " [-1.13143694e+00 -1.72371279e+00]\n",
      " [-6.02577143e-01 -4.96680020e-01]\n",
      " [ 2.17520931e-01  1.88123670e+00]\n",
      " [-3.59810173e-01 -1.19131196e+00]\n",
      " [-4.22411874e-01 -1.10159071e+00]\n",
      " [-1.62709795e+00 -2.28312406e+00]\n",
      " [-1.48479237e+00 -5.09616263e+00]\n",
      " [ 1.52723792e+00  3.14104857e+00]\n",
      " [-4.83150303e-01 -2.18069608e-01]\n",
      " [ 4.82254235e-01 -1.02455011e+00]\n",
      " [-3.39565581e-02  8.14214912e-01]\n",
      " [-5.04188871e-01 -3.92424651e-01]\n",
      " [ 2.82231207e-01  4.64067441e-01]\n",
      " [-3.29280222e-01 -3.51116074e-01]\n",
      " [-2.28747690e-01 -4.23431745e-01]\n",
      " [ 4.75123754e-01  1.55572231e+00]\n",
      " [-5.44782958e-01 -9.26778324e-02]\n",
      " [-1.17851198e+00 -2.64476775e+00]\n",
      " [ 5.91149629e-01  7.35804640e-01]\n",
      " [-4.20854529e-01 -9.32320424e-01]\n",
      " [ 3.00995578e-01  7.73856505e-01]\n",
      " [ 3.05680795e-01  1.49352315e+00]\n",
      " [-5.55058820e-02  1.19139454e+00]\n",
      " [-5.99930336e-01 -8.05875190e-01]\n",
      " [ 9.46746793e-01  2.46898717e+00]\n",
      " [-3.19219528e-01 -1.80294221e+00]\n",
      " [ 2.33472782e-01  5.98954888e-01]\n",
      " [ 1.14798871e+00  3.11261598e+00]\n",
      " [-4.52827993e-01 -2.02355683e+00]\n",
      " [ 1.78326865e-01 -9.89886193e-01]\n",
      " [ 6.54079300e-01 -1.69812278e-01]\n",
      " [-1.19253433e+00 -2.43644180e+00]\n",
      " [ 3.19384611e-01 -6.79662317e-02]\n",
      " [-1.92957428e+00 -2.52922881e+00]\n",
      " [ 1.24349192e+00  4.34006937e+00]\n",
      " [-1.63310469e+00 -3.57680227e+00]\n",
      " [ 7.77591240e-01  2.81174955e+00]\n",
      " [ 3.98258983e-01  3.07803261e-01]\n",
      " [ 9.25743957e-01  2.83084111e+00]\n",
      " [-4.93843157e-01 -1.86714765e+00]\n",
      " [-4.30293322e-02 -1.34250819e+00]\n",
      " [-7.58643529e-01 -1.78112342e+00]\n",
      " [ 2.11304453e-01  4.00005138e-01]\n",
      " [-1.08991624e+00 -1.81905086e+00]\n",
      " [-5.41858148e-01 -1.15911457e+00]\n",
      " [-3.08541228e-01 -7.55544459e-02]\n",
      " [-4.75998080e-01 -4.10372701e-01]\n",
      " [ 1.21828261e+00  3.05745001e-01]\n",
      " [-1.79666967e+00 -1.97037456e+00]\n",
      " [-3.69439827e-01 -1.00031388e+00]\n",
      " [ 1.71618571e-01  2.85460558e-01]\n",
      " [ 4.13293782e-01 -2.16684866e-01]\n",
      " [ 8.59278635e-01  9.95308072e-01]\n",
      " [-1.16340799e-01 -6.01953603e-01]\n",
      " [-3.90659602e-01 -1.13223305e+00]\n",
      " [-9.92970779e-01 -2.16611609e+00]\n",
      " [-1.29823673e+00 -5.18682700e+00]\n",
      " [ 2.52688990e-01  1.58580757e+00]\n",
      " [-2.24071996e+00 -5.67869687e+00]\n",
      " [ 4.62618221e-02 -1.33274853e-01]\n",
      " [-1.12015802e+00 -3.01528046e+00]\n",
      " [-5.05919832e-01 -1.56754928e+00]\n",
      " [ 1.05570147e+00  2.88807041e+00]\n",
      " [-9.59778270e-01 -9.17332107e-01]\n",
      " [ 3.38293981e-01  1.48486034e-01]\n",
      " [-6.12049556e-01 -1.21704639e+00]\n",
      " [-2.31321700e-01 -6.37596605e-01]\n",
      " [-1.21341180e+00 -2.52949918e+00]\n",
      " [-2.18485819e+00 -4.07211516e+00]\n",
      " [ 1.39110726e-02 -1.72794227e+00]\n",
      " [-7.17305491e-01 -1.27681847e+00]\n",
      " [-1.14891234e+00 -1.64322377e+00]]\n",
      "(100, 2)\n"
     ]
    }
   ],
   "source": [
    "\"\"\"\n",
    "Example: Selecting Random Points\n",
    "\"\"\"\n",
    "\n",
    "%matplotlib inline\n",
    "import matplotlib.pyplot as plt\n",
    "import seaborn; seaborn.set() #set plot styles\n",
    "%config InlineBackend.figure_format = 'svg'\n",
    "\n",
    "mean = [0, 0]\n",
    "cov = [[1, 2],\n",
    "       [2, 5]]\n",
    "\n",
    "rand = np.random.RandomState(1)\n",
    "x = rand.multivariate_normal(mean, cov, 100)\n",
    "print(x)\n",
    "print(x.shape)"
   ]
  },
  {
   "cell_type": "code",
   "execution_count": 39,
   "id": "2c54444a-de42-47c1-a121-070a5990cc50",
   "metadata": {},
   "outputs": [
    {
     "data": {
      "image/svg+xml": [
       "<?xml version=\"1.0\" encoding=\"utf-8\" standalone=\"no\"?>\r\n",
       "<!DOCTYPE svg PUBLIC \"-//W3C//DTD SVG 1.1//EN\"\r\n",
       "  \"http://www.w3.org/Graphics/SVG/1.1/DTD/svg11.dtd\">\r\n",
       "<svg height=\"251.399844pt\" version=\"1.1\" viewBox=\"0 0 371.241719 251.399844\" width=\"371.241719pt\" xmlns=\"http://www.w3.org/2000/svg\" xmlns:xlink=\"http://www.w3.org/1999/xlink\">\r\n",
       " <metadata>\r\n",
       "  <rdf:RDF xmlns:cc=\"http://creativecommons.org/ns#\" xmlns:dc=\"http://purl.org/dc/elements/1.1/\" xmlns:rdf=\"http://www.w3.org/1999/02/22-rdf-syntax-ns#\">\r\n",
       "   <cc:Work>\r\n",
       "    <dc:type rdf:resource=\"http://purl.org/dc/dcmitype/StillImage\"/>\r\n",
       "    <dc:date>2021-10-14T09:35:13.740778</dc:date>\r\n",
       "    <dc:format>image/svg+xml</dc:format>\r\n",
       "    <dc:creator>\r\n",
       "     <cc:Agent>\r\n",
       "      <dc:title>Matplotlib v3.4.2, https://matplotlib.org/</dc:title>\r\n",
       "     </cc:Agent>\r\n",
       "    </dc:creator>\r\n",
       "   </cc:Work>\r\n",
       "  </rdf:RDF>\r\n",
       " </metadata>\r\n",
       " <defs>\r\n",
       "  <style type=\"text/css\">*{stroke-linecap:butt;stroke-linejoin:round;}</style>\r\n",
       " </defs>\r\n",
       " <g id=\"figure_1\">\r\n",
       "  <g id=\"patch_1\">\r\n",
       "   <path d=\"M 0 251.399844 \r\n",
       "L 371.241719 251.399844 \r\n",
       "L 371.241719 0 \r\n",
       "L 0 0 \r\n",
       "z\r\n",
       "\" style=\"fill:#ffffff;\"/>\r\n",
       "  </g>\r\n",
       "  <g id=\"axes_1\">\r\n",
       "   <g id=\"patch_2\">\r\n",
       "    <path d=\"M 29.241719 224.64 \r\n",
       "L 364.041719 224.64 \r\n",
       "L 364.041719 7.2 \r\n",
       "L 29.241719 7.2 \r\n",
       "z\r\n",
       "\" style=\"fill:#eaeaf2;\"/>\r\n",
       "   </g>\r\n",
       "   <g id=\"matplotlib.axis_1\">\r\n",
       "    <g id=\"xtick_1\">\r\n",
       "     <g id=\"line2d_1\">\r\n",
       "      <path clip-path=\"url(#pb9c39ebb59)\" d=\"M 63.904492 224.64 \r\n",
       "L 63.904492 7.2 \r\n",
       "\" style=\"fill:none;stroke:#ffffff;stroke-linecap:round;\"/>\r\n",
       "     </g>\r\n",
       "     <g id=\"text_1\">\r\n",
       "      <!-- −2.0 -->\r\n",
       "      <g style=\"fill:#262626;\" transform=\"translate(53.047149 242.013594)scale(0.11 -0.11)\">\r\n",
       "       <defs>\r\n",
       "        <path d=\"M 3381 1997 \r\n",
       "L 356 1997 \r\n",
       "L 356 2522 \r\n",
       "L 3381 2522 \r\n",
       "L 3381 1997 \r\n",
       "z\r\n",
       "\" id=\"ArialMT-2212\" transform=\"scale(0.015625)\"/>\r\n",
       "        <path d=\"M 3222 541 \r\n",
       "L 3222 0 \r\n",
       "L 194 0 \r\n",
       "Q 188 203 259 391 \r\n",
       "Q 375 700 629 1000 \r\n",
       "Q 884 1300 1366 1694 \r\n",
       "Q 2113 2306 2375 2664 \r\n",
       "Q 2638 3022 2638 3341 \r\n",
       "Q 2638 3675 2398 3904 \r\n",
       "Q 2159 4134 1775 4134 \r\n",
       "Q 1369 4134 1125 3890 \r\n",
       "Q 881 3647 878 3216 \r\n",
       "L 300 3275 \r\n",
       "Q 359 3922 746 4261 \r\n",
       "Q 1134 4600 1788 4600 \r\n",
       "Q 2447 4600 2831 4234 \r\n",
       "Q 3216 3869 3216 3328 \r\n",
       "Q 3216 3053 3103 2787 \r\n",
       "Q 2991 2522 2730 2228 \r\n",
       "Q 2469 1934 1863 1422 \r\n",
       "Q 1356 997 1212 845 \r\n",
       "Q 1069 694 975 541 \r\n",
       "L 3222 541 \r\n",
       "z\r\n",
       "\" id=\"ArialMT-32\" transform=\"scale(0.015625)\"/>\r\n",
       "        <path d=\"M 581 0 \r\n",
       "L 581 641 \r\n",
       "L 1222 641 \r\n",
       "L 1222 0 \r\n",
       "L 581 0 \r\n",
       "z\r\n",
       "\" id=\"ArialMT-2e\" transform=\"scale(0.015625)\"/>\r\n",
       "        <path d=\"M 266 2259 \r\n",
       "Q 266 3072 433 3567 \r\n",
       "Q 600 4063 929 4331 \r\n",
       "Q 1259 4600 1759 4600 \r\n",
       "Q 2128 4600 2406 4451 \r\n",
       "Q 2684 4303 2865 4023 \r\n",
       "Q 3047 3744 3150 3342 \r\n",
       "Q 3253 2941 3253 2259 \r\n",
       "Q 3253 1453 3087 958 \r\n",
       "Q 2922 463 2592 192 \r\n",
       "Q 2263 -78 1759 -78 \r\n",
       "Q 1097 -78 719 397 \r\n",
       "Q 266 969 266 2259 \r\n",
       "z\r\n",
       "M 844 2259 \r\n",
       "Q 844 1131 1108 757 \r\n",
       "Q 1372 384 1759 384 \r\n",
       "Q 2147 384 2411 759 \r\n",
       "Q 2675 1134 2675 2259 \r\n",
       "Q 2675 3391 2411 3762 \r\n",
       "Q 2147 4134 1753 4134 \r\n",
       "Q 1366 4134 1134 3806 \r\n",
       "Q 844 3388 844 2259 \r\n",
       "z\r\n",
       "\" id=\"ArialMT-30\" transform=\"scale(0.015625)\"/>\r\n",
       "       </defs>\r\n",
       "       <use xlink:href=\"#ArialMT-2212\"/>\r\n",
       "       <use x=\"58.398438\" xlink:href=\"#ArialMT-32\"/>\r\n",
       "       <use x=\"114.013672\" xlink:href=\"#ArialMT-2e\"/>\r\n",
       "       <use x=\"141.796875\" xlink:href=\"#ArialMT-30\"/>\r\n",
       "      </g>\r\n",
       "     </g>\r\n",
       "    </g>\r\n",
       "    <g id=\"xtick_2\">\r\n",
       "     <g id=\"line2d_2\">\r\n",
       "      <path clip-path=\"url(#pb9c39ebb59)\" d=\"M 104.2929 224.64 \r\n",
       "L 104.2929 7.2 \r\n",
       "\" style=\"fill:none;stroke:#ffffff;stroke-linecap:round;\"/>\r\n",
       "     </g>\r\n",
       "     <g id=\"text_2\">\r\n",
       "      <!-- −1.5 -->\r\n",
       "      <g style=\"fill:#262626;\" transform=\"translate(93.435556 242.013594)scale(0.11 -0.11)\">\r\n",
       "       <defs>\r\n",
       "        <path d=\"M 2384 0 \r\n",
       "L 1822 0 \r\n",
       "L 1822 3584 \r\n",
       "Q 1619 3391 1289 3197 \r\n",
       "Q 959 3003 697 2906 \r\n",
       "L 697 3450 \r\n",
       "Q 1169 3672 1522 3987 \r\n",
       "Q 1875 4303 2022 4600 \r\n",
       "L 2384 4600 \r\n",
       "L 2384 0 \r\n",
       "z\r\n",
       "\" id=\"ArialMT-31\" transform=\"scale(0.015625)\"/>\r\n",
       "        <path d=\"M 266 1200 \r\n",
       "L 856 1250 \r\n",
       "Q 922 819 1161 601 \r\n",
       "Q 1400 384 1738 384 \r\n",
       "Q 2144 384 2425 690 \r\n",
       "Q 2706 997 2706 1503 \r\n",
       "Q 2706 1984 2436 2262 \r\n",
       "Q 2166 2541 1728 2541 \r\n",
       "Q 1456 2541 1237 2417 \r\n",
       "Q 1019 2294 894 2097 \r\n",
       "L 366 2166 \r\n",
       "L 809 4519 \r\n",
       "L 3088 4519 \r\n",
       "L 3088 3981 \r\n",
       "L 1259 3981 \r\n",
       "L 1013 2750 \r\n",
       "Q 1425 3038 1878 3038 \r\n",
       "Q 2478 3038 2890 2622 \r\n",
       "Q 3303 2206 3303 1553 \r\n",
       "Q 3303 931 2941 478 \r\n",
       "Q 2500 -78 1738 -78 \r\n",
       "Q 1113 -78 717 272 \r\n",
       "Q 322 622 266 1200 \r\n",
       "z\r\n",
       "\" id=\"ArialMT-35\" transform=\"scale(0.015625)\"/>\r\n",
       "       </defs>\r\n",
       "       <use xlink:href=\"#ArialMT-2212\"/>\r\n",
       "       <use x=\"58.398438\" xlink:href=\"#ArialMT-31\"/>\r\n",
       "       <use x=\"114.013672\" xlink:href=\"#ArialMT-2e\"/>\r\n",
       "       <use x=\"141.796875\" xlink:href=\"#ArialMT-35\"/>\r\n",
       "      </g>\r\n",
       "     </g>\r\n",
       "    </g>\r\n",
       "    <g id=\"xtick_3\">\r\n",
       "     <g id=\"line2d_3\">\r\n",
       "      <path clip-path=\"url(#pb9c39ebb59)\" d=\"M 144.681307 224.64 \r\n",
       "L 144.681307 7.2 \r\n",
       "\" style=\"fill:none;stroke:#ffffff;stroke-linecap:round;\"/>\r\n",
       "     </g>\r\n",
       "     <g id=\"text_3\">\r\n",
       "      <!-- −1.0 -->\r\n",
       "      <g style=\"fill:#262626;\" transform=\"translate(133.823964 242.013594)scale(0.11 -0.11)\">\r\n",
       "       <use xlink:href=\"#ArialMT-2212\"/>\r\n",
       "       <use x=\"58.398438\" xlink:href=\"#ArialMT-31\"/>\r\n",
       "       <use x=\"114.013672\" xlink:href=\"#ArialMT-2e\"/>\r\n",
       "       <use x=\"141.796875\" xlink:href=\"#ArialMT-30\"/>\r\n",
       "      </g>\r\n",
       "     </g>\r\n",
       "    </g>\r\n",
       "    <g id=\"xtick_4\">\r\n",
       "     <g id=\"line2d_4\">\r\n",
       "      <path clip-path=\"url(#pb9c39ebb59)\" d=\"M 185.069715 224.64 \r\n",
       "L 185.069715 7.2 \r\n",
       "\" style=\"fill:none;stroke:#ffffff;stroke-linecap:round;\"/>\r\n",
       "     </g>\r\n",
       "     <g id=\"text_4\">\r\n",
       "      <!-- −0.5 -->\r\n",
       "      <g style=\"fill:#262626;\" transform=\"translate(174.212371 242.013594)scale(0.11 -0.11)\">\r\n",
       "       <use xlink:href=\"#ArialMT-2212\"/>\r\n",
       "       <use x=\"58.398438\" xlink:href=\"#ArialMT-30\"/>\r\n",
       "       <use x=\"114.013672\" xlink:href=\"#ArialMT-2e\"/>\r\n",
       "       <use x=\"141.796875\" xlink:href=\"#ArialMT-35\"/>\r\n",
       "      </g>\r\n",
       "     </g>\r\n",
       "    </g>\r\n",
       "    <g id=\"xtick_5\">\r\n",
       "     <g id=\"line2d_5\">\r\n",
       "      <path clip-path=\"url(#pb9c39ebb59)\" d=\"M 225.458122 224.64 \r\n",
       "L 225.458122 7.2 \r\n",
       "\" style=\"fill:none;stroke:#ffffff;stroke-linecap:round;\"/>\r\n",
       "     </g>\r\n",
       "     <g id=\"text_5\">\r\n",
       "      <!-- 0.0 -->\r\n",
       "      <g style=\"fill:#262626;\" transform=\"translate(217.813122 242.013594)scale(0.11 -0.11)\">\r\n",
       "       <use xlink:href=\"#ArialMT-30\"/>\r\n",
       "       <use x=\"55.615234\" xlink:href=\"#ArialMT-2e\"/>\r\n",
       "       <use x=\"83.398438\" xlink:href=\"#ArialMT-30\"/>\r\n",
       "      </g>\r\n",
       "     </g>\r\n",
       "    </g>\r\n",
       "    <g id=\"xtick_6\">\r\n",
       "     <g id=\"line2d_6\">\r\n",
       "      <path clip-path=\"url(#pb9c39ebb59)\" d=\"M 265.84653 224.64 \r\n",
       "L 265.84653 7.2 \r\n",
       "\" style=\"fill:none;stroke:#ffffff;stroke-linecap:round;\"/>\r\n",
       "     </g>\r\n",
       "     <g id=\"text_6\">\r\n",
       "      <!-- 0.5 -->\r\n",
       "      <g style=\"fill:#262626;\" transform=\"translate(258.20153 242.013594)scale(0.11 -0.11)\">\r\n",
       "       <use xlink:href=\"#ArialMT-30\"/>\r\n",
       "       <use x=\"55.615234\" xlink:href=\"#ArialMT-2e\"/>\r\n",
       "       <use x=\"83.398438\" xlink:href=\"#ArialMT-35\"/>\r\n",
       "      </g>\r\n",
       "     </g>\r\n",
       "    </g>\r\n",
       "    <g id=\"xtick_7\">\r\n",
       "     <g id=\"line2d_7\">\r\n",
       "      <path clip-path=\"url(#pb9c39ebb59)\" d=\"M 306.234937 224.64 \r\n",
       "L 306.234937 7.2 \r\n",
       "\" style=\"fill:none;stroke:#ffffff;stroke-linecap:round;\"/>\r\n",
       "     </g>\r\n",
       "     <g id=\"text_7\">\r\n",
       "      <!-- 1.0 -->\r\n",
       "      <g style=\"fill:#262626;\" transform=\"translate(298.589937 242.013594)scale(0.11 -0.11)\">\r\n",
       "       <use xlink:href=\"#ArialMT-31\"/>\r\n",
       "       <use x=\"55.615234\" xlink:href=\"#ArialMT-2e\"/>\r\n",
       "       <use x=\"83.398438\" xlink:href=\"#ArialMT-30\"/>\r\n",
       "      </g>\r\n",
       "     </g>\r\n",
       "    </g>\r\n",
       "    <g id=\"xtick_8\">\r\n",
       "     <g id=\"line2d_8\">\r\n",
       "      <path clip-path=\"url(#pb9c39ebb59)\" d=\"M 346.623345 224.64 \r\n",
       "L 346.623345 7.2 \r\n",
       "\" style=\"fill:none;stroke:#ffffff;stroke-linecap:round;\"/>\r\n",
       "     </g>\r\n",
       "     <g id=\"text_8\">\r\n",
       "      <!-- 1.5 -->\r\n",
       "      <g style=\"fill:#262626;\" transform=\"translate(338.978345 242.013594)scale(0.11 -0.11)\">\r\n",
       "       <use xlink:href=\"#ArialMT-31\"/>\r\n",
       "       <use x=\"55.615234\" xlink:href=\"#ArialMT-2e\"/>\r\n",
       "       <use x=\"83.398438\" xlink:href=\"#ArialMT-35\"/>\r\n",
       "      </g>\r\n",
       "     </g>\r\n",
       "    </g>\r\n",
       "   </g>\r\n",
       "   <g id=\"matplotlib.axis_2\">\r\n",
       "    <g id=\"ytick_1\">\r\n",
       "     <g id=\"line2d_9\">\r\n",
       "      <path clip-path=\"url(#pb9c39ebb59)\" d=\"M 29.241719 221.095754 \r\n",
       "L 364.041719 221.095754 \r\n",
       "\" style=\"fill:none;stroke:#ffffff;stroke-linecap:round;\"/>\r\n",
       "     </g>\r\n",
       "     <g id=\"text_9\">\r\n",
       "      <!-- −6 -->\r\n",
       "      <g style=\"fill:#262626;\" transform=\"translate(7.2 225.032551)scale(0.11 -0.11)\">\r\n",
       "       <defs>\r\n",
       "        <path d=\"M 3184 3459 \r\n",
       "L 2625 3416 \r\n",
       "Q 2550 3747 2413 3897 \r\n",
       "Q 2184 4138 1850 4138 \r\n",
       "Q 1581 4138 1378 3988 \r\n",
       "Q 1113 3794 959 3422 \r\n",
       "Q 806 3050 800 2363 \r\n",
       "Q 1003 2672 1297 2822 \r\n",
       "Q 1591 2972 1913 2972 \r\n",
       "Q 2475 2972 2870 2558 \r\n",
       "Q 3266 2144 3266 1488 \r\n",
       "Q 3266 1056 3080 686 \r\n",
       "Q 2894 316 2569 119 \r\n",
       "Q 2244 -78 1831 -78 \r\n",
       "Q 1128 -78 684 439 \r\n",
       "Q 241 956 241 2144 \r\n",
       "Q 241 3472 731 4075 \r\n",
       "Q 1159 4600 1884 4600 \r\n",
       "Q 2425 4600 2770 4297 \r\n",
       "Q 3116 3994 3184 3459 \r\n",
       "z\r\n",
       "M 888 1484 \r\n",
       "Q 888 1194 1011 928 \r\n",
       "Q 1134 663 1356 523 \r\n",
       "Q 1578 384 1822 384 \r\n",
       "Q 2178 384 2434 671 \r\n",
       "Q 2691 959 2691 1453 \r\n",
       "Q 2691 1928 2437 2201 \r\n",
       "Q 2184 2475 1800 2475 \r\n",
       "Q 1419 2475 1153 2201 \r\n",
       "Q 888 1928 888 1484 \r\n",
       "z\r\n",
       "\" id=\"ArialMT-36\" transform=\"scale(0.015625)\"/>\r\n",
       "       </defs>\r\n",
       "       <use xlink:href=\"#ArialMT-2212\"/>\r\n",
       "       <use x=\"58.398438\" xlink:href=\"#ArialMT-36\"/>\r\n",
       "      </g>\r\n",
       "     </g>\r\n",
       "    </g>\r\n",
       "    <g id=\"ytick_2\">\r\n",
       "     <g id=\"line2d_10\">\r\n",
       "      <path clip-path=\"url(#pb9c39ebb59)\" d=\"M 29.241719 181.635261 \r\n",
       "L 364.041719 181.635261 \r\n",
       "\" style=\"fill:none;stroke:#ffffff;stroke-linecap:round;\"/>\r\n",
       "     </g>\r\n",
       "     <g id=\"text_10\">\r\n",
       "      <!-- −4 -->\r\n",
       "      <g style=\"fill:#262626;\" transform=\"translate(7.2 185.572058)scale(0.11 -0.11)\">\r\n",
       "       <defs>\r\n",
       "        <path d=\"M 2069 0 \r\n",
       "L 2069 1097 \r\n",
       "L 81 1097 \r\n",
       "L 81 1613 \r\n",
       "L 2172 4581 \r\n",
       "L 2631 4581 \r\n",
       "L 2631 1613 \r\n",
       "L 3250 1613 \r\n",
       "L 3250 1097 \r\n",
       "L 2631 1097 \r\n",
       "L 2631 0 \r\n",
       "L 2069 0 \r\n",
       "z\r\n",
       "M 2069 1613 \r\n",
       "L 2069 3678 \r\n",
       "L 634 1613 \r\n",
       "L 2069 1613 \r\n",
       "z\r\n",
       "\" id=\"ArialMT-34\" transform=\"scale(0.015625)\"/>\r\n",
       "       </defs>\r\n",
       "       <use xlink:href=\"#ArialMT-2212\"/>\r\n",
       "       <use x=\"58.398438\" xlink:href=\"#ArialMT-34\"/>\r\n",
       "      </g>\r\n",
       "     </g>\r\n",
       "    </g>\r\n",
       "    <g id=\"ytick_3\">\r\n",
       "     <g id=\"line2d_11\">\r\n",
       "      <path clip-path=\"url(#pb9c39ebb59)\" d=\"M 29.241719 142.174768 \r\n",
       "L 364.041719 142.174768 \r\n",
       "\" style=\"fill:none;stroke:#ffffff;stroke-linecap:round;\"/>\r\n",
       "     </g>\r\n",
       "     <g id=\"text_11\">\r\n",
       "      <!-- −2 -->\r\n",
       "      <g style=\"fill:#262626;\" transform=\"translate(7.2 146.111565)scale(0.11 -0.11)\">\r\n",
       "       <use xlink:href=\"#ArialMT-2212\"/>\r\n",
       "       <use x=\"58.398438\" xlink:href=\"#ArialMT-32\"/>\r\n",
       "      </g>\r\n",
       "     </g>\r\n",
       "    </g>\r\n",
       "    <g id=\"ytick_4\">\r\n",
       "     <g id=\"line2d_12\">\r\n",
       "      <path clip-path=\"url(#pb9c39ebb59)\" d=\"M 29.241719 102.714275 \r\n",
       "L 364.041719 102.714275 \r\n",
       "\" style=\"fill:none;stroke:#ffffff;stroke-linecap:round;\"/>\r\n",
       "     </g>\r\n",
       "     <g id=\"text_12\">\r\n",
       "      <!-- 0 -->\r\n",
       "      <g style=\"fill:#262626;\" transform=\"translate(13.624688 106.651072)scale(0.11 -0.11)\">\r\n",
       "       <use xlink:href=\"#ArialMT-30\"/>\r\n",
       "      </g>\r\n",
       "     </g>\r\n",
       "    </g>\r\n",
       "    <g id=\"ytick_5\">\r\n",
       "     <g id=\"line2d_13\">\r\n",
       "      <path clip-path=\"url(#pb9c39ebb59)\" d=\"M 29.241719 63.253782 \r\n",
       "L 364.041719 63.253782 \r\n",
       "\" style=\"fill:none;stroke:#ffffff;stroke-linecap:round;\"/>\r\n",
       "     </g>\r\n",
       "     <g id=\"text_13\">\r\n",
       "      <!-- 2 -->\r\n",
       "      <g style=\"fill:#262626;\" transform=\"translate(13.624688 67.190579)scale(0.11 -0.11)\">\r\n",
       "       <use xlink:href=\"#ArialMT-32\"/>\r\n",
       "      </g>\r\n",
       "     </g>\r\n",
       "    </g>\r\n",
       "    <g id=\"ytick_6\">\r\n",
       "     <g id=\"line2d_14\">\r\n",
       "      <path clip-path=\"url(#pb9c39ebb59)\" d=\"M 29.241719 23.793289 \r\n",
       "L 364.041719 23.793289 \r\n",
       "\" style=\"fill:none;stroke:#ffffff;stroke-linecap:round;\"/>\r\n",
       "     </g>\r\n",
       "     <g id=\"text_14\">\r\n",
       "      <!-- 4 -->\r\n",
       "      <g style=\"fill:#262626;\" transform=\"translate(13.624688 27.730086)scale(0.11 -0.11)\">\r\n",
       "       <use xlink:href=\"#ArialMT-34\"/>\r\n",
       "      </g>\r\n",
       "     </g>\r\n",
       "    </g>\r\n",
       "   </g>\r\n",
       "   <g id=\"PathCollection_1\">\r\n",
       "    <defs>\r\n",
       "     <path d=\"M 0 3 \r\n",
       "C 0.795609 3 1.55874 2.683901 2.12132 2.12132 \r\n",
       "C 2.683901 1.55874 3 0.795609 3 0 \r\n",
       "C 3 -0.795609 2.683901 -1.55874 2.12132 -2.12132 \r\n",
       "C 1.55874 -2.683901 0.795609 -3 0 -3 \r\n",
       "C -0.795609 -3 -1.55874 -2.683901 -2.12132 -2.12132 \r\n",
       "C -2.683901 -1.55874 -3 -0.795609 -3 0 \r\n",
       "C -3 0.795609 -2.683901 1.55874 -2.12132 2.12132 \r\n",
       "C -1.55874 2.683901 -0.795609 3 0 3 \r\n",
       "z\r\n",
       "\" id=\"mcfef044b91\" style=\"stroke:#4c72b0;\"/>\r\n",
       "    </defs>\r\n",
       "    <g clip-path=\"url(#pb9c39ebb59)\">\r\n",
       "     <use style=\"fill:#4c72b0;stroke:#4c72b0;\" x=\"123.146985\" xlink:href=\"#mcfef044b91\" y=\"176.110398\"/>\r\n",
       "     <use style=\"fill:#4c72b0;stroke:#4c72b0;\" x=\"298.042099\" xlink:href=\"#mcfef044b91\" y=\"82.826628\"/>\r\n",
       "     <use style=\"fill:#4c72b0;stroke:#4c72b0;\" x=\"232.019488\" xlink:href=\"#mcfef044b91\" y=\"147.996473\"/>\r\n",
       "     <use style=\"fill:#4c72b0;stroke:#4c72b0;\" x=\"118.776618\" xlink:href=\"#mcfef044b91\" y=\"181.879191\"/>\r\n",
       "     <use style=\"fill:#4c72b0;stroke:#4c72b0;\" x=\"209.357382\" xlink:href=\"#mcfef044b91\" y=\"117.53419\"/>\r\n",
       "     <use style=\"fill:#4c72b0;stroke:#4c72b0;\" x=\"180.026828\" xlink:href=\"#mcfef044b91\" y=\"173.5006\"/>\r\n",
       "     <use style=\"fill:#4c72b0;stroke:#4c72b0;\" x=\"261.391357\" xlink:href=\"#mcfef044b91\" y=\"89.72673\"/>\r\n",
       "     <use style=\"fill:#4c72b0;stroke:#4c72b0;\" x=\"174.846907\" xlink:href=\"#mcfef044b91\" y=\"156.048174\"/>\r\n",
       "     <use style=\"fill:#4c72b0;stroke:#4c72b0;\" x=\"265.462417\" xlink:href=\"#mcfef044b91\" y=\"97.871692\"/>\r\n",
       "     <use style=\"fill:#4c72b0;stroke:#4c72b0;\" x=\"204.291839\" xlink:href=\"#mcfef044b91\" y=\"102.749232\"/>\r\n",
       "     <use style=\"fill:#4c72b0;stroke:#4c72b0;\" x=\"272.20954\" xlink:href=\"#mcfef044b91\" y=\"50.699012\"/>\r\n",
       "     <use style=\"fill:#4c72b0;stroke:#4c72b0;\" x=\"142.641089\" xlink:href=\"#mcfef044b91\" y=\"140.819192\"/>\r\n",
       "     <use style=\"fill:#4c72b0;stroke:#4c72b0;\" x=\"179.364364\" xlink:href=\"#mcfef044b91\" y=\"144.49676\"/>\r\n",
       "     <use style=\"fill:#4c72b0;stroke:#4c72b0;\" x=\"263.555637\" xlink:href=\"#mcfef044b91\" y=\"100.232836\"/>\r\n",
       "     <use style=\"fill:#4c72b0;stroke:#4c72b0;\" x=\"229.055765\" xlink:href=\"#mcfef044b91\" y=\"89.266592\"/>\r\n",
       "     <use style=\"fill:#4c72b0;stroke:#4c72b0;\" x=\"289.339838\" xlink:href=\"#mcfef044b91\" y=\"73.51708\"/>\r\n",
       "     <use style=\"fill:#4c72b0;stroke:#4c72b0;\" x=\"302.867432\" xlink:href=\"#mcfef044b91\" y=\"75.117117\"/>\r\n",
       "     <use style=\"fill:#4c72b0;stroke:#4c72b0;\" x=\"275.943397\" xlink:href=\"#mcfef044b91\" y=\"73.214234\"/>\r\n",
       "     <use style=\"fill:#4c72b0;stroke:#4c72b0;\" x=\"301.594565\" xlink:href=\"#mcfef044b91\" y=\"52.811463\"/>\r\n",
       "     <use style=\"fill:#4c72b0;stroke:#4c72b0;\" x=\"78.652298\" xlink:href=\"#mcfef044b91\" y=\"173.43675\"/>\r\n",
       "     <use style=\"fill:#4c72b0;stroke:#4c72b0;\" x=\"267.212776\" xlink:href=\"#mcfef044b91\" y=\"97.048187\"/>\r\n",
       "     <use style=\"fill:#4c72b0;stroke:#4c72b0;\" x=\"228.900016\" xlink:href=\"#mcfef044b91\" y=\"64.540803\"/>\r\n",
       "     <use style=\"fill:#4c72b0;stroke:#4c72b0;\" x=\"241.357216\" xlink:href=\"#mcfef044b91\" y=\"106.942381\"/>\r\n",
       "     <use style=\"fill:#4c72b0;stroke:#4c72b0;\" x=\"146.287494\" xlink:href=\"#mcfef044b91\" y=\"104.547392\"/>\r\n",
       "     <use style=\"fill:#4c72b0;stroke:#4c72b0;\" x=\"197.411944\" xlink:href=\"#mcfef044b91\" y=\"106.071832\"/>\r\n",
       "     <use style=\"fill:#4c72b0;stroke:#4c72b0;\" x=\"213.945727\" xlink:href=\"#mcfef044b91\" y=\"117.025583\"/>\r\n",
       "     <use style=\"fill:#4c72b0;stroke:#4c72b0;\" x=\"321.520887\" xlink:href=\"#mcfef044b91\" y=\"53.527838\"/>\r\n",
       "     <use style=\"fill:#4c72b0;stroke:#4c72b0;\" x=\"222.913825\" xlink:href=\"#mcfef044b91\" y=\"91.686768\"/>\r\n",
       "     <use style=\"fill:#4c72b0;stroke:#4c72b0;\" x=\"134.06425\" xlink:href=\"#mcfef044b91\" y=\"136.723553\"/>\r\n",
       "     <use style=\"fill:#4c72b0;stroke:#4c72b0;\" x=\"176.78386\" xlink:href=\"#mcfef044b91\" y=\"112.513894\"/>\r\n",
       "     <use style=\"fill:#4c72b0;stroke:#4c72b0;\" x=\"243.02877\" xlink:href=\"#mcfef044b91\" y=\"65.597011\"/>\r\n",
       "     <use style=\"fill:#4c72b0;stroke:#4c72b0;\" x=\"196.393803\" xlink:href=\"#mcfef044b91\" y=\"126.219153\"/>\r\n",
       "     <use style=\"fill:#4c72b0;stroke:#4c72b0;\" x=\"191.337037\" xlink:href=\"#mcfef044b91\" y=\"124.448931\"/>\r\n",
       "     <use style=\"fill:#4c72b0;stroke:#4c72b0;\" x=\"94.026333\" xlink:href=\"#mcfef044b91\" y=\"147.760875\"/>\r\n",
       "     <use style=\"fill:#4c72b0;stroke:#4c72b0;\" x=\"105.521323\" xlink:href=\"#mcfef044b91\" y=\"203.26282\"/>\r\n",
       "     <use style=\"fill:#4c72b0;stroke:#4c72b0;\" x=\"348.823537\" xlink:href=\"#mcfef044b91\" y=\"40.740612\"/>\r\n",
       "     <use style=\"fill:#4c72b0;stroke:#4c72b0;\" x=\"186.43078\" xlink:href=\"#mcfef044b91\" y=\"107.016842\"/>\r\n",
       "     <use style=\"fill:#4c72b0;stroke:#4c72b0;\" x=\"264.413083\" xlink:href=\"#mcfef044b91\" y=\"122.928901\"/>\r\n",
       "     <use style=\"fill:#4c72b0;stroke:#4c72b0;\" x=\"222.71522\" xlink:href=\"#mcfef044b91\" y=\"86.649614\"/>\r\n",
       "     <use style=\"fill:#4c72b0;stroke:#4c72b0;\" x=\"184.731351\" xlink:href=\"#mcfef044b91\" y=\"110.45691\"/>\r\n",
       "     <use style=\"fill:#4c72b0;stroke:#4c72b0;\" x=\"248.25586\" xlink:href=\"#mcfef044b91\" y=\"93.55811\"/>\r\n",
       "     <use style=\"fill:#4c72b0;stroke:#4c72b0;\" x=\"198.859915\" xlink:href=\"#mcfef044b91\" y=\"109.641881\"/>\r\n",
       "     <use style=\"fill:#4c72b0;stroke:#4c72b0;\" x=\"206.980613\" xlink:href=\"#mcfef044b91\" y=\"111.068687\"/>\r\n",
       "     <use style=\"fill:#4c72b0;stroke:#4c72b0;\" x=\"263.837106\" xlink:href=\"#mcfef044b91\" y=\"72.01949\"/>\r\n",
       "     <use style=\"fill:#4c72b0;stroke:#4c72b0;\" x=\"181.45229\" xlink:href=\"#mcfef044b91\" y=\"104.542831\"/>\r\n",
       "     <use style=\"fill:#4c72b0;stroke:#4c72b0;\" x=\"130.261678\" xlink:href=\"#mcfef044b91\" y=\"154.896194\"/>\r\n",
       "     <use style=\"fill:#4c72b0;stroke:#4c72b0;\" x=\"273.209307\" xlink:href=\"#mcfef044b91\" y=\"88.196668\"/>\r\n",
       "     <use style=\"fill:#4c72b0;stroke:#4c72b0;\" x=\"191.462834\" xlink:href=\"#mcfef044b91\" y=\"121.109187\"/>\r\n",
       "     <use style=\"fill:#4c72b0;stroke:#4c72b0;\" x=\"249.771587\" xlink:href=\"#mcfef044b91\" y=\"87.445895\"/>\r\n",
       "     <use style=\"fill:#4c72b0;stroke:#4c72b0;\" x=\"250.150043\" xlink:href=\"#mcfef044b91\" y=\"73.246695\"/>\r\n",
       "     <use style=\"fill:#4c72b0;stroke:#4c72b0;\" x=\"220.974534\" xlink:href=\"#mcfef044b91\" y=\"79.207767\"/>\r\n",
       "     <use style=\"fill:#4c72b0;stroke:#4c72b0;\" x=\"176.997661\" xlink:href=\"#mcfef044b91\" y=\"118.614391\"/>\r\n",
       "     <use style=\"fill:#4c72b0;stroke:#4c72b0;\" x=\"301.933313\" xlink:href=\"#mcfef044b91\" y=\"54.000549\"/>\r\n",
       "     <use style=\"fill:#4c72b0;stroke:#4c72b0;\" x=\"199.672586\" xlink:href=\"#mcfef044b91\" y=\"138.286769\"/>\r\n",
       "     <use style=\"fill:#4c72b0;stroke:#4c72b0;\" x=\"244.31731\" xlink:href=\"#mcfef044b91\" y=\"90.896747\"/>\r\n",
       "     <use style=\"fill:#4c72b0;stroke:#4c72b0;\" x=\"318.188994\" xlink:href=\"#mcfef044b91\" y=\"41.301594\"/>\r\n",
       "     <use style=\"fill:#4c72b0;stroke:#4c72b0;\" x=\"188.880119\" xlink:href=\"#mcfef044b91\" y=\"142.63955\"/>\r\n",
       "     <use style=\"fill:#4c72b0;stroke:#4c72b0;\" x=\"239.862799\" xlink:href=\"#mcfef044b91\" y=\"122.244973\"/>\r\n",
       "     <use style=\"fill:#4c72b0;stroke:#4c72b0;\" x=\"278.292565\" xlink:href=\"#mcfef044b91\" y=\"106.064713\"/>\r\n",
       "     <use style=\"fill:#4c72b0;stroke:#4c72b0;\" x=\"129.128997\" xlink:href=\"#mcfef044b91\" y=\"150.785872\"/>\r\n",
       "     <use style=\"fill:#4c72b0;stroke:#4c72b0;\" x=\"251.256994\" xlink:href=\"#mcfef044b91\" y=\"104.055265\"/>\r\n",
       "     <use style=\"fill:#4c72b0;stroke:#4c72b0;\" x=\"69.593258\" xlink:href=\"#mcfef044b91\" y=\"152.616583\"/>\r\n",
       "     <use style=\"fill:#4c72b0;stroke:#4c72b0;\" x=\"325.903439\" xlink:href=\"#mcfef044b91\" y=\"17.083636\"/>\r\n",
       "     <use style=\"fill:#4c72b0;stroke:#4c72b0;\" x=\"93.541127\" xlink:href=\"#mcfef044b91\" y=\"173.285465\"/>\r\n",
       "     <use style=\"fill:#4c72b0;stroke:#4c72b0;\" x=\"288.269466\" xlink:href=\"#mcfef044b91\" y=\"47.237763\"/>\r\n",
       "     <use style=\"fill:#4c72b0;stroke:#4c72b0;\" x=\"257.628215\" xlink:href=\"#mcfef044b91\" y=\"96.641241\"/>\r\n",
       "     <use style=\"fill:#4c72b0;stroke:#4c72b0;\" x=\"300.236771\" xlink:href=\"#mcfef044b91\" y=\"46.861082\"/>\r\n",
       "     <use style=\"fill:#4c72b0;stroke:#4c72b0;\" x=\"185.567045\" xlink:href=\"#mcfef044b91\" y=\"139.553558\"/>\r\n",
       "     <use style=\"fill:#4c72b0;stroke:#4c72b0;\" x=\"221.98235\" xlink:href=\"#mcfef044b91\" y=\"129.202292\"/>\r\n",
       "     <use style=\"fill:#4c72b0;stroke:#4c72b0;\" x=\"164.177314\" xlink:href=\"#mcfef044b91\" y=\"137.856279\"/>\r\n",
       "     <use style=\"fill:#4c72b0;stroke:#4c72b0;\" x=\"242.526623\" xlink:href=\"#mcfef044b91\" y=\"94.822075\"/>\r\n",
       "     <use style=\"fill:#4c72b0;stroke:#4c72b0;\" x=\"137.41816\" xlink:href=\"#mcfef044b91\" y=\"138.604597\"/>\r\n",
       "     <use style=\"fill:#4c72b0;stroke:#4c72b0;\" x=\"181.688547\" xlink:href=\"#mcfef044b91\" y=\"125.583891\"/>\r\n",
       "     <use style=\"fill:#4c72b0;stroke:#4c72b0;\" x=\"200.535145\" xlink:href=\"#mcfef044b91\" y=\"104.204983\"/>\r\n",
       "     <use style=\"fill:#4c72b0;stroke:#4c72b0;\" x=\"187.008514\" xlink:href=\"#mcfef044b91\" y=\"110.811029\"/>\r\n",
       "     <use style=\"fill:#4c72b0;stroke:#4c72b0;\" x=\"323.867112\" xlink:href=\"#mcfef044b91\" y=\"96.681851\"/>\r\n",
       "     <use style=\"fill:#4c72b0;stroke:#4c72b0;\" x=\"80.328869\" xlink:href=\"#mcfef044b91\" y=\"141.590251\"/>\r\n",
       "     <use style=\"fill:#4c72b0;stroke:#4c72b0;\" x=\"195.61595\" xlink:href=\"#mcfef044b91\" y=\"122.450714\"/>\r\n",
       "     <use style=\"fill:#4c72b0;stroke:#4c72b0;\" x=\"239.320924\" xlink:href=\"#mcfef044b91\" y=\"97.082068\"/>\r\n",
       "     <use style=\"fill:#4c72b0;stroke:#4c72b0;\" x=\"258.842678\" xlink:href=\"#mcfef044b91\" y=\"106.989521\"/>\r\n",
       "     <use style=\"fill:#4c72b0;stroke:#4c72b0;\" x=\"294.867914\" xlink:href=\"#mcfef044b91\" y=\"83.076601\"/>\r\n",
       "     <use style=\"fill:#4c72b0;stroke:#4c72b0;\" x=\"216.060483\" xlink:href=\"#mcfef044b91\" y=\"114.590968\"/>\r\n",
       "     <use style=\"fill:#4c72b0;stroke:#4c72b0;\" x=\"193.901884\" xlink:href=\"#mcfef044b91\" y=\"125.053512\"/>\r\n",
       "     <use style=\"fill:#4c72b0;stroke:#4c72b0;\" x=\"145.249106\" xlink:href=\"#mcfef044b91\" y=\"145.452279\"/>\r\n",
       "     <use style=\"fill:#4c72b0;stroke:#4c72b0;\" x=\"120.590694\" xlink:href=\"#mcfef044b91\" y=\"205.05165\"/>\r\n",
       "     <use style=\"fill:#4c72b0;stroke:#4c72b0;\" x=\"245.869534\" xlink:href=\"#mcfef044b91\" y=\"71.425901\"/>\r\n",
       "     <use style=\"fill:#4c72b0;stroke:#4c72b0;\" x=\"44.459901\" xlink:href=\"#mcfef044b91\" y=\"214.756364\"/>\r\n",
       "     <use style=\"fill:#4c72b0;stroke:#4c72b0;\" x=\"229.195005\" xlink:href=\"#mcfef044b91\" y=\"105.34382\"/>\r\n",
       "     <use style=\"fill:#4c72b0;stroke:#4c72b0;\" x=\"134.975326\" xlink:href=\"#mcfef044b91\" y=\"162.206502\"/>\r\n",
       "     <use style=\"fill:#4c72b0;stroke:#4c72b0;\" x=\"184.59153\" xlink:href=\"#mcfef044b91\" y=\"133.642408\"/>\r\n",
       "     <use style=\"fill:#4c72b0;stroke:#4c72b0;\" x=\"310.734325\" xlink:href=\"#mcfef044b91\" y=\"45.731934\"/>\r\n",
       "     <use style=\"fill:#4c72b0;stroke:#4c72b0;\" x=\"147.930291\" xlink:href=\"#mcfef044b91\" y=\"120.813463\"/>\r\n",
       "     <use style=\"fill:#4c72b0;stroke:#4c72b0;\" x=\"252.784433\" xlink:href=\"#mcfef044b91\" y=\"99.784609\"/>\r\n",
       "     <use style=\"fill:#4c72b0;stroke:#4c72b0;\" x=\"176.018709\" xlink:href=\"#mcfef044b91\" y=\"126.7269\"/>\r\n",
       "     <use style=\"fill:#4c72b0;stroke:#4c72b0;\" x=\"206.772692\" xlink:href=\"#mcfef044b91\" y=\"115.294213\"/>\r\n",
       "     <use style=\"fill:#4c72b0;stroke:#4c72b0;\" x=\"127.442582\" xlink:href=\"#mcfef044b91\" y=\"152.621917\"/>\r\n",
       "     <use style=\"fill:#4c72b0;stroke:#4c72b0;\" x=\"48.972237\" xlink:href=\"#mcfef044b91\" y=\"183.058111\"/>\r\n",
       "     <use style=\"fill:#4c72b0;stroke:#4c72b0;\" x=\"226.581815\" xlink:href=\"#mcfef044b91\" y=\"136.807002\"/>\r\n",
       "     <use style=\"fill:#4c72b0;stroke:#4c72b0;\" x=\"167.516469\" xlink:href=\"#mcfef044b91\" y=\"127.906218\"/>\r\n",
       "     <use style=\"fill:#4c72b0;stroke:#4c72b0;\" x=\"132.652643\" xlink:href=\"#mcfef044b91\" y=\"135.135485\"/>\r\n",
       "    </g>\r\n",
       "   </g>\r\n",
       "   <g id=\"patch_3\">\r\n",
       "    <path d=\"M 29.241719 224.64 \r\n",
       "L 29.241719 7.2 \r\n",
       "\" style=\"fill:none;stroke:#ffffff;stroke-linecap:square;stroke-linejoin:miter;stroke-width:1.25;\"/>\r\n",
       "   </g>\r\n",
       "   <g id=\"patch_4\">\r\n",
       "    <path d=\"M 364.041719 224.64 \r\n",
       "L 364.041719 7.2 \r\n",
       "\" style=\"fill:none;stroke:#ffffff;stroke-linecap:square;stroke-linejoin:miter;stroke-width:1.25;\"/>\r\n",
       "   </g>\r\n",
       "   <g id=\"patch_5\">\r\n",
       "    <path d=\"M 29.241719 224.64 \r\n",
       "L 364.041719 224.64 \r\n",
       "\" style=\"fill:none;stroke:#ffffff;stroke-linecap:square;stroke-linejoin:miter;stroke-width:1.25;\"/>\r\n",
       "   </g>\r\n",
       "   <g id=\"patch_6\">\r\n",
       "    <path d=\"M 29.241719 7.2 \r\n",
       "L 364.041719 7.2 \r\n",
       "\" style=\"fill:none;stroke:#ffffff;stroke-linecap:square;stroke-linejoin:miter;stroke-width:1.25;\"/>\r\n",
       "   </g>\r\n",
       "  </g>\r\n",
       " </g>\r\n",
       " <defs>\r\n",
       "  <clipPath id=\"pb9c39ebb59\">\r\n",
       "   <rect height=\"217.44\" width=\"334.8\" x=\"29.241719\" y=\"7.2\"/>\r\n",
       "  </clipPath>\r\n",
       " </defs>\r\n",
       "</svg>\r\n"
      ],
      "text/plain": [
       "<Figure size 432x288 with 1 Axes>"
      ]
     },
     "metadata": {},
     "output_type": "display_data"
    }
   ],
   "source": [
    "plt.scatter(x[:, 0], x[:, 1]);"
   ]
  },
  {
   "cell_type": "code",
   "execution_count": 40,
   "id": "32248974-9c1d-4ddb-95a5-1a73ecbde2d6",
   "metadata": {},
   "outputs": [
    {
     "name": "stdout",
     "output_type": "stream",
     "text": [
      "[37 46 28 10 99 94 23 63 69 72 52 39 17 95 79  6 15 61 20 96]\n"
     ]
    }
   ],
   "source": [
    "ind = np.random.choice(x.shape[0], 20, replace=False)\n",
    "print(ind)"
   ]
  },
  {
   "cell_type": "code",
   "execution_count": 41,
   "id": "1eb915d1-6d58-4acd-a12c-f5f07c62a029",
   "metadata": {},
   "outputs": [
    {
     "name": "stdout",
     "output_type": "stream",
     "text": [
      "[[ 0.48225423 -1.02455011]\n",
      " [ 0.59114963  0.73580464]\n",
      " [-1.13143694 -1.72371279]\n",
      " [ 0.57877273  2.636321  ]\n",
      " [-1.14891234 -1.64322377]\n",
      " [-0.2313217  -0.63759661]\n",
      " [-0.98011575 -0.09290897]\n",
      " [-1.63310469 -3.57680227]\n",
      " [-0.75864353 -1.78112342]\n",
      " [-0.54185815 -1.15911457]\n",
      " [ 0.94674679  2.46898717]\n",
      " [-0.50418887 -0.39242465]\n",
      " [ 0.62499709  1.4951684 ]\n",
      " [-1.2134118  -2.52949918]\n",
      " [ 0.41329378 -0.21668487]\n",
      " [ 0.44484589  0.65825555]\n",
      " [ 0.79084221  1.47981907]\n",
      " [-1.92957428 -2.52922881]\n",
      " [ 0.51691384  0.28717773]\n",
      " [-2.18485819 -4.07211516]]\n",
      "(20, 2)\n"
     ]
    }
   ],
   "source": [
    "selected = x[ind]\n",
    "print(selected)\n",
    "print(selected.shape)"
   ]
  },
  {
   "cell_type": "code",
   "execution_count": 42,
   "id": "5e0ec456-df0a-4e0c-a261-051858e10e7e",
   "metadata": {},
   "outputs": [
    {
     "data": {
      "image/svg+xml": [
       "<?xml version=\"1.0\" encoding=\"utf-8\" standalone=\"no\"?>\r\n",
       "<!DOCTYPE svg PUBLIC \"-//W3C//DTD SVG 1.1//EN\"\r\n",
       "  \"http://www.w3.org/Graphics/SVG/1.1/DTD/svg11.dtd\">\r\n",
       "<svg height=\"251.399844pt\" version=\"1.1\" viewBox=\"0 0 371.241719 251.399844\" width=\"371.241719pt\" xmlns=\"http://www.w3.org/2000/svg\" xmlns:xlink=\"http://www.w3.org/1999/xlink\">\r\n",
       " <metadata>\r\n",
       "  <rdf:RDF xmlns:cc=\"http://creativecommons.org/ns#\" xmlns:dc=\"http://purl.org/dc/elements/1.1/\" xmlns:rdf=\"http://www.w3.org/1999/02/22-rdf-syntax-ns#\">\r\n",
       "   <cc:Work>\r\n",
       "    <dc:type rdf:resource=\"http://purl.org/dc/dcmitype/StillImage\"/>\r\n",
       "    <dc:date>2021-10-14T09:35:14.495711</dc:date>\r\n",
       "    <dc:format>image/svg+xml</dc:format>\r\n",
       "    <dc:creator>\r\n",
       "     <cc:Agent>\r\n",
       "      <dc:title>Matplotlib v3.4.2, https://matplotlib.org/</dc:title>\r\n",
       "     </cc:Agent>\r\n",
       "    </dc:creator>\r\n",
       "   </cc:Work>\r\n",
       "  </rdf:RDF>\r\n",
       " </metadata>\r\n",
       " <defs>\r\n",
       "  <style type=\"text/css\">*{stroke-linecap:butt;stroke-linejoin:round;}</style>\r\n",
       " </defs>\r\n",
       " <g id=\"figure_1\">\r\n",
       "  <g id=\"patch_1\">\r\n",
       "   <path d=\"M 0 251.399844 \r\n",
       "L 371.241719 251.399844 \r\n",
       "L 371.241719 0 \r\n",
       "L 0 0 \r\n",
       "z\r\n",
       "\" style=\"fill:#ffffff;\"/>\r\n",
       "  </g>\r\n",
       "  <g id=\"axes_1\">\r\n",
       "   <g id=\"patch_2\">\r\n",
       "    <path d=\"M 29.241719 224.64 \r\n",
       "L 364.041719 224.64 \r\n",
       "L 364.041719 7.2 \r\n",
       "L 29.241719 7.2 \r\n",
       "z\r\n",
       "\" style=\"fill:#eaeaf2;\"/>\r\n",
       "   </g>\r\n",
       "   <g id=\"matplotlib.axis_1\">\r\n",
       "    <g id=\"xtick_1\">\r\n",
       "     <g id=\"line2d_1\">\r\n",
       "      <path clip-path=\"url(#p523cbb4710)\" d=\"M 63.904492 224.64 \r\n",
       "L 63.904492 7.2 \r\n",
       "\" style=\"fill:none;stroke:#ffffff;stroke-linecap:round;\"/>\r\n",
       "     </g>\r\n",
       "     <g id=\"text_1\">\r\n",
       "      <!-- −2.0 -->\r\n",
       "      <g style=\"fill:#262626;\" transform=\"translate(53.047149 242.013594)scale(0.11 -0.11)\">\r\n",
       "       <defs>\r\n",
       "        <path d=\"M 3381 1997 \r\n",
       "L 356 1997 \r\n",
       "L 356 2522 \r\n",
       "L 3381 2522 \r\n",
       "L 3381 1997 \r\n",
       "z\r\n",
       "\" id=\"ArialMT-2212\" transform=\"scale(0.015625)\"/>\r\n",
       "        <path d=\"M 3222 541 \r\n",
       "L 3222 0 \r\n",
       "L 194 0 \r\n",
       "Q 188 203 259 391 \r\n",
       "Q 375 700 629 1000 \r\n",
       "Q 884 1300 1366 1694 \r\n",
       "Q 2113 2306 2375 2664 \r\n",
       "Q 2638 3022 2638 3341 \r\n",
       "Q 2638 3675 2398 3904 \r\n",
       "Q 2159 4134 1775 4134 \r\n",
       "Q 1369 4134 1125 3890 \r\n",
       "Q 881 3647 878 3216 \r\n",
       "L 300 3275 \r\n",
       "Q 359 3922 746 4261 \r\n",
       "Q 1134 4600 1788 4600 \r\n",
       "Q 2447 4600 2831 4234 \r\n",
       "Q 3216 3869 3216 3328 \r\n",
       "Q 3216 3053 3103 2787 \r\n",
       "Q 2991 2522 2730 2228 \r\n",
       "Q 2469 1934 1863 1422 \r\n",
       "Q 1356 997 1212 845 \r\n",
       "Q 1069 694 975 541 \r\n",
       "L 3222 541 \r\n",
       "z\r\n",
       "\" id=\"ArialMT-32\" transform=\"scale(0.015625)\"/>\r\n",
       "        <path d=\"M 581 0 \r\n",
       "L 581 641 \r\n",
       "L 1222 641 \r\n",
       "L 1222 0 \r\n",
       "L 581 0 \r\n",
       "z\r\n",
       "\" id=\"ArialMT-2e\" transform=\"scale(0.015625)\"/>\r\n",
       "        <path d=\"M 266 2259 \r\n",
       "Q 266 3072 433 3567 \r\n",
       "Q 600 4063 929 4331 \r\n",
       "Q 1259 4600 1759 4600 \r\n",
       "Q 2128 4600 2406 4451 \r\n",
       "Q 2684 4303 2865 4023 \r\n",
       "Q 3047 3744 3150 3342 \r\n",
       "Q 3253 2941 3253 2259 \r\n",
       "Q 3253 1453 3087 958 \r\n",
       "Q 2922 463 2592 192 \r\n",
       "Q 2263 -78 1759 -78 \r\n",
       "Q 1097 -78 719 397 \r\n",
       "Q 266 969 266 2259 \r\n",
       "z\r\n",
       "M 844 2259 \r\n",
       "Q 844 1131 1108 757 \r\n",
       "Q 1372 384 1759 384 \r\n",
       "Q 2147 384 2411 759 \r\n",
       "Q 2675 1134 2675 2259 \r\n",
       "Q 2675 3391 2411 3762 \r\n",
       "Q 2147 4134 1753 4134 \r\n",
       "Q 1366 4134 1134 3806 \r\n",
       "Q 844 3388 844 2259 \r\n",
       "z\r\n",
       "\" id=\"ArialMT-30\" transform=\"scale(0.015625)\"/>\r\n",
       "       </defs>\r\n",
       "       <use xlink:href=\"#ArialMT-2212\"/>\r\n",
       "       <use x=\"58.398438\" xlink:href=\"#ArialMT-32\"/>\r\n",
       "       <use x=\"114.013672\" xlink:href=\"#ArialMT-2e\"/>\r\n",
       "       <use x=\"141.796875\" xlink:href=\"#ArialMT-30\"/>\r\n",
       "      </g>\r\n",
       "     </g>\r\n",
       "    </g>\r\n",
       "    <g id=\"xtick_2\">\r\n",
       "     <g id=\"line2d_2\">\r\n",
       "      <path clip-path=\"url(#p523cbb4710)\" d=\"M 104.2929 224.64 \r\n",
       "L 104.2929 7.2 \r\n",
       "\" style=\"fill:none;stroke:#ffffff;stroke-linecap:round;\"/>\r\n",
       "     </g>\r\n",
       "     <g id=\"text_2\">\r\n",
       "      <!-- −1.5 -->\r\n",
       "      <g style=\"fill:#262626;\" transform=\"translate(93.435556 242.013594)scale(0.11 -0.11)\">\r\n",
       "       <defs>\r\n",
       "        <path d=\"M 2384 0 \r\n",
       "L 1822 0 \r\n",
       "L 1822 3584 \r\n",
       "Q 1619 3391 1289 3197 \r\n",
       "Q 959 3003 697 2906 \r\n",
       "L 697 3450 \r\n",
       "Q 1169 3672 1522 3987 \r\n",
       "Q 1875 4303 2022 4600 \r\n",
       "L 2384 4600 \r\n",
       "L 2384 0 \r\n",
       "z\r\n",
       "\" id=\"ArialMT-31\" transform=\"scale(0.015625)\"/>\r\n",
       "        <path d=\"M 266 1200 \r\n",
       "L 856 1250 \r\n",
       "Q 922 819 1161 601 \r\n",
       "Q 1400 384 1738 384 \r\n",
       "Q 2144 384 2425 690 \r\n",
       "Q 2706 997 2706 1503 \r\n",
       "Q 2706 1984 2436 2262 \r\n",
       "Q 2166 2541 1728 2541 \r\n",
       "Q 1456 2541 1237 2417 \r\n",
       "Q 1019 2294 894 2097 \r\n",
       "L 366 2166 \r\n",
       "L 809 4519 \r\n",
       "L 3088 4519 \r\n",
       "L 3088 3981 \r\n",
       "L 1259 3981 \r\n",
       "L 1013 2750 \r\n",
       "Q 1425 3038 1878 3038 \r\n",
       "Q 2478 3038 2890 2622 \r\n",
       "Q 3303 2206 3303 1553 \r\n",
       "Q 3303 931 2941 478 \r\n",
       "Q 2500 -78 1738 -78 \r\n",
       "Q 1113 -78 717 272 \r\n",
       "Q 322 622 266 1200 \r\n",
       "z\r\n",
       "\" id=\"ArialMT-35\" transform=\"scale(0.015625)\"/>\r\n",
       "       </defs>\r\n",
       "       <use xlink:href=\"#ArialMT-2212\"/>\r\n",
       "       <use x=\"58.398438\" xlink:href=\"#ArialMT-31\"/>\r\n",
       "       <use x=\"114.013672\" xlink:href=\"#ArialMT-2e\"/>\r\n",
       "       <use x=\"141.796875\" xlink:href=\"#ArialMT-35\"/>\r\n",
       "      </g>\r\n",
       "     </g>\r\n",
       "    </g>\r\n",
       "    <g id=\"xtick_3\">\r\n",
       "     <g id=\"line2d_3\">\r\n",
       "      <path clip-path=\"url(#p523cbb4710)\" d=\"M 144.681307 224.64 \r\n",
       "L 144.681307 7.2 \r\n",
       "\" style=\"fill:none;stroke:#ffffff;stroke-linecap:round;\"/>\r\n",
       "     </g>\r\n",
       "     <g id=\"text_3\">\r\n",
       "      <!-- −1.0 -->\r\n",
       "      <g style=\"fill:#262626;\" transform=\"translate(133.823964 242.013594)scale(0.11 -0.11)\">\r\n",
       "       <use xlink:href=\"#ArialMT-2212\"/>\r\n",
       "       <use x=\"58.398438\" xlink:href=\"#ArialMT-31\"/>\r\n",
       "       <use x=\"114.013672\" xlink:href=\"#ArialMT-2e\"/>\r\n",
       "       <use x=\"141.796875\" xlink:href=\"#ArialMT-30\"/>\r\n",
       "      </g>\r\n",
       "     </g>\r\n",
       "    </g>\r\n",
       "    <g id=\"xtick_4\">\r\n",
       "     <g id=\"line2d_4\">\r\n",
       "      <path clip-path=\"url(#p523cbb4710)\" d=\"M 185.069715 224.64 \r\n",
       "L 185.069715 7.2 \r\n",
       "\" style=\"fill:none;stroke:#ffffff;stroke-linecap:round;\"/>\r\n",
       "     </g>\r\n",
       "     <g id=\"text_4\">\r\n",
       "      <!-- −0.5 -->\r\n",
       "      <g style=\"fill:#262626;\" transform=\"translate(174.212371 242.013594)scale(0.11 -0.11)\">\r\n",
       "       <use xlink:href=\"#ArialMT-2212\"/>\r\n",
       "       <use x=\"58.398438\" xlink:href=\"#ArialMT-30\"/>\r\n",
       "       <use x=\"114.013672\" xlink:href=\"#ArialMT-2e\"/>\r\n",
       "       <use x=\"141.796875\" xlink:href=\"#ArialMT-35\"/>\r\n",
       "      </g>\r\n",
       "     </g>\r\n",
       "    </g>\r\n",
       "    <g id=\"xtick_5\">\r\n",
       "     <g id=\"line2d_5\">\r\n",
       "      <path clip-path=\"url(#p523cbb4710)\" d=\"M 225.458122 224.64 \r\n",
       "L 225.458122 7.2 \r\n",
       "\" style=\"fill:none;stroke:#ffffff;stroke-linecap:round;\"/>\r\n",
       "     </g>\r\n",
       "     <g id=\"text_5\">\r\n",
       "      <!-- 0.0 -->\r\n",
       "      <g style=\"fill:#262626;\" transform=\"translate(217.813122 242.013594)scale(0.11 -0.11)\">\r\n",
       "       <use xlink:href=\"#ArialMT-30\"/>\r\n",
       "       <use x=\"55.615234\" xlink:href=\"#ArialMT-2e\"/>\r\n",
       "       <use x=\"83.398438\" xlink:href=\"#ArialMT-30\"/>\r\n",
       "      </g>\r\n",
       "     </g>\r\n",
       "    </g>\r\n",
       "    <g id=\"xtick_6\">\r\n",
       "     <g id=\"line2d_6\">\r\n",
       "      <path clip-path=\"url(#p523cbb4710)\" d=\"M 265.84653 224.64 \r\n",
       "L 265.84653 7.2 \r\n",
       "\" style=\"fill:none;stroke:#ffffff;stroke-linecap:round;\"/>\r\n",
       "     </g>\r\n",
       "     <g id=\"text_6\">\r\n",
       "      <!-- 0.5 -->\r\n",
       "      <g style=\"fill:#262626;\" transform=\"translate(258.20153 242.013594)scale(0.11 -0.11)\">\r\n",
       "       <use xlink:href=\"#ArialMT-30\"/>\r\n",
       "       <use x=\"55.615234\" xlink:href=\"#ArialMT-2e\"/>\r\n",
       "       <use x=\"83.398438\" xlink:href=\"#ArialMT-35\"/>\r\n",
       "      </g>\r\n",
       "     </g>\r\n",
       "    </g>\r\n",
       "    <g id=\"xtick_7\">\r\n",
       "     <g id=\"line2d_7\">\r\n",
       "      <path clip-path=\"url(#p523cbb4710)\" d=\"M 306.234937 224.64 \r\n",
       "L 306.234937 7.2 \r\n",
       "\" style=\"fill:none;stroke:#ffffff;stroke-linecap:round;\"/>\r\n",
       "     </g>\r\n",
       "     <g id=\"text_7\">\r\n",
       "      <!-- 1.0 -->\r\n",
       "      <g style=\"fill:#262626;\" transform=\"translate(298.589937 242.013594)scale(0.11 -0.11)\">\r\n",
       "       <use xlink:href=\"#ArialMT-31\"/>\r\n",
       "       <use x=\"55.615234\" xlink:href=\"#ArialMT-2e\"/>\r\n",
       "       <use x=\"83.398438\" xlink:href=\"#ArialMT-30\"/>\r\n",
       "      </g>\r\n",
       "     </g>\r\n",
       "    </g>\r\n",
       "    <g id=\"xtick_8\">\r\n",
       "     <g id=\"line2d_8\">\r\n",
       "      <path clip-path=\"url(#p523cbb4710)\" d=\"M 346.623345 224.64 \r\n",
       "L 346.623345 7.2 \r\n",
       "\" style=\"fill:none;stroke:#ffffff;stroke-linecap:round;\"/>\r\n",
       "     </g>\r\n",
       "     <g id=\"text_8\">\r\n",
       "      <!-- 1.5 -->\r\n",
       "      <g style=\"fill:#262626;\" transform=\"translate(338.978345 242.013594)scale(0.11 -0.11)\">\r\n",
       "       <use xlink:href=\"#ArialMT-31\"/>\r\n",
       "       <use x=\"55.615234\" xlink:href=\"#ArialMT-2e\"/>\r\n",
       "       <use x=\"83.398438\" xlink:href=\"#ArialMT-35\"/>\r\n",
       "      </g>\r\n",
       "     </g>\r\n",
       "    </g>\r\n",
       "   </g>\r\n",
       "   <g id=\"matplotlib.axis_2\">\r\n",
       "    <g id=\"ytick_1\">\r\n",
       "     <g id=\"line2d_9\">\r\n",
       "      <path clip-path=\"url(#p523cbb4710)\" d=\"M 29.241719 221.095754 \r\n",
       "L 364.041719 221.095754 \r\n",
       "\" style=\"fill:none;stroke:#ffffff;stroke-linecap:round;\"/>\r\n",
       "     </g>\r\n",
       "     <g id=\"text_9\">\r\n",
       "      <!-- −6 -->\r\n",
       "      <g style=\"fill:#262626;\" transform=\"translate(7.2 225.032551)scale(0.11 -0.11)\">\r\n",
       "       <defs>\r\n",
       "        <path d=\"M 3184 3459 \r\n",
       "L 2625 3416 \r\n",
       "Q 2550 3747 2413 3897 \r\n",
       "Q 2184 4138 1850 4138 \r\n",
       "Q 1581 4138 1378 3988 \r\n",
       "Q 1113 3794 959 3422 \r\n",
       "Q 806 3050 800 2363 \r\n",
       "Q 1003 2672 1297 2822 \r\n",
       "Q 1591 2972 1913 2972 \r\n",
       "Q 2475 2972 2870 2558 \r\n",
       "Q 3266 2144 3266 1488 \r\n",
       "Q 3266 1056 3080 686 \r\n",
       "Q 2894 316 2569 119 \r\n",
       "Q 2244 -78 1831 -78 \r\n",
       "Q 1128 -78 684 439 \r\n",
       "Q 241 956 241 2144 \r\n",
       "Q 241 3472 731 4075 \r\n",
       "Q 1159 4600 1884 4600 \r\n",
       "Q 2425 4600 2770 4297 \r\n",
       "Q 3116 3994 3184 3459 \r\n",
       "z\r\n",
       "M 888 1484 \r\n",
       "Q 888 1194 1011 928 \r\n",
       "Q 1134 663 1356 523 \r\n",
       "Q 1578 384 1822 384 \r\n",
       "Q 2178 384 2434 671 \r\n",
       "Q 2691 959 2691 1453 \r\n",
       "Q 2691 1928 2437 2201 \r\n",
       "Q 2184 2475 1800 2475 \r\n",
       "Q 1419 2475 1153 2201 \r\n",
       "Q 888 1928 888 1484 \r\n",
       "z\r\n",
       "\" id=\"ArialMT-36\" transform=\"scale(0.015625)\"/>\r\n",
       "       </defs>\r\n",
       "       <use xlink:href=\"#ArialMT-2212\"/>\r\n",
       "       <use x=\"58.398438\" xlink:href=\"#ArialMT-36\"/>\r\n",
       "      </g>\r\n",
       "     </g>\r\n",
       "    </g>\r\n",
       "    <g id=\"ytick_2\">\r\n",
       "     <g id=\"line2d_10\">\r\n",
       "      <path clip-path=\"url(#p523cbb4710)\" d=\"M 29.241719 181.635261 \r\n",
       "L 364.041719 181.635261 \r\n",
       "\" style=\"fill:none;stroke:#ffffff;stroke-linecap:round;\"/>\r\n",
       "     </g>\r\n",
       "     <g id=\"text_10\">\r\n",
       "      <!-- −4 -->\r\n",
       "      <g style=\"fill:#262626;\" transform=\"translate(7.2 185.572058)scale(0.11 -0.11)\">\r\n",
       "       <defs>\r\n",
       "        <path d=\"M 2069 0 \r\n",
       "L 2069 1097 \r\n",
       "L 81 1097 \r\n",
       "L 81 1613 \r\n",
       "L 2172 4581 \r\n",
       "L 2631 4581 \r\n",
       "L 2631 1613 \r\n",
       "L 3250 1613 \r\n",
       "L 3250 1097 \r\n",
       "L 2631 1097 \r\n",
       "L 2631 0 \r\n",
       "L 2069 0 \r\n",
       "z\r\n",
       "M 2069 1613 \r\n",
       "L 2069 3678 \r\n",
       "L 634 1613 \r\n",
       "L 2069 1613 \r\n",
       "z\r\n",
       "\" id=\"ArialMT-34\" transform=\"scale(0.015625)\"/>\r\n",
       "       </defs>\r\n",
       "       <use xlink:href=\"#ArialMT-2212\"/>\r\n",
       "       <use x=\"58.398438\" xlink:href=\"#ArialMT-34\"/>\r\n",
       "      </g>\r\n",
       "     </g>\r\n",
       "    </g>\r\n",
       "    <g id=\"ytick_3\">\r\n",
       "     <g id=\"line2d_11\">\r\n",
       "      <path clip-path=\"url(#p523cbb4710)\" d=\"M 29.241719 142.174768 \r\n",
       "L 364.041719 142.174768 \r\n",
       "\" style=\"fill:none;stroke:#ffffff;stroke-linecap:round;\"/>\r\n",
       "     </g>\r\n",
       "     <g id=\"text_11\">\r\n",
       "      <!-- −2 -->\r\n",
       "      <g style=\"fill:#262626;\" transform=\"translate(7.2 146.111565)scale(0.11 -0.11)\">\r\n",
       "       <use xlink:href=\"#ArialMT-2212\"/>\r\n",
       "       <use x=\"58.398438\" xlink:href=\"#ArialMT-32\"/>\r\n",
       "      </g>\r\n",
       "     </g>\r\n",
       "    </g>\r\n",
       "    <g id=\"ytick_4\">\r\n",
       "     <g id=\"line2d_12\">\r\n",
       "      <path clip-path=\"url(#p523cbb4710)\" d=\"M 29.241719 102.714275 \r\n",
       "L 364.041719 102.714275 \r\n",
       "\" style=\"fill:none;stroke:#ffffff;stroke-linecap:round;\"/>\r\n",
       "     </g>\r\n",
       "     <g id=\"text_12\">\r\n",
       "      <!-- 0 -->\r\n",
       "      <g style=\"fill:#262626;\" transform=\"translate(13.624688 106.651072)scale(0.11 -0.11)\">\r\n",
       "       <use xlink:href=\"#ArialMT-30\"/>\r\n",
       "      </g>\r\n",
       "     </g>\r\n",
       "    </g>\r\n",
       "    <g id=\"ytick_5\">\r\n",
       "     <g id=\"line2d_13\">\r\n",
       "      <path clip-path=\"url(#p523cbb4710)\" d=\"M 29.241719 63.253782 \r\n",
       "L 364.041719 63.253782 \r\n",
       "\" style=\"fill:none;stroke:#ffffff;stroke-linecap:round;\"/>\r\n",
       "     </g>\r\n",
       "     <g id=\"text_13\">\r\n",
       "      <!-- 2 -->\r\n",
       "      <g style=\"fill:#262626;\" transform=\"translate(13.624688 67.190579)scale(0.11 -0.11)\">\r\n",
       "       <use xlink:href=\"#ArialMT-32\"/>\r\n",
       "      </g>\r\n",
       "     </g>\r\n",
       "    </g>\r\n",
       "    <g id=\"ytick_6\">\r\n",
       "     <g id=\"line2d_14\">\r\n",
       "      <path clip-path=\"url(#p523cbb4710)\" d=\"M 29.241719 23.793289 \r\n",
       "L 364.041719 23.793289 \r\n",
       "\" style=\"fill:none;stroke:#ffffff;stroke-linecap:round;\"/>\r\n",
       "     </g>\r\n",
       "     <g id=\"text_14\">\r\n",
       "      <!-- 4 -->\r\n",
       "      <g style=\"fill:#262626;\" transform=\"translate(13.624688 27.730086)scale(0.11 -0.11)\">\r\n",
       "       <use xlink:href=\"#ArialMT-34\"/>\r\n",
       "      </g>\r\n",
       "     </g>\r\n",
       "    </g>\r\n",
       "   </g>\r\n",
       "   <g id=\"PathCollection_1\">\r\n",
       "    <defs>\r\n",
       "     <path d=\"M 0 3 \r\n",
       "C 0.795609 3 1.55874 2.683901 2.12132 2.12132 \r\n",
       "C 2.683901 1.55874 3 0.795609 3 0 \r\n",
       "C 3 -0.795609 2.683901 -1.55874 2.12132 -2.12132 \r\n",
       "C 1.55874 -2.683901 0.795609 -3 0 -3 \r\n",
       "C -0.795609 -3 -1.55874 -2.683901 -2.12132 -2.12132 \r\n",
       "C -2.683901 -1.55874 -3 -0.795609 -3 0 \r\n",
       "C -3 0.795609 -2.683901 1.55874 -2.12132 2.12132 \r\n",
       "C -1.55874 2.683901 -0.795609 3 0 3 \r\n",
       "z\r\n",
       "\" id=\"m52d8fdfaba\" style=\"stroke:#4c72b0;stroke-opacity:0.3;\"/>\r\n",
       "    </defs>\r\n",
       "    <g clip-path=\"url(#p523cbb4710)\">\r\n",
       "     <use style=\"fill:#4c72b0;fill-opacity:0.3;stroke:#4c72b0;stroke-opacity:0.3;\" x=\"123.146985\" xlink:href=\"#m52d8fdfaba\" y=\"176.110398\"/>\r\n",
       "     <use style=\"fill:#4c72b0;fill-opacity:0.3;stroke:#4c72b0;stroke-opacity:0.3;\" x=\"298.042099\" xlink:href=\"#m52d8fdfaba\" y=\"82.826628\"/>\r\n",
       "     <use style=\"fill:#4c72b0;fill-opacity:0.3;stroke:#4c72b0;stroke-opacity:0.3;\" x=\"232.019488\" xlink:href=\"#m52d8fdfaba\" y=\"147.996473\"/>\r\n",
       "     <use style=\"fill:#4c72b0;fill-opacity:0.3;stroke:#4c72b0;stroke-opacity:0.3;\" x=\"118.776618\" xlink:href=\"#m52d8fdfaba\" y=\"181.879191\"/>\r\n",
       "     <use style=\"fill:#4c72b0;fill-opacity:0.3;stroke:#4c72b0;stroke-opacity:0.3;\" x=\"209.357382\" xlink:href=\"#m52d8fdfaba\" y=\"117.53419\"/>\r\n",
       "     <use style=\"fill:#4c72b0;fill-opacity:0.3;stroke:#4c72b0;stroke-opacity:0.3;\" x=\"180.026828\" xlink:href=\"#m52d8fdfaba\" y=\"173.5006\"/>\r\n",
       "     <use style=\"fill:#4c72b0;fill-opacity:0.3;stroke:#4c72b0;stroke-opacity:0.3;\" x=\"261.391357\" xlink:href=\"#m52d8fdfaba\" y=\"89.72673\"/>\r\n",
       "     <use style=\"fill:#4c72b0;fill-opacity:0.3;stroke:#4c72b0;stroke-opacity:0.3;\" x=\"174.846907\" xlink:href=\"#m52d8fdfaba\" y=\"156.048174\"/>\r\n",
       "     <use style=\"fill:#4c72b0;fill-opacity:0.3;stroke:#4c72b0;stroke-opacity:0.3;\" x=\"265.462417\" xlink:href=\"#m52d8fdfaba\" y=\"97.871692\"/>\r\n",
       "     <use style=\"fill:#4c72b0;fill-opacity:0.3;stroke:#4c72b0;stroke-opacity:0.3;\" x=\"204.291839\" xlink:href=\"#m52d8fdfaba\" y=\"102.749232\"/>\r\n",
       "     <use style=\"fill:#4c72b0;fill-opacity:0.3;stroke:#4c72b0;stroke-opacity:0.3;\" x=\"272.20954\" xlink:href=\"#m52d8fdfaba\" y=\"50.699012\"/>\r\n",
       "     <use style=\"fill:#4c72b0;fill-opacity:0.3;stroke:#4c72b0;stroke-opacity:0.3;\" x=\"142.641089\" xlink:href=\"#m52d8fdfaba\" y=\"140.819192\"/>\r\n",
       "     <use style=\"fill:#4c72b0;fill-opacity:0.3;stroke:#4c72b0;stroke-opacity:0.3;\" x=\"179.364364\" xlink:href=\"#m52d8fdfaba\" y=\"144.49676\"/>\r\n",
       "     <use style=\"fill:#4c72b0;fill-opacity:0.3;stroke:#4c72b0;stroke-opacity:0.3;\" x=\"263.555637\" xlink:href=\"#m52d8fdfaba\" y=\"100.232836\"/>\r\n",
       "     <use style=\"fill:#4c72b0;fill-opacity:0.3;stroke:#4c72b0;stroke-opacity:0.3;\" x=\"229.055765\" xlink:href=\"#m52d8fdfaba\" y=\"89.266592\"/>\r\n",
       "     <use style=\"fill:#4c72b0;fill-opacity:0.3;stroke:#4c72b0;stroke-opacity:0.3;\" x=\"289.339838\" xlink:href=\"#m52d8fdfaba\" y=\"73.51708\"/>\r\n",
       "     <use style=\"fill:#4c72b0;fill-opacity:0.3;stroke:#4c72b0;stroke-opacity:0.3;\" x=\"302.867432\" xlink:href=\"#m52d8fdfaba\" y=\"75.117117\"/>\r\n",
       "     <use style=\"fill:#4c72b0;fill-opacity:0.3;stroke:#4c72b0;stroke-opacity:0.3;\" x=\"275.943397\" xlink:href=\"#m52d8fdfaba\" y=\"73.214234\"/>\r\n",
       "     <use style=\"fill:#4c72b0;fill-opacity:0.3;stroke:#4c72b0;stroke-opacity:0.3;\" x=\"301.594565\" xlink:href=\"#m52d8fdfaba\" y=\"52.811463\"/>\r\n",
       "     <use style=\"fill:#4c72b0;fill-opacity:0.3;stroke:#4c72b0;stroke-opacity:0.3;\" x=\"78.652298\" xlink:href=\"#m52d8fdfaba\" y=\"173.43675\"/>\r\n",
       "     <use style=\"fill:#4c72b0;fill-opacity:0.3;stroke:#4c72b0;stroke-opacity:0.3;\" x=\"267.212776\" xlink:href=\"#m52d8fdfaba\" y=\"97.048187\"/>\r\n",
       "     <use style=\"fill:#4c72b0;fill-opacity:0.3;stroke:#4c72b0;stroke-opacity:0.3;\" x=\"228.900016\" xlink:href=\"#m52d8fdfaba\" y=\"64.540803\"/>\r\n",
       "     <use style=\"fill:#4c72b0;fill-opacity:0.3;stroke:#4c72b0;stroke-opacity:0.3;\" x=\"241.357216\" xlink:href=\"#m52d8fdfaba\" y=\"106.942381\"/>\r\n",
       "     <use style=\"fill:#4c72b0;fill-opacity:0.3;stroke:#4c72b0;stroke-opacity:0.3;\" x=\"146.287494\" xlink:href=\"#m52d8fdfaba\" y=\"104.547392\"/>\r\n",
       "     <use style=\"fill:#4c72b0;fill-opacity:0.3;stroke:#4c72b0;stroke-opacity:0.3;\" x=\"197.411944\" xlink:href=\"#m52d8fdfaba\" y=\"106.071832\"/>\r\n",
       "     <use style=\"fill:#4c72b0;fill-opacity:0.3;stroke:#4c72b0;stroke-opacity:0.3;\" x=\"213.945727\" xlink:href=\"#m52d8fdfaba\" y=\"117.025583\"/>\r\n",
       "     <use style=\"fill:#4c72b0;fill-opacity:0.3;stroke:#4c72b0;stroke-opacity:0.3;\" x=\"321.520887\" xlink:href=\"#m52d8fdfaba\" y=\"53.527838\"/>\r\n",
       "     <use style=\"fill:#4c72b0;fill-opacity:0.3;stroke:#4c72b0;stroke-opacity:0.3;\" x=\"222.913825\" xlink:href=\"#m52d8fdfaba\" y=\"91.686768\"/>\r\n",
       "     <use style=\"fill:#4c72b0;fill-opacity:0.3;stroke:#4c72b0;stroke-opacity:0.3;\" x=\"134.06425\" xlink:href=\"#m52d8fdfaba\" y=\"136.723553\"/>\r\n",
       "     <use style=\"fill:#4c72b0;fill-opacity:0.3;stroke:#4c72b0;stroke-opacity:0.3;\" x=\"176.78386\" xlink:href=\"#m52d8fdfaba\" y=\"112.513894\"/>\r\n",
       "     <use style=\"fill:#4c72b0;fill-opacity:0.3;stroke:#4c72b0;stroke-opacity:0.3;\" x=\"243.02877\" xlink:href=\"#m52d8fdfaba\" y=\"65.597011\"/>\r\n",
       "     <use style=\"fill:#4c72b0;fill-opacity:0.3;stroke:#4c72b0;stroke-opacity:0.3;\" x=\"196.393803\" xlink:href=\"#m52d8fdfaba\" y=\"126.219153\"/>\r\n",
       "     <use style=\"fill:#4c72b0;fill-opacity:0.3;stroke:#4c72b0;stroke-opacity:0.3;\" x=\"191.337037\" xlink:href=\"#m52d8fdfaba\" y=\"124.448931\"/>\r\n",
       "     <use style=\"fill:#4c72b0;fill-opacity:0.3;stroke:#4c72b0;stroke-opacity:0.3;\" x=\"94.026333\" xlink:href=\"#m52d8fdfaba\" y=\"147.760875\"/>\r\n",
       "     <use style=\"fill:#4c72b0;fill-opacity:0.3;stroke:#4c72b0;stroke-opacity:0.3;\" x=\"105.521323\" xlink:href=\"#m52d8fdfaba\" y=\"203.26282\"/>\r\n",
       "     <use style=\"fill:#4c72b0;fill-opacity:0.3;stroke:#4c72b0;stroke-opacity:0.3;\" x=\"348.823537\" xlink:href=\"#m52d8fdfaba\" y=\"40.740612\"/>\r\n",
       "     <use style=\"fill:#4c72b0;fill-opacity:0.3;stroke:#4c72b0;stroke-opacity:0.3;\" x=\"186.43078\" xlink:href=\"#m52d8fdfaba\" y=\"107.016842\"/>\r\n",
       "     <use style=\"fill:#4c72b0;fill-opacity:0.3;stroke:#4c72b0;stroke-opacity:0.3;\" x=\"264.413083\" xlink:href=\"#m52d8fdfaba\" y=\"122.928901\"/>\r\n",
       "     <use style=\"fill:#4c72b0;fill-opacity:0.3;stroke:#4c72b0;stroke-opacity:0.3;\" x=\"222.71522\" xlink:href=\"#m52d8fdfaba\" y=\"86.649614\"/>\r\n",
       "     <use style=\"fill:#4c72b0;fill-opacity:0.3;stroke:#4c72b0;stroke-opacity:0.3;\" x=\"184.731351\" xlink:href=\"#m52d8fdfaba\" y=\"110.45691\"/>\r\n",
       "     <use style=\"fill:#4c72b0;fill-opacity:0.3;stroke:#4c72b0;stroke-opacity:0.3;\" x=\"248.25586\" xlink:href=\"#m52d8fdfaba\" y=\"93.55811\"/>\r\n",
       "     <use style=\"fill:#4c72b0;fill-opacity:0.3;stroke:#4c72b0;stroke-opacity:0.3;\" x=\"198.859915\" xlink:href=\"#m52d8fdfaba\" y=\"109.641881\"/>\r\n",
       "     <use style=\"fill:#4c72b0;fill-opacity:0.3;stroke:#4c72b0;stroke-opacity:0.3;\" x=\"206.980613\" xlink:href=\"#m52d8fdfaba\" y=\"111.068687\"/>\r\n",
       "     <use style=\"fill:#4c72b0;fill-opacity:0.3;stroke:#4c72b0;stroke-opacity:0.3;\" x=\"263.837106\" xlink:href=\"#m52d8fdfaba\" y=\"72.01949\"/>\r\n",
       "     <use style=\"fill:#4c72b0;fill-opacity:0.3;stroke:#4c72b0;stroke-opacity:0.3;\" x=\"181.45229\" xlink:href=\"#m52d8fdfaba\" y=\"104.542831\"/>\r\n",
       "     <use style=\"fill:#4c72b0;fill-opacity:0.3;stroke:#4c72b0;stroke-opacity:0.3;\" x=\"130.261678\" xlink:href=\"#m52d8fdfaba\" y=\"154.896194\"/>\r\n",
       "     <use style=\"fill:#4c72b0;fill-opacity:0.3;stroke:#4c72b0;stroke-opacity:0.3;\" x=\"273.209307\" xlink:href=\"#m52d8fdfaba\" y=\"88.196668\"/>\r\n",
       "     <use style=\"fill:#4c72b0;fill-opacity:0.3;stroke:#4c72b0;stroke-opacity:0.3;\" x=\"191.462834\" xlink:href=\"#m52d8fdfaba\" y=\"121.109187\"/>\r\n",
       "     <use style=\"fill:#4c72b0;fill-opacity:0.3;stroke:#4c72b0;stroke-opacity:0.3;\" x=\"249.771587\" xlink:href=\"#m52d8fdfaba\" y=\"87.445895\"/>\r\n",
       "     <use style=\"fill:#4c72b0;fill-opacity:0.3;stroke:#4c72b0;stroke-opacity:0.3;\" x=\"250.150043\" xlink:href=\"#m52d8fdfaba\" y=\"73.246695\"/>\r\n",
       "     <use style=\"fill:#4c72b0;fill-opacity:0.3;stroke:#4c72b0;stroke-opacity:0.3;\" x=\"220.974534\" xlink:href=\"#m52d8fdfaba\" y=\"79.207767\"/>\r\n",
       "     <use style=\"fill:#4c72b0;fill-opacity:0.3;stroke:#4c72b0;stroke-opacity:0.3;\" x=\"176.997661\" xlink:href=\"#m52d8fdfaba\" y=\"118.614391\"/>\r\n",
       "     <use style=\"fill:#4c72b0;fill-opacity:0.3;stroke:#4c72b0;stroke-opacity:0.3;\" x=\"301.933313\" xlink:href=\"#m52d8fdfaba\" y=\"54.000549\"/>\r\n",
       "     <use style=\"fill:#4c72b0;fill-opacity:0.3;stroke:#4c72b0;stroke-opacity:0.3;\" x=\"199.672586\" xlink:href=\"#m52d8fdfaba\" y=\"138.286769\"/>\r\n",
       "     <use style=\"fill:#4c72b0;fill-opacity:0.3;stroke:#4c72b0;stroke-opacity:0.3;\" x=\"244.31731\" xlink:href=\"#m52d8fdfaba\" y=\"90.896747\"/>\r\n",
       "     <use style=\"fill:#4c72b0;fill-opacity:0.3;stroke:#4c72b0;stroke-opacity:0.3;\" x=\"318.188994\" xlink:href=\"#m52d8fdfaba\" y=\"41.301594\"/>\r\n",
       "     <use style=\"fill:#4c72b0;fill-opacity:0.3;stroke:#4c72b0;stroke-opacity:0.3;\" x=\"188.880119\" xlink:href=\"#m52d8fdfaba\" y=\"142.63955\"/>\r\n",
       "     <use style=\"fill:#4c72b0;fill-opacity:0.3;stroke:#4c72b0;stroke-opacity:0.3;\" x=\"239.862799\" xlink:href=\"#m52d8fdfaba\" y=\"122.244973\"/>\r\n",
       "     <use style=\"fill:#4c72b0;fill-opacity:0.3;stroke:#4c72b0;stroke-opacity:0.3;\" x=\"278.292565\" xlink:href=\"#m52d8fdfaba\" y=\"106.064713\"/>\r\n",
       "     <use style=\"fill:#4c72b0;fill-opacity:0.3;stroke:#4c72b0;stroke-opacity:0.3;\" x=\"129.128997\" xlink:href=\"#m52d8fdfaba\" y=\"150.785872\"/>\r\n",
       "     <use style=\"fill:#4c72b0;fill-opacity:0.3;stroke:#4c72b0;stroke-opacity:0.3;\" x=\"251.256994\" xlink:href=\"#m52d8fdfaba\" y=\"104.055265\"/>\r\n",
       "     <use style=\"fill:#4c72b0;fill-opacity:0.3;stroke:#4c72b0;stroke-opacity:0.3;\" x=\"69.593258\" xlink:href=\"#m52d8fdfaba\" y=\"152.616583\"/>\r\n",
       "     <use style=\"fill:#4c72b0;fill-opacity:0.3;stroke:#4c72b0;stroke-opacity:0.3;\" x=\"325.903439\" xlink:href=\"#m52d8fdfaba\" y=\"17.083636\"/>\r\n",
       "     <use style=\"fill:#4c72b0;fill-opacity:0.3;stroke:#4c72b0;stroke-opacity:0.3;\" x=\"93.541127\" xlink:href=\"#m52d8fdfaba\" y=\"173.285465\"/>\r\n",
       "     <use style=\"fill:#4c72b0;fill-opacity:0.3;stroke:#4c72b0;stroke-opacity:0.3;\" x=\"288.269466\" xlink:href=\"#m52d8fdfaba\" y=\"47.237763\"/>\r\n",
       "     <use style=\"fill:#4c72b0;fill-opacity:0.3;stroke:#4c72b0;stroke-opacity:0.3;\" x=\"257.628215\" xlink:href=\"#m52d8fdfaba\" y=\"96.641241\"/>\r\n",
       "     <use style=\"fill:#4c72b0;fill-opacity:0.3;stroke:#4c72b0;stroke-opacity:0.3;\" x=\"300.236771\" xlink:href=\"#m52d8fdfaba\" y=\"46.861082\"/>\r\n",
       "     <use style=\"fill:#4c72b0;fill-opacity:0.3;stroke:#4c72b0;stroke-opacity:0.3;\" x=\"185.567045\" xlink:href=\"#m52d8fdfaba\" y=\"139.553558\"/>\r\n",
       "     <use style=\"fill:#4c72b0;fill-opacity:0.3;stroke:#4c72b0;stroke-opacity:0.3;\" x=\"221.98235\" xlink:href=\"#m52d8fdfaba\" y=\"129.202292\"/>\r\n",
       "     <use style=\"fill:#4c72b0;fill-opacity:0.3;stroke:#4c72b0;stroke-opacity:0.3;\" x=\"164.177314\" xlink:href=\"#m52d8fdfaba\" y=\"137.856279\"/>\r\n",
       "     <use style=\"fill:#4c72b0;fill-opacity:0.3;stroke:#4c72b0;stroke-opacity:0.3;\" x=\"242.526623\" xlink:href=\"#m52d8fdfaba\" y=\"94.822075\"/>\r\n",
       "     <use style=\"fill:#4c72b0;fill-opacity:0.3;stroke:#4c72b0;stroke-opacity:0.3;\" x=\"137.41816\" xlink:href=\"#m52d8fdfaba\" y=\"138.604597\"/>\r\n",
       "     <use style=\"fill:#4c72b0;fill-opacity:0.3;stroke:#4c72b0;stroke-opacity:0.3;\" x=\"181.688547\" xlink:href=\"#m52d8fdfaba\" y=\"125.583891\"/>\r\n",
       "     <use style=\"fill:#4c72b0;fill-opacity:0.3;stroke:#4c72b0;stroke-opacity:0.3;\" x=\"200.535145\" xlink:href=\"#m52d8fdfaba\" y=\"104.204983\"/>\r\n",
       "     <use style=\"fill:#4c72b0;fill-opacity:0.3;stroke:#4c72b0;stroke-opacity:0.3;\" x=\"187.008514\" xlink:href=\"#m52d8fdfaba\" y=\"110.811029\"/>\r\n",
       "     <use style=\"fill:#4c72b0;fill-opacity:0.3;stroke:#4c72b0;stroke-opacity:0.3;\" x=\"323.867112\" xlink:href=\"#m52d8fdfaba\" y=\"96.681851\"/>\r\n",
       "     <use style=\"fill:#4c72b0;fill-opacity:0.3;stroke:#4c72b0;stroke-opacity:0.3;\" x=\"80.328869\" xlink:href=\"#m52d8fdfaba\" y=\"141.590251\"/>\r\n",
       "     <use style=\"fill:#4c72b0;fill-opacity:0.3;stroke:#4c72b0;stroke-opacity:0.3;\" x=\"195.61595\" xlink:href=\"#m52d8fdfaba\" y=\"122.450714\"/>\r\n",
       "     <use style=\"fill:#4c72b0;fill-opacity:0.3;stroke:#4c72b0;stroke-opacity:0.3;\" x=\"239.320924\" xlink:href=\"#m52d8fdfaba\" y=\"97.082068\"/>\r\n",
       "     <use style=\"fill:#4c72b0;fill-opacity:0.3;stroke:#4c72b0;stroke-opacity:0.3;\" x=\"258.842678\" xlink:href=\"#m52d8fdfaba\" y=\"106.989521\"/>\r\n",
       "     <use style=\"fill:#4c72b0;fill-opacity:0.3;stroke:#4c72b0;stroke-opacity:0.3;\" x=\"294.867914\" xlink:href=\"#m52d8fdfaba\" y=\"83.076601\"/>\r\n",
       "     <use style=\"fill:#4c72b0;fill-opacity:0.3;stroke:#4c72b0;stroke-opacity:0.3;\" x=\"216.060483\" xlink:href=\"#m52d8fdfaba\" y=\"114.590968\"/>\r\n",
       "     <use style=\"fill:#4c72b0;fill-opacity:0.3;stroke:#4c72b0;stroke-opacity:0.3;\" x=\"193.901884\" xlink:href=\"#m52d8fdfaba\" y=\"125.053512\"/>\r\n",
       "     <use style=\"fill:#4c72b0;fill-opacity:0.3;stroke:#4c72b0;stroke-opacity:0.3;\" x=\"145.249106\" xlink:href=\"#m52d8fdfaba\" y=\"145.452279\"/>\r\n",
       "     <use style=\"fill:#4c72b0;fill-opacity:0.3;stroke:#4c72b0;stroke-opacity:0.3;\" x=\"120.590694\" xlink:href=\"#m52d8fdfaba\" y=\"205.05165\"/>\r\n",
       "     <use style=\"fill:#4c72b0;fill-opacity:0.3;stroke:#4c72b0;stroke-opacity:0.3;\" x=\"245.869534\" xlink:href=\"#m52d8fdfaba\" y=\"71.425901\"/>\r\n",
       "     <use style=\"fill:#4c72b0;fill-opacity:0.3;stroke:#4c72b0;stroke-opacity:0.3;\" x=\"44.459901\" xlink:href=\"#m52d8fdfaba\" y=\"214.756364\"/>\r\n",
       "     <use style=\"fill:#4c72b0;fill-opacity:0.3;stroke:#4c72b0;stroke-opacity:0.3;\" x=\"229.195005\" xlink:href=\"#m52d8fdfaba\" y=\"105.34382\"/>\r\n",
       "     <use style=\"fill:#4c72b0;fill-opacity:0.3;stroke:#4c72b0;stroke-opacity:0.3;\" x=\"134.975326\" xlink:href=\"#m52d8fdfaba\" y=\"162.206502\"/>\r\n",
       "     <use style=\"fill:#4c72b0;fill-opacity:0.3;stroke:#4c72b0;stroke-opacity:0.3;\" x=\"184.59153\" xlink:href=\"#m52d8fdfaba\" y=\"133.642408\"/>\r\n",
       "     <use style=\"fill:#4c72b0;fill-opacity:0.3;stroke:#4c72b0;stroke-opacity:0.3;\" x=\"310.734325\" xlink:href=\"#m52d8fdfaba\" y=\"45.731934\"/>\r\n",
       "     <use style=\"fill:#4c72b0;fill-opacity:0.3;stroke:#4c72b0;stroke-opacity:0.3;\" x=\"147.930291\" xlink:href=\"#m52d8fdfaba\" y=\"120.813463\"/>\r\n",
       "     <use style=\"fill:#4c72b0;fill-opacity:0.3;stroke:#4c72b0;stroke-opacity:0.3;\" x=\"252.784433\" xlink:href=\"#m52d8fdfaba\" y=\"99.784609\"/>\r\n",
       "     <use style=\"fill:#4c72b0;fill-opacity:0.3;stroke:#4c72b0;stroke-opacity:0.3;\" x=\"176.018709\" xlink:href=\"#m52d8fdfaba\" y=\"126.7269\"/>\r\n",
       "     <use style=\"fill:#4c72b0;fill-opacity:0.3;stroke:#4c72b0;stroke-opacity:0.3;\" x=\"206.772692\" xlink:href=\"#m52d8fdfaba\" y=\"115.294213\"/>\r\n",
       "     <use style=\"fill:#4c72b0;fill-opacity:0.3;stroke:#4c72b0;stroke-opacity:0.3;\" x=\"127.442582\" xlink:href=\"#m52d8fdfaba\" y=\"152.621917\"/>\r\n",
       "     <use style=\"fill:#4c72b0;fill-opacity:0.3;stroke:#4c72b0;stroke-opacity:0.3;\" x=\"48.972237\" xlink:href=\"#m52d8fdfaba\" y=\"183.058111\"/>\r\n",
       "     <use style=\"fill:#4c72b0;fill-opacity:0.3;stroke:#4c72b0;stroke-opacity:0.3;\" x=\"226.581815\" xlink:href=\"#m52d8fdfaba\" y=\"136.807002\"/>\r\n",
       "     <use style=\"fill:#4c72b0;fill-opacity:0.3;stroke:#4c72b0;stroke-opacity:0.3;\" x=\"167.516469\" xlink:href=\"#m52d8fdfaba\" y=\"127.906218\"/>\r\n",
       "     <use style=\"fill:#4c72b0;fill-opacity:0.3;stroke:#4c72b0;stroke-opacity:0.3;\" x=\"132.652643\" xlink:href=\"#m52d8fdfaba\" y=\"135.135485\"/>\r\n",
       "    </g>\r\n",
       "   </g>\r\n",
       "   <g id=\"PathCollection_2\">\r\n",
       "    <defs>\r\n",
       "     <path d=\"M 0 3.535534 \r\n",
       "C 0.937635 3.535534 1.836992 3.163008 2.5 2.5 \r\n",
       "C 3.163008 1.836992 3.535534 0.937635 3.535534 0 \r\n",
       "C 3.535534 -0.937635 3.163008 -1.836992 2.5 -2.5 \r\n",
       "C 1.836992 -3.163008 0.937635 -3.535534 0 -3.535534 \r\n",
       "C -0.937635 -3.535534 -1.836992 -3.163008 -2.5 -2.5 \r\n",
       "C -3.163008 -1.836992 -3.535534 -0.937635 -3.535534 0 \r\n",
       "C -3.535534 0.937635 -3.163008 1.836992 -2.5 2.5 \r\n",
       "C -1.836992 3.163008 -0.937635 3.535534 0 3.535534 \r\n",
       "z\r\n",
       "\" id=\"m0a8e8567c5\" style=\"stroke:#ff0000;\"/>\r\n",
       "    </defs>\r\n",
       "    <g clip-path=\"url(#p523cbb4710)\">\r\n",
       "     <use style=\"fill:#ff0000;stroke:#ff0000;\" x=\"264.413083\" xlink:href=\"#m0a8e8567c5\" y=\"122.928901\"/>\r\n",
       "     <use style=\"fill:#ff0000;stroke:#ff0000;\" x=\"273.209307\" xlink:href=\"#m0a8e8567c5\" y=\"88.196668\"/>\r\n",
       "     <use style=\"fill:#ff0000;stroke:#ff0000;\" x=\"134.06425\" xlink:href=\"#m0a8e8567c5\" y=\"136.723553\"/>\r\n",
       "     <use style=\"fill:#ff0000;stroke:#ff0000;\" x=\"272.20954\" xlink:href=\"#m0a8e8567c5\" y=\"50.699012\"/>\r\n",
       "     <use style=\"fill:#ff0000;stroke:#ff0000;\" x=\"132.652643\" xlink:href=\"#m0a8e8567c5\" y=\"135.135485\"/>\r\n",
       "     <use style=\"fill:#ff0000;stroke:#ff0000;\" x=\"206.772692\" xlink:href=\"#m0a8e8567c5\" y=\"115.294213\"/>\r\n",
       "     <use style=\"fill:#ff0000;stroke:#ff0000;\" x=\"146.287494\" xlink:href=\"#m0a8e8567c5\" y=\"104.547392\"/>\r\n",
       "     <use style=\"fill:#ff0000;stroke:#ff0000;\" x=\"93.541127\" xlink:href=\"#m0a8e8567c5\" y=\"173.285465\"/>\r\n",
       "     <use style=\"fill:#ff0000;stroke:#ff0000;\" x=\"164.177314\" xlink:href=\"#m0a8e8567c5\" y=\"137.856279\"/>\r\n",
       "     <use style=\"fill:#ff0000;stroke:#ff0000;\" x=\"181.688547\" xlink:href=\"#m0a8e8567c5\" y=\"125.583891\"/>\r\n",
       "     <use style=\"fill:#ff0000;stroke:#ff0000;\" x=\"301.933313\" xlink:href=\"#m0a8e8567c5\" y=\"54.000549\"/>\r\n",
       "     <use style=\"fill:#ff0000;stroke:#ff0000;\" x=\"184.731351\" xlink:href=\"#m0a8e8567c5\" y=\"110.45691\"/>\r\n",
       "     <use style=\"fill:#ff0000;stroke:#ff0000;\" x=\"275.943397\" xlink:href=\"#m0a8e8567c5\" y=\"73.214234\"/>\r\n",
       "     <use style=\"fill:#ff0000;stroke:#ff0000;\" x=\"127.442582\" xlink:href=\"#m0a8e8567c5\" y=\"152.621917\"/>\r\n",
       "     <use style=\"fill:#ff0000;stroke:#ff0000;\" x=\"258.842678\" xlink:href=\"#m0a8e8567c5\" y=\"106.989521\"/>\r\n",
       "     <use style=\"fill:#ff0000;stroke:#ff0000;\" x=\"261.391357\" xlink:href=\"#m0a8e8567c5\" y=\"89.72673\"/>\r\n",
       "     <use style=\"fill:#ff0000;stroke:#ff0000;\" x=\"289.339838\" xlink:href=\"#m0a8e8567c5\" y=\"73.51708\"/>\r\n",
       "     <use style=\"fill:#ff0000;stroke:#ff0000;\" x=\"69.593258\" xlink:href=\"#m0a8e8567c5\" y=\"152.616583\"/>\r\n",
       "     <use style=\"fill:#ff0000;stroke:#ff0000;\" x=\"267.212776\" xlink:href=\"#m0a8e8567c5\" y=\"97.048187\"/>\r\n",
       "     <use style=\"fill:#ff0000;stroke:#ff0000;\" x=\"48.972237\" xlink:href=\"#m0a8e8567c5\" y=\"183.058111\"/>\r\n",
       "    </g>\r\n",
       "   </g>\r\n",
       "   <g id=\"patch_3\">\r\n",
       "    <path d=\"M 29.241719 224.64 \r\n",
       "L 29.241719 7.2 \r\n",
       "\" style=\"fill:none;stroke:#ffffff;stroke-linecap:square;stroke-linejoin:miter;stroke-width:1.25;\"/>\r\n",
       "   </g>\r\n",
       "   <g id=\"patch_4\">\r\n",
       "    <path d=\"M 364.041719 224.64 \r\n",
       "L 364.041719 7.2 \r\n",
       "\" style=\"fill:none;stroke:#ffffff;stroke-linecap:square;stroke-linejoin:miter;stroke-width:1.25;\"/>\r\n",
       "   </g>\r\n",
       "   <g id=\"patch_5\">\r\n",
       "    <path d=\"M 29.241719 224.64 \r\n",
       "L 364.041719 224.64 \r\n",
       "\" style=\"fill:none;stroke:#ffffff;stroke-linecap:square;stroke-linejoin:miter;stroke-width:1.25;\"/>\r\n",
       "   </g>\r\n",
       "   <g id=\"patch_6\">\r\n",
       "    <path d=\"M 29.241719 7.2 \r\n",
       "L 364.041719 7.2 \r\n",
       "\" style=\"fill:none;stroke:#ffffff;stroke-linecap:square;stroke-linejoin:miter;stroke-width:1.25;\"/>\r\n",
       "   </g>\r\n",
       "  </g>\r\n",
       " </g>\r\n",
       " <defs>\r\n",
       "  <clipPath id=\"p523cbb4710\">\r\n",
       "   <rect height=\"217.44\" width=\"334.8\" x=\"29.241719\" y=\"7.2\"/>\r\n",
       "  </clipPath>\r\n",
       " </defs>\r\n",
       "</svg>\r\n"
      ],
      "text/plain": [
       "<Figure size 432x288 with 1 Axes>"
      ]
     },
     "metadata": {},
     "output_type": "display_data"
    }
   ],
   "source": [
    "plt.scatter(x[:, 0], x[:, 1], alpha=0.3)\n",
    "plt.scatter(selected[:, 0], selected[:, 1],\n",
    "            facecolor='red', s=50);"
   ]
  },
  {
   "cell_type": "code",
   "execution_count": 1,
   "id": "70f21cfc-f866-4af6-8808-3fb1d500a646",
   "metadata": {},
   "outputs": [],
   "source": [
    "import pandas as pd\n",
    "import numpy as np"
   ]
  },
  {
   "cell_type": "code",
   "execution_count": 2,
   "id": "da6d140b-6f97-453c-97be-ed16e09fabaa",
   "metadata": {},
   "outputs": [
    {
     "data": {
      "text/plain": [
       "\u001b[1;31mType:\u001b[0m        module\n",
       "\u001b[1;31mString form:\u001b[0m <module 'pandas' from 'C:\\\\Users\\\\shin\\\\anaconda3\\\\lib\\\\site-packages\\\\pandas\\\\__init__.py'>\n",
       "\u001b[1;31mFile:\u001b[0m        c:\\users\\shin\\anaconda3\\lib\\site-packages\\pandas\\__init__.py\n",
       "\u001b[1;31mDocstring:\u001b[0m  \n",
       "pandas - a powerful data analysis and manipulation library for Python\n",
       "=====================================================================\n",
       "\n",
       "**pandas** is a Python package providing fast, flexible, and expressive data\n",
       "structures designed to make working with \"relational\" or \"labeled\" data both\n",
       "easy and intuitive. It aims to be the fundamental high-level building block for\n",
       "doing practical, **real world** data analysis in Python. Additionally, it has\n",
       "the broader goal of becoming **the most powerful and flexible open source data\n",
       "analysis / manipulation tool available in any language**. It is already well on\n",
       "its way toward this goal.\n",
       "\n",
       "Main Features\n",
       "-------------\n",
       "Here are just a few of the things that pandas does well:\n",
       "\n",
       "  - Easy handling of missing data in floating point as well as non-floating\n",
       "    point data.\n",
       "  - Size mutability: columns can be inserted and deleted from DataFrame and\n",
       "    higher dimensional objects\n",
       "  - Automatic and explicit data alignment: objects can be explicitly aligned\n",
       "    to a set of labels, or the user can simply ignore the labels and let\n",
       "    `Series`, `DataFrame`, etc. automatically align the data for you in\n",
       "    computations.\n",
       "  - Powerful, flexible group by functionality to perform split-apply-combine\n",
       "    operations on data sets, for both aggregating and transforming data.\n",
       "  - Make it easy to convert ragged, differently-indexed data in other Python\n",
       "    and NumPy data structures into DataFrame objects.\n",
       "  - Intelligent label-based slicing, fancy indexing, and subsetting of large\n",
       "    data sets.\n",
       "  - Intuitive merging and joining data sets.\n",
       "  - Flexible reshaping and pivoting of data sets.\n",
       "  - Hierarchical labeling of axes (possible to have multiple labels per tick).\n",
       "  - Robust IO tools for loading data from flat files (CSV and delimited),\n",
       "    Excel files, databases, and saving/loading data from the ultrafast HDF5\n",
       "    format.\n",
       "  - Time series-specific functionality: date range generation and frequency\n",
       "    conversion, moving window statistics, date shifting and lagging.\n"
      ]
     },
     "metadata": {},
     "output_type": "display_data"
    }
   ],
   "source": [
    "# Display the help documnet\n",
    "pd?"
   ]
  },
  {
   "cell_type": "code",
   "execution_count": 3,
   "id": "76e592ad-e078-41d3-bac6-e24fe14d3644",
   "metadata": {},
   "outputs": [
    {
     "data": {
      "text/plain": [
       "'1.3.3'"
      ]
     },
     "execution_count": 3,
     "metadata": {},
     "output_type": "execute_result"
    }
   ],
   "source": [
    "# print the version of pandas  10/14(목)\n",
    "pd.__version__"
   ]
  },
  {
   "cell_type": "code",
   "execution_count": 4,
   "id": "dc943c83-d508-46c5-8098-41b39c7679f0",
   "metadata": {},
   "outputs": [
    {
     "name": "stdout",
     "output_type": "stream",
     "text": [
      "0    0.25\n",
      "1    0.50\n",
      "2    0.75\n",
      "3    1.00\n",
      "dtype: float64\n",
      "<class 'pandas.core.series.Series'> \n",
      "\n"
     ]
    }
   ],
   "source": [
    "\"\"\"\n",
    "   Pandas object: series\n",
    "\"\"\"\n",
    "# create a series from an array\n",
    "\n",
    "ser= pd.Series([0.25, 0.5, 0.75, 1.0]) # contructor method\n",
    "print(ser)\n",
    "print(type(ser), '\\n')"
   ]
  },
  {
   "cell_type": "code",
   "execution_count": 5,
   "id": "b8457986-025d-4355-b4e0-49c4d6021576",
   "metadata": {},
   "outputs": [
    {
     "name": "stdout",
     "output_type": "stream",
     "text": [
      "[0.25 0.5  0.75 1.  ]\n",
      "RangeIndex(start=0, stop=4, step=1)\n"
     ]
    }
   ],
   "source": [
    "# two main attributes: 'values' and 'index'\n",
    "arr = ser.values\n",
    "print(arr)\n",
    "\n",
    "ind = ser.index\n",
    "print(ind)"
   ]
  },
  {
   "cell_type": "code",
   "execution_count": 6,
   "id": "8ee6ce98-4a09-4321-8345-6c4c67121794",
   "metadata": {},
   "outputs": [
    {
     "name": "stdout",
     "output_type": "stream",
     "text": [
      "a    0.25\n",
      "b    0.50\n",
      "c    0.75\n",
      "d    1.00\n",
      "dtype: float64\n",
      "Index(['a', 'b', 'c', 'd'], dtype='object')\n"
     ]
    }
   ],
   "source": [
    "# Label-based Indexing\n",
    "ser = pd.Series([0.25, 0.5, 0.75, 1.0], index=['a', 'b', 'c', 'd'])\n",
    "print(ser)\n",
    "ind = ser.index\n",
    "print(ind)"
   ]
  },
  {
   "cell_type": "code",
   "execution_count": 7,
   "id": "382d8c5b-dc54-48ca-9de6-37df4f6a4653",
   "metadata": {},
   "outputs": [
    {
     "name": "stdout",
     "output_type": "stream",
     "text": [
      "{'a': 1, 2: 'two', 'third': True}\n"
     ]
    }
   ],
   "source": [
    "\"\"\"\n",
    "Dictionary and series\n",
    "\"\"\"\n",
    "dict = {'a' : 1, 2 : 'two', 'third' : True}\n",
    "print(dict)"
   ]
  },
  {
   "cell_type": "code",
   "execution_count": 20,
   "id": "124e85f4-b642-4333-920e-784ac2e57e5a",
   "metadata": {},
   "outputs": [
    {
     "name": "stdout",
     "output_type": "stream",
     "text": [
      "California    38332521\n",
      "Texas         26448193\n",
      "New York      19651127\n",
      "Florida       19552860\n",
      "Illinois      12882135\n",
      "dtype: int64\n",
      "Texas       26448193\n",
      "New York    19651127\n",
      "Florida     19552860\n",
      "Illinois    12882135\n",
      "dtype: int64\n"
     ]
    }
   ],
   "source": [
    "\"\"\"\n",
    "Create a series from a dictionary\n",
    "\"\"\"\n",
    "population_dict = {'California': 38332521,\n",
    "                   'Texas': 26448193,\n",
    "                   'New York': 19651127,\n",
    "                   'Florida': 19552860,\n",
    "                   'Illinois': 12882135}\n",
    "\n",
    "population = pd.Series(population_dict)\n",
    "print(population)\n",
    "\n",
    "print(population['Texas' : 'Illinois'])\n"
   ]
  },
  {
   "cell_type": "code",
   "execution_count": 12,
   "id": "809989d6-7cf9-4d4b-afad-ac01894f9809",
   "metadata": {},
   "outputs": [
    {
     "name": "stdout",
     "output_type": "stream",
     "text": [
      "California    423967\n",
      "Texas         695662\n",
      "New York      141297\n",
      "Florida       170312\n",
      "Illinois      149995\n",
      "dtype: int64\n"
     ]
    }
   ],
   "source": [
    "\"\"\"\n",
    " pandas object: DataFrame\n",
    "\"\"\"\n",
    "\n",
    "area_dict = {'California': 423967, 'Texas': 695662, 'New York': 141297,\n",
    "             'Florida': 170312, 'Illinois': 149995}\n",
    "    \n",
    "\n",
    "area = pd.Series(area_dict)\n",
    "print(area)"
   ]
  },
  {
   "cell_type": "code",
   "execution_count": 13,
   "id": "b701d55a-58a3-49ba-a45c-e7f5021c34f4",
   "metadata": {},
   "outputs": [
    {
     "name": "stdout",
     "output_type": "stream",
     "text": [
      "            population    area\n",
      "California    38332521  423967\n",
      "Texas         26448193  695662\n",
      "New York      19651127  141297\n",
      "Florida       19552860  170312\n",
      "Illinois      12882135  149995\n",
      "Index(['California', 'Texas', 'New York', 'Florida', 'Illinois'], dtype='object')\n",
      "Index(['population', 'area'], dtype='object')\n",
      "California    38332521\n",
      "Texas         26448193\n",
      "New York      19651127\n",
      "Florida       19552860\n",
      "Illinois      12882135\n",
      "Name: population, dtype: int64\n"
     ]
    }
   ],
   "source": [
    "\"\"\"\n",
    "Caution: Slicing Series object using explicit/implicit indexing\n",
    "\"\"\"\n",
    "\n",
    "states = pd.DataFrame({'population': population, 'area': area})\n",
    "print(states)\n",
    "\n",
    "print(states.index)\n",
    "print(states.columns)\n",
    "print(states['population'])"
   ]
  },
  {
   "cell_type": "code",
   "execution_count": 21,
   "id": "b0d034c5-7c33-4ca6-b8b1-c85d8afd7d41",
   "metadata": {},
   "outputs": [
    {
     "name": "stdout",
     "output_type": "stream",
     "text": [
      "[[0.00326721 0.76078892]\n",
      " [0.07022964 0.13372593]\n",
      " [0.74373441 0.23712839]] \n",
      "\n"
     ]
    },
    {
     "data": {
      "text/html": [
       "<div>\n",
       "<style scoped>\n",
       "    .dataframe tbody tr th:only-of-type {\n",
       "        vertical-align: middle;\n",
       "    }\n",
       "\n",
       "    .dataframe tbody tr th {\n",
       "        vertical-align: top;\n",
       "    }\n",
       "\n",
       "    .dataframe thead th {\n",
       "        text-align: right;\n",
       "    }\n",
       "</style>\n",
       "<table border=\"1\" class=\"dataframe\">\n",
       "  <thead>\n",
       "    <tr style=\"text-align: right;\">\n",
       "      <th></th>\n",
       "      <th>foo</th>\n",
       "      <th>bar</th>\n",
       "    </tr>\n",
       "  </thead>\n",
       "  <tbody>\n",
       "    <tr>\n",
       "      <th>a</th>\n",
       "      <td>0.003267</td>\n",
       "      <td>0.760789</td>\n",
       "    </tr>\n",
       "    <tr>\n",
       "      <th>b</th>\n",
       "      <td>0.070230</td>\n",
       "      <td>0.133726</td>\n",
       "    </tr>\n",
       "    <tr>\n",
       "      <th>c</th>\n",
       "      <td>0.743734</td>\n",
       "      <td>0.237128</td>\n",
       "    </tr>\n",
       "  </tbody>\n",
       "</table>\n",
       "</div>"
      ],
      "text/plain": [
       "        foo       bar\n",
       "a  0.003267  0.760789\n",
       "b  0.070230  0.133726\n",
       "c  0.743734  0.237128"
      ]
     },
     "execution_count": 21,
     "metadata": {},
     "output_type": "execute_result"
    }
   ],
   "source": [
    "# construct a dataframe form\n",
    "arr = np.random.rand(3, 2)\n",
    "print(arr, '\\n')\n",
    "\n",
    "pd.DataFrame(arr, columns=['foo', 'bar'], index=['a', 'b', 'c'])"
   ]
  },
  {
   "cell_type": "code",
   "execution_count": 22,
   "id": "c5ff29d6-2350-46d5-b9b9-ffaae74aa362",
   "metadata": {},
   "outputs": [
    {
     "name": "stdout",
     "output_type": "stream",
     "text": [
      "False\n",
      "Index(['a', 'b', 'c', 'd'], dtype='object')\n"
     ]
    }
   ],
   "source": [
    "\"\"\"\n",
    "Series object manipulation: dictionary-style\n",
    "\"\"\"\n",
    "ser = pd.Series([0.25, 0.5, 0.75, 1.0], \n",
    "                index=['a', 'b', 'c', 'd'])\n",
    "\n",
    "print(0.25 in ser)\n",
    "\n",
    "print(ser.keys())"
   ]
  },
  {
   "cell_type": "code",
   "execution_count": 25,
   "id": "c3d72015-87b2-4e3a-82d5-f74bdbf796e1",
   "metadata": {},
   "outputs": [
    {
     "name": "stdout",
     "output_type": "stream",
     "text": [
      "a    0.125\n",
      "b    0.500\n",
      "c    0.750\n",
      "d    1.000\n",
      "e    1.250\n",
      "dtype: float64 \n",
      "\n",
      "a    0.125\n",
      "b    0.500\n",
      "c    0.750\n",
      "dtype: float64 \n",
      "\n"
     ]
    }
   ],
   "source": [
    "\"\"\"\n",
    "Series object manipuation: array=style\n",
    "\"\"\"\n",
    "\n",
    "ser['e'] = 1.25\n",
    "ser['a'] = 0.125\n",
    "print(ser, '\\n')\n",
    "\n",
    "print(ser['a':'c'], '\\n') # slicing"
   ]
  },
  {
   "cell_type": "code",
   "execution_count": 17,
   "id": "ea0452d9-f094-47fb-8b70-7e6ae1ad4e35",
   "metadata": {},
   "outputs": [
    {
     "name": "stdout",
     "output_type": "stream",
     "text": [
      "            population    area     density\n",
      "California    38332521  423967   90.413926\n",
      "Texas         26448193  695662   38.018740\n",
      "New York      19651127  141297  139.076746\n",
      "Florida       19552860  170312  114.806121\n",
      "Illinois      12882135  149995   85.883763\n"
     ]
    }
   ],
   "source": [
    "\"\"\"\n",
    "caution: Slicing series object using explicit/implicit indexing\n",
    "\"\"\"\n",
    "\n",
    "states['density'] = states['population'] / states['area']\n",
    "print(states)"
   ]
  },
  {
   "cell_type": "code",
   "execution_count": 18,
   "id": "559a9f20-b8eb-4eaf-b005-d97621fde3d3",
   "metadata": {},
   "outputs": [
    {
     "name": "stdout",
     "output_type": "stream",
     "text": [
      "            population    area     density\n",
      "California    38332521  423967   90.413926\n",
      "Texas         26448193  695662   38.018740\n",
      "New York      19651127  141297  139.076746\n",
      "Florida       19552860  170312  114.806121\n",
      "Illinois      12882135  149995   85.883763\n"
     ]
    },
    {
     "data": {
      "text/html": [
       "<div>\n",
       "<style scoped>\n",
       "    .dataframe tbody tr th:only-of-type {\n",
       "        vertical-align: middle;\n",
       "    }\n",
       "\n",
       "    .dataframe tbody tr th {\n",
       "        vertical-align: top;\n",
       "    }\n",
       "\n",
       "    .dataframe thead th {\n",
       "        text-align: right;\n",
       "    }\n",
       "</style>\n",
       "<table border=\"1\" class=\"dataframe\">\n",
       "  <thead>\n",
       "    <tr style=\"text-align: right;\">\n",
       "      <th></th>\n",
       "      <th>population</th>\n",
       "      <th>area</th>\n",
       "      <th>density</th>\n",
       "    </tr>\n",
       "  </thead>\n",
       "  <tbody>\n",
       "    <tr>\n",
       "      <th>New York</th>\n",
       "      <td>19651127</td>\n",
       "      <td>141297</td>\n",
       "      <td>139.076746</td>\n",
       "    </tr>\n",
       "    <tr>\n",
       "      <th>Florida</th>\n",
       "      <td>19552860</td>\n",
       "      <td>170312</td>\n",
       "      <td>114.806121</td>\n",
       "    </tr>\n",
       "    <tr>\n",
       "      <th>Illinois</th>\n",
       "      <td>12882135</td>\n",
       "      <td>149995</td>\n",
       "      <td>85.883763</td>\n",
       "    </tr>\n",
       "  </tbody>\n",
       "</table>\n",
       "</div>"
      ],
      "text/plain": [
       "          population    area     density\n",
       "New York    19651127  141297  139.076746\n",
       "Florida     19552860  170312  114.806121\n",
       "Illinois    12882135  149995   85.883763"
      ]
     },
     "execution_count": 18,
     "metadata": {},
     "output_type": "execute_result"
    }
   ],
   "source": [
    "# Indexer: loc, iLoc\n",
    "\n",
    "print(states)\n",
    "\n",
    "states.loc['New York': 'Illinois']"
   ]
  },
  {
   "cell_type": "code",
   "execution_count": 19,
   "id": "51ae5ab2-285e-4f55-b640-b2503940d12c",
   "metadata": {},
   "outputs": [
    {
     "name": "stdout",
     "output_type": "stream",
     "text": [
      "          population     density\n",
      "New York    19651127  139.076746\n",
      "Florida     19552860  114.806121 \n",
      "\n"
     ]
    }
   ],
   "source": [
    "# Masking and fancy indexing using the loc indexer\n",
    "print(states.loc[states.density > 100, ['population', 'density']], '\\n')"
   ]
  },
  {
   "cell_type": "code",
   "execution_count": 1,
   "id": "0da4d2f6-810b-466b-a99b-1e2861ca8efa",
   "metadata": {},
   "outputs": [],
   "source": [
    "import pandas as pd\n",
    "import numpy as np"
   ]
  },
  {
   "cell_type": "code",
   "execution_count": 2,
   "id": "04d643b5-5ab2-4da7-9984-325e0366fb41",
   "metadata": {},
   "outputs": [
    {
     "name": "stdout",
     "output_type": "stream",
     "text": [
      "[1 2 3 4 5 6 7 8 9]\n",
      "[[1 2 3]\n",
      " [4 5 6]\n",
      " [7 8 9]]\n"
     ]
    }
   ],
   "source": [
    "\"\"\"\n",
    "numpy.concatenate()\n",
    "\"\"\"\n",
    "x = [1, 2, 3]\n",
    "y = [4, 5, 6]\n",
    "z = [7, 8, 9]\n",
    "\n",
    "print(np.concatenate([x, y, z])) # vstack(), hstack()\n",
    "print(np.vstack([x, y, z]))\n"
   ]
  },
  {
   "cell_type": "code",
   "execution_count": 3,
   "id": "b005f81b-6812-46d2-95ad-99c67e3bfc1e",
   "metadata": {},
   "outputs": [
    {
     "name": "stdout",
     "output_type": "stream",
     "text": [
      "1    A\n",
      "2    B\n",
      "3    C\n",
      "dtype: object \n",
      "\n",
      " 4    D\n",
      "5    E\n",
      "6    F\n",
      "dtype: object\n",
      "1    A\n",
      "2    B\n",
      "3    C\n",
      "4    D\n",
      "5    E\n",
      "6    F\n",
      "dtype: object\n"
     ]
    }
   ],
   "source": [
    "\"\"\"\n",
    "   pandas.concat()\n",
    "\"\"\"\n",
    "# simply concatenate the two series objects\n",
    "\n",
    "ser1 = pd.Series(['A', 'B', 'C'], index=[1, 2, 3])\n",
    "ser2 = pd.Series(['D', 'E', 'F'], index=[4, 5, 6])\n",
    "\n",
    "print(ser1, '\\n\\n', ser2)\n",
    "\n",
    "print(pd.concat([ser1, ser2]))"
   ]
  },
  {
   "cell_type": "code",
   "execution_count": 4,
   "id": "ee032418-839e-4bb1-b50e-81fbc52a7293",
   "metadata": {},
   "outputs": [],
   "source": [
    "# make _df(): create a Data\n",
    "\n",
    "def make_df(cols, ind):\n",
    "    data = {c: [str(c) + str(i) for i in ind]\n",
    "           for c in cols}\n",
    "\n",
    "    return pd.DataFrame(data, ind)\n"
   ]
  },
  {
   "cell_type": "code",
   "execution_count": 5,
   "id": "33020dc2-3edb-4265-8a8a-79f64d00f8f4",
   "metadata": {},
   "outputs": [
    {
     "name": "stdout",
     "output_type": "stream",
     "text": [
      "    A   B   C\n",
      "1  A1  B1  C1\n",
      "2  A2  B2  C2\n"
     ]
    }
   ],
   "source": [
    "# DataFrame example\n",
    "print(make_df('ABC', [1, 2]))\n"
   ]
  },
  {
   "cell_type": "code",
   "execution_count": 6,
   "id": "07b1484c-4647-430c-89d6-3c272914f498",
   "metadata": {},
   "outputs": [
    {
     "name": "stdout",
     "output_type": "stream",
     "text": [
      "    A   B\n",
      "1  A1  B1\n",
      "2  A2  B2 \n",
      "\n",
      "    A   B\n",
      "3  A3  B3\n",
      "4  A4  B4 \n",
      "\n",
      "     A    B    A    B\n",
      "1   A1   B1  NaN  NaN\n",
      "2   A2   B2  NaN  NaN\n",
      "3  NaN  NaN   A3   B3\n",
      "4  NaN  NaN   A4   B4\n"
     ]
    }
   ],
   "source": [
    "# Concatenate the two DataFrame objects\n",
    "\n",
    "df1 = make_df('AB', [1, 2])\n",
    "df2 = make_df('AB', [3, 4])\n",
    "\n",
    "print(df1, '\\n')\n",
    "print(df2, '\\n')\n",
    "\n",
    "print(pd.concat([df1, df2], axis=1)) # default axis is 0."
   ]
  },
  {
   "cell_type": "code",
   "execution_count": 7,
   "id": "d4e510a6-b23a-471a-9943-5904eeaa2df6",
   "metadata": {},
   "outputs": [
    {
     "name": "stdout",
     "output_type": "stream",
     "text": [
      "    A   B\n",
      "0  A0  B0\n",
      "1  A1  B1 \n",
      "\n",
      "    C   D\n",
      "0  C0  D0\n",
      "1  C1  D1 \n",
      "\n",
      "    A   B   C   D\n",
      "0  A0  B0  C0  D0\n",
      "1  A1  B1  C1  D1\n"
     ]
    }
   ],
   "source": [
    "# Change the axis to 0.\n",
    "\n",
    "df3 = make_df('AB', [0, 1])\n",
    "df4 = make_df('CD', [0, 1])\n",
    "\n",
    "print(df3, '\\n')\n",
    "print(df4, '\\n')\n",
    "\n",
    "print(pd.concat([df3, df4], axis=1))"
   ]
  },
  {
   "cell_type": "code",
   "execution_count": 8,
   "id": "4e51f10b-442a-45a6-baab-c55b0657a8d4",
   "metadata": {},
   "outputs": [
    {
     "name": "stdout",
     "output_type": "stream",
     "text": [
      "    A   B\n",
      "0  A0  B0\n",
      "1  A1  B1 \n",
      "\n",
      "    A   B\n",
      "0  A2  B2\n",
      "1  A3  B3 \n",
      "\n",
      "    A   B\n",
      "0  A0  B0\n",
      "1  A1  B1\n",
      "0  A2  B2\n",
      "1  A3  B3\n"
     ]
    }
   ],
   "source": [
    "\"\"\"\n",
    "  concate() Features\n",
    "\"\"\"\n",
    "\n",
    "# Case 1: Duplicate indices\n",
    "\n",
    "x = make_df('AB', [0, 1])\n",
    "y = make_df('AB', [2, 3])\n",
    "\n",
    "y.index = x.index # make duplicate indices!\n",
    "\n",
    "print(x, '\\n')\n",
    "print(y, '\\n')\n",
    "\n",
    "print(pd.concat([x, y]))\n"
   ]
  },
  {
   "cell_type": "code",
   "execution_count": 9,
   "id": "55928fe4-e184-4d7f-8996-35ddfc00576e",
   "metadata": {},
   "outputs": [
    {
     "name": "stdout",
     "output_type": "stream",
     "text": [
      "ValueError:  Indexes have overlapping values: Int64Index([0, 1], dtype='int64')\n"
     ]
    }
   ],
   "source": [
    "# Case 2: Catching duplications as errors\n",
    "\n",
    "try:\n",
    "    pd.concat([x, y], verify_integrity=True)\n",
    "except ValueError as e:\n",
    "    print(\"ValueError: \", e)"
   ]
  },
  {
   "cell_type": "code",
   "execution_count": 10,
   "id": "b9ee0ffd-82a9-45de-a8e2-64f982d8b929",
   "metadata": {},
   "outputs": [
    {
     "data": {
      "text/html": [
       "<div>\n",
       "<style scoped>\n",
       "    .dataframe tbody tr th:only-of-type {\n",
       "        vertical-align: middle;\n",
       "    }\n",
       "\n",
       "    .dataframe tbody tr th {\n",
       "        vertical-align: top;\n",
       "    }\n",
       "\n",
       "    .dataframe thead th {\n",
       "        text-align: right;\n",
       "    }\n",
       "</style>\n",
       "<table border=\"1\" class=\"dataframe\">\n",
       "  <thead>\n",
       "    <tr style=\"text-align: right;\">\n",
       "      <th></th>\n",
       "      <th>A</th>\n",
       "      <th>B</th>\n",
       "    </tr>\n",
       "  </thead>\n",
       "  <tbody>\n",
       "    <tr>\n",
       "      <th>0</th>\n",
       "      <td>A0</td>\n",
       "      <td>B0</td>\n",
       "    </tr>\n",
       "    <tr>\n",
       "      <th>1</th>\n",
       "      <td>A1</td>\n",
       "      <td>B1</td>\n",
       "    </tr>\n",
       "    <tr>\n",
       "      <th>2</th>\n",
       "      <td>A2</td>\n",
       "      <td>B2</td>\n",
       "    </tr>\n",
       "    <tr>\n",
       "      <th>3</th>\n",
       "      <td>A3</td>\n",
       "      <td>B3</td>\n",
       "    </tr>\n",
       "  </tbody>\n",
       "</table>\n",
       "</div>"
      ],
      "text/plain": [
       "    A   B\n",
       "0  A0  B0\n",
       "1  A1  B1\n",
       "2  A2  B2\n",
       "3  A3  B3"
      ]
     },
     "execution_count": 10,
     "metadata": {},
     "output_type": "execute_result"
    }
   ],
   "source": [
    "# Case 3: Ignore the index:\n",
    "# assign integer-based indices automatically\n",
    "\n",
    "pd.concat([x, y], ignore_index=True)\n"
   ]
  },
  {
   "cell_type": "code",
   "execution_count": 11,
   "id": "91780857-f32e-4b31-8714-d21bd06ba8a8",
   "metadata": {},
   "outputs": [
    {
     "data": {
      "text/html": [
       "<div>\n",
       "<style scoped>\n",
       "    .dataframe tbody tr th:only-of-type {\n",
       "        vertical-align: middle;\n",
       "    }\n",
       "\n",
       "    .dataframe tbody tr th {\n",
       "        vertical-align: top;\n",
       "    }\n",
       "\n",
       "    .dataframe thead th {\n",
       "        text-align: right;\n",
       "    }\n",
       "</style>\n",
       "<table border=\"1\" class=\"dataframe\">\n",
       "  <thead>\n",
       "    <tr style=\"text-align: right;\">\n",
       "      <th></th>\n",
       "      <th></th>\n",
       "      <th>A</th>\n",
       "      <th>B</th>\n",
       "    </tr>\n",
       "  </thead>\n",
       "  <tbody>\n",
       "    <tr>\n",
       "      <th rowspan=\"2\" valign=\"top\">x</th>\n",
       "      <th>0</th>\n",
       "      <td>A0</td>\n",
       "      <td>B0</td>\n",
       "    </tr>\n",
       "    <tr>\n",
       "      <th>1</th>\n",
       "      <td>A1</td>\n",
       "      <td>B1</td>\n",
       "    </tr>\n",
       "    <tr>\n",
       "      <th rowspan=\"2\" valign=\"top\">y</th>\n",
       "      <th>0</th>\n",
       "      <td>A2</td>\n",
       "      <td>B2</td>\n",
       "    </tr>\n",
       "    <tr>\n",
       "      <th>1</th>\n",
       "      <td>A3</td>\n",
       "      <td>B3</td>\n",
       "    </tr>\n",
       "  </tbody>\n",
       "</table>\n",
       "</div>"
      ],
      "text/plain": [
       "      A   B\n",
       "x 0  A0  B0\n",
       "  1  A1  B1\n",
       "y 0  A2  B2\n",
       "  1  A3  B3"
      ]
     },
     "execution_count": 11,
     "metadata": {},
     "output_type": "execute_result"
    }
   ],
   "source": [
    "# Case 4: Adding multiindex keys (hierarchical indexing)\n",
    "\n",
    "pd.concat([x, y], keys=['x', 'y'])\n",
    "\n"
   ]
  },
  {
   "cell_type": "code",
   "execution_count": 12,
   "id": "2da5d3d4-c5b2-43fe-ad10-cfe30aeb1d8b",
   "metadata": {},
   "outputs": [],
   "source": [
    "\"\"\"\n",
    "    concat(): join options\n",
    "\"\"\"\n",
    "\n",
    "x = make_df('ABC', [1, 2])\n",
    "y = make_df('BCD', [3, 4])"
   ]
  },
  {
   "cell_type": "code",
   "execution_count": 13,
   "id": "5595dfa3-c923-403d-ad99-56cb7e855f50",
   "metadata": {},
   "outputs": [
    {
     "name": "stdout",
     "output_type": "stream",
     "text": [
      "    A   B   C\n",
      "1  A1  B1  C1\n",
      "2  A2  B2  C2 \n",
      "\n",
      "    B   C   D\n",
      "3  B3  C3  D3\n",
      "4  B4  C4  D4 \n",
      "\n",
      "     A   B   C    D\n",
      "1   A1  B1  C1  NaN\n",
      "2   A2  B2  C2  NaN\n",
      "3  NaN  B3  C3   D3\n",
      "4  NaN  B4  C4   D4\n"
     ]
    }
   ],
   "source": [
    "# default: outer join -> union\n",
    "\n",
    "print(x, '\\n')\n",
    "print(y, '\\n')\n",
    "print(pd.concat([x, y], join='outer'))"
   ]
  },
  {
   "cell_type": "code",
   "execution_count": 28,
   "id": "ac69bd34-f038-461a-aa6b-4c4ddeec84db",
   "metadata": {},
   "outputs": [
    {
     "name": "stdout",
     "output_type": "stream",
     "text": [
      "         group        skills\n",
      "0   Accounting          math\n",
      "1   Accounting  spreadsheets\n",
      "2  Engineering        coding\n",
      "3  Engineering         linux\n",
      "4           HR  spreadsheets\n",
      "5           HR  organization \n",
      "\n",
      "    name   food\n",
      "0  Peter   fish\n",
      "1   Paul  beans\n",
      "2   Mary  bread \n",
      "\n",
      "Empty DataFrame\n",
      "Columns: []\n",
      "Index: [0, 1, 2, 3, 4, 5, 0, 1, 2]\n"
     ]
    }
   ],
   "source": [
    "# inner join -> intersection\n",
    "\n",
    "print(df5, '\\n')\n",
    "print(df6, '\\n')\n",
    "print(pd.concat([df5, df6], join='inner'))\n"
   ]
  },
  {
   "cell_type": "code",
   "execution_count": 15,
   "id": "b5a6aef8-845f-40bf-8be7-2e394e96cfdb",
   "metadata": {},
   "outputs": [
    {
     "name": "stdout",
     "output_type": "stream",
     "text": [
      "    A   B\n",
      "1  A1  B1\n",
      "2  A2  B2\n",
      "\n",
      "    A   B\n",
      "3  A3  B3\n",
      "4  A4  B4\n",
      "\n",
      "    A   B\n",
      "1  A1  B1\n",
      "2  A2  B2\n",
      "3  A3  B3\n",
      "4  A4  B4\n"
     ]
    }
   ],
   "source": [
    "# append()\n",
    "\n",
    "print(df1); print()\n",
    "print(df2); print()\n",
    "print(df1.append(df2))"
   ]
  },
  {
   "cell_type": "code",
   "execution_count": 16,
   "id": "e7846202-a5f1-437a-b4fb-79ef1eb00858",
   "metadata": {},
   "outputs": [
    {
     "name": "stdout",
     "output_type": "stream",
     "text": [
      "  employee        group\n",
      "0      Bob   Accounting\n",
      "1     Jake  Engineering\n",
      "2     Lisa  Engineering\n",
      "3      Sue           HR \n",
      "\n",
      "  employee  hire_date\n",
      "0     Lisa       2004\n",
      "1      Bob       2008\n",
      "2     Jake       2012\n",
      "3      Sue       2014\n"
     ]
    }
   ],
   "source": [
    "\"\"\" \n",
    "join operations\n",
    "\"\"\"\n",
    "df1 = pd.DataFrame({'employee': ['Bob', 'Jake', 'Lisa', 'Sue'],\n",
    "                   'group': ['Accounting', 'Engineering', 'Engineering', 'HR']})\n",
    "    \n",
    "df2 = pd.DataFrame({'employee': ['Lisa', 'Bob', 'Jake', 'Sue'],\n",
    "                   'hire_date': [2004, 2008, 2012, 2014]})\n",
    "\n",
    "print(df1, '\\n')\n",
    "print(df2)"
   ]
  },
  {
   "cell_type": "code",
   "execution_count": 17,
   "id": "c7d5cba8-e39c-42b4-a689-12189f59146b",
   "metadata": {},
   "outputs": [
    {
     "name": "stdout",
     "output_type": "stream",
     "text": [
      "  employee        group  hire_date\n",
      "0      Bob   Accounting       2008\n",
      "1     Jake  Engineering       2012\n",
      "2     Lisa  Engineering       2004\n",
      "3      Sue           HR       2014\n"
     ]
    }
   ],
   "source": [
    "# One-to-one joins\n",
    "\n",
    "df3 = pd.merge(df1, df2)\n",
    "print(df3)"
   ]
  },
  {
   "cell_type": "code",
   "execution_count": 18,
   "id": "471b1108-c2d1-4509-b0c7-31a42db8bc71",
   "metadata": {},
   "outputs": [
    {
     "name": "stdout",
     "output_type": "stream",
     "text": [
      "  employee        group  hire_date\n",
      "0      Bob   Accounting       2008\n",
      "1     Jake  Engineering       2012\n",
      "2     Lisa  Engineering       2004\n",
      "3      Sue           HR       2014 \n",
      "\n",
      "         group supervisor\n",
      "0   Accounting      Carly\n",
      "1  Engineering      Guido\n",
      "2           HR      Steve \n",
      "\n",
      "  employee        group  hire_date supervisor\n",
      "0      Bob   Accounting       2008      Carly\n",
      "1     Jake  Engineering       2012      Guido\n",
      "2     Lisa  Engineering       2004      Guido\n",
      "3      Sue           HR       2014      Steve\n"
     ]
    }
   ],
   "source": [
    "# Many-to-one joins\n",
    "\n",
    "df4 = pd.DataFrame({'group': ['Accounting', 'Engineering', 'HR'],\n",
    "                   'supervisor': ['Carly', 'Guido', 'Steve']})\n",
    "\n",
    "print(df3, '\\n')\n",
    "print(df4, '\\n')\n",
    "\n",
    "print(pd.merge(df3, df4))"
   ]
  },
  {
   "cell_type": "code",
   "execution_count": 19,
   "id": "f46f367b-f94e-4778-82b8-771136365f85",
   "metadata": {},
   "outputs": [
    {
     "name": "stdout",
     "output_type": "stream",
     "text": [
      "  employee        group\n",
      "0      Bob   Accounting\n",
      "1     Jake  Engineering\n",
      "2     Lisa  Engineering\n",
      "3      Sue           HR \n",
      "\n",
      "         group        skills\n",
      "0   Accounting          math\n",
      "1   Accounting  spreadsheets\n",
      "2  Engineering        coding\n",
      "3  Engineering         linux\n",
      "4           HR  spreadsheets\n",
      "5           HR  organization \n",
      "\n",
      "  employee        group        skills\n",
      "0      Bob   Accounting          math\n",
      "1      Bob   Accounting  spreadsheets\n",
      "2     Jake  Engineering        coding\n",
      "3     Jake  Engineering         linux\n",
      "4     Lisa  Engineering        coding\n",
      "5     Lisa  Engineering         linux\n",
      "6      Sue           HR  spreadsheets\n",
      "7      Sue           HR  organization\n"
     ]
    }
   ],
   "source": [
    "# Many-to-many joins\n",
    "\n",
    "df5 = pd.DataFrame({'group': ['Accounting', 'Accounting',\n",
    "                             'Engineering', 'Engineering',\n",
    "                             'HR', 'HR'],\n",
    "                   'skills': ['math', 'spreadsheets', 'coding',\n",
    "                             'linux', 'spreadsheets', 'organization']})\n",
    "\n",
    "print(df1, '\\n')\n",
    "print(df5 , '\\n')\n",
    "\n",
    "print(pd.merge(df1, df5))"
   ]
  },
  {
   "cell_type": "code",
   "execution_count": 20,
   "id": "0d61be09-25d0-4794-b2b9-bcc76450b59e",
   "metadata": {},
   "outputs": [
    {
     "name": "stdout",
     "output_type": "stream",
     "text": [
      "  employee        group\n",
      "0      Bob   Accounting\n",
      "1     Jake  Engineering\n",
      "2     Lisa  Engineering\n",
      "3      Sue           HR \n",
      "\n",
      "  employee  hire_date\n",
      "0     Lisa       2004\n",
      "1      Bob       2008\n",
      "2     Jake       2012\n",
      "3      Sue       2014 \n",
      "\n",
      "  employee        group  age\n",
      "0      Bob   Accounting   20\n",
      "1     Jake  Engineering   42\n",
      "2     Lisa  Engineering   37\n",
      "3      Sue           HR   25 \n",
      "\n",
      "  employee  hire_date  age\n",
      "0     Lisa       2004   37\n",
      "1      Bob       2008   20\n",
      "2     Jake       2012   42\n",
      "3      Sue       2014   25 \n",
      "\n",
      "  employee        group  age_x  hire_date  age_y\n",
      "0      Bob   Accounting     20       2008     20\n",
      "1     Jake  Engineering     42       2012     42\n",
      "2     Lisa  Engineering     37       2004     37\n",
      "3      Sue           HR     25       2014     25 \n",
      "\n"
     ]
    }
   ],
   "source": [
    "\"\"\" \n",
    "  specifying the merge Key\n",
    "\"\"\"\n",
    "# 'on' argument: use a common column as merge ket\n",
    "\n",
    "print(df1, '\\n')\n",
    "print(df2, '\\n')\n",
    "\n",
    "df1['age'] = pd.Series([20, 42, 37, 25])\n",
    "df2['age'] = pd.Series([37, 20, 42, 25])\n",
    "\n",
    "\n",
    "print(df1, '\\n')\n",
    "print(df2, '\\n')\n",
    "\n",
    "print(pd.merge(df1, df2, on='employee'), '\\n')"
   ]
  },
  {
   "cell_type": "code",
   "execution_count": 21,
   "id": "3b308bed-8df2-4338-bfb8-a0d5a2eb1239",
   "metadata": {},
   "outputs": [
    {
     "name": "stdout",
     "output_type": "stream",
     "text": [
      "  employee        group  age\n",
      "0      Bob   Accounting   20\n",
      "1     Jake  Engineering   42\n",
      "2     Lisa  Engineering   37\n",
      "3      Sue           HR   25 \n",
      "\n",
      "   name  salary\n",
      "0   Bob   70000\n",
      "1  Jake   80000\n",
      "2  Lisa  120000\n",
      "3   Sue   90000 \n",
      "\n"
     ]
    },
    {
     "data": {
      "text/html": [
       "<div>\n",
       "<style scoped>\n",
       "    .dataframe tbody tr th:only-of-type {\n",
       "        vertical-align: middle;\n",
       "    }\n",
       "\n",
       "    .dataframe tbody tr th {\n",
       "        vertical-align: top;\n",
       "    }\n",
       "\n",
       "    .dataframe thead th {\n",
       "        text-align: right;\n",
       "    }\n",
       "</style>\n",
       "<table border=\"1\" class=\"dataframe\">\n",
       "  <thead>\n",
       "    <tr style=\"text-align: right;\">\n",
       "      <th></th>\n",
       "      <th>employee</th>\n",
       "      <th>group</th>\n",
       "      <th>age</th>\n",
       "      <th>name</th>\n",
       "      <th>salary</th>\n",
       "    </tr>\n",
       "  </thead>\n",
       "  <tbody>\n",
       "    <tr>\n",
       "      <th>0</th>\n",
       "      <td>Bob</td>\n",
       "      <td>Accounting</td>\n",
       "      <td>20</td>\n",
       "      <td>Bob</td>\n",
       "      <td>70000</td>\n",
       "    </tr>\n",
       "    <tr>\n",
       "      <th>1</th>\n",
       "      <td>Jake</td>\n",
       "      <td>Engineering</td>\n",
       "      <td>42</td>\n",
       "      <td>Jake</td>\n",
       "      <td>80000</td>\n",
       "    </tr>\n",
       "    <tr>\n",
       "      <th>2</th>\n",
       "      <td>Lisa</td>\n",
       "      <td>Engineering</td>\n",
       "      <td>37</td>\n",
       "      <td>Lisa</td>\n",
       "      <td>120000</td>\n",
       "    </tr>\n",
       "    <tr>\n",
       "      <th>3</th>\n",
       "      <td>Sue</td>\n",
       "      <td>HR</td>\n",
       "      <td>25</td>\n",
       "      <td>Sue</td>\n",
       "      <td>90000</td>\n",
       "    </tr>\n",
       "  </tbody>\n",
       "</table>\n",
       "</div>"
      ],
      "text/plain": [
       "  employee        group  age  name  salary\n",
       "0      Bob   Accounting   20   Bob   70000\n",
       "1     Jake  Engineering   42  Jake   80000\n",
       "2     Lisa  Engineering   37  Lisa  120000\n",
       "3      Sue           HR   25   Sue   90000"
      ]
     },
     "execution_count": 21,
     "metadata": {},
     "output_type": "execute_result"
    }
   ],
   "source": [
    "# 'Left_on' and 'right_on' arguments:\n",
    "\n",
    "df3 = pd.DataFrame({'name': ['Bob', 'Jake', 'Lisa', 'Sue'],\n",
    "                   'salary': [70000, 80000, 120000, 90000]})\n",
    "\n",
    "                    \n",
    "print(df1, '\\n')\n",
    "print(df3, '\\n')\n",
    "                    \n",
    "                    \n",
    "pd.merge(df1, df3, left_on='employee', right_on='name')"
   ]
  },
  {
   "cell_type": "code",
   "execution_count": 22,
   "id": "6de9441d-00f2-4dda-9662-5709adcfc02a",
   "metadata": {
    "tags": []
   },
   "outputs": [
    {
     "name": "stdout",
     "output_type": "stream",
     "text": [
      "                group  age\n",
      "employee                  \n",
      "Bob        Accounting   20\n",
      "Jake      Engineering   42\n",
      "Lisa      Engineering   37\n",
      "Sue                HR   25 \n",
      "\n",
      "           hire_date  age\n",
      "employee                \n",
      "Lisa           2004   37\n",
      "Bob            2008   20\n",
      "Jake           2012   42\n",
      "Sue            2014   25\n"
     ]
    },
    {
     "data": {
      "text/html": [
       "<div>\n",
       "<style scoped>\n",
       "    .dataframe tbody tr th:only-of-type {\n",
       "        vertical-align: middle;\n",
       "    }\n",
       "\n",
       "    .dataframe tbody tr th {\n",
       "        vertical-align: top;\n",
       "    }\n",
       "\n",
       "    .dataframe thead th {\n",
       "        text-align: right;\n",
       "    }\n",
       "</style>\n",
       "<table border=\"1\" class=\"dataframe\">\n",
       "  <thead>\n",
       "    <tr style=\"text-align: right;\">\n",
       "      <th></th>\n",
       "      <th>group</th>\n",
       "      <th>age_x</th>\n",
       "      <th>hire_date</th>\n",
       "      <th>age_y</th>\n",
       "    </tr>\n",
       "    <tr>\n",
       "      <th>employee</th>\n",
       "      <th></th>\n",
       "      <th></th>\n",
       "      <th></th>\n",
       "      <th></th>\n",
       "    </tr>\n",
       "  </thead>\n",
       "  <tbody>\n",
       "    <tr>\n",
       "      <th>Bob</th>\n",
       "      <td>Accounting</td>\n",
       "      <td>20</td>\n",
       "      <td>2008</td>\n",
       "      <td>20</td>\n",
       "    </tr>\n",
       "    <tr>\n",
       "      <th>Jake</th>\n",
       "      <td>Engineering</td>\n",
       "      <td>42</td>\n",
       "      <td>2012</td>\n",
       "      <td>42</td>\n",
       "    </tr>\n",
       "    <tr>\n",
       "      <th>Lisa</th>\n",
       "      <td>Engineering</td>\n",
       "      <td>37</td>\n",
       "      <td>2004</td>\n",
       "      <td>37</td>\n",
       "    </tr>\n",
       "    <tr>\n",
       "      <th>Sue</th>\n",
       "      <td>HR</td>\n",
       "      <td>25</td>\n",
       "      <td>2014</td>\n",
       "      <td>25</td>\n",
       "    </tr>\n",
       "  </tbody>\n",
       "</table>\n",
       "</div>"
      ],
      "text/plain": [
       "                group  age_x  hire_date  age_y\n",
       "employee                                      \n",
       "Bob        Accounting     20       2008     20\n",
       "Jake      Engineering     42       2012     42\n",
       "Lisa      Engineering     37       2004     37\n",
       "Sue                HR     25       2014     25"
      ]
     },
     "execution_count": 22,
     "metadata": {},
     "output_type": "execute_result"
    }
   ],
   "source": [
    "# 'left_index' and 'right_index' arguments\n",
    "# merge on and index ('employee')\n",
    "\n",
    "df1a = df1.set_index('employee')\n",
    "df2a = df2.set_index('employee')\n",
    "\n",
    "print(df1a, '\\n\\n', df2a)\n",
    "\n",
    "pd.merge(df1a, df2a, left_index=True, right_index=True )"
   ]
  },
  {
   "cell_type": "code",
   "execution_count": 23,
   "id": "fe88d216-1dcb-4af6-915d-17a7ffa64ba3",
   "metadata": {},
   "outputs": [
    {
     "name": "stdout",
     "output_type": "stream",
     "text": [
      "    name   food\n",
      "0  Peter   fish\n",
      "1   Paul  beans\n",
      "2   Mary  bread \n",
      "\n",
      "     name drink\n",
      "0    Mary  wine\n",
      "1  Joseph  beer\n"
     ]
    }
   ],
   "source": [
    "\"\"\"\n",
    "    Specifying the Join method\n",
    "\"\"\"\n",
    "\n",
    "df6 = pd.DataFrame({'name': ['Peter', 'Paul', 'Mary'],\n",
    "                   'food': ['fish', 'beans', 'bread']},\n",
    "                  columns=['name', 'food'])\n",
    "\n",
    "df7 = pd.DataFrame({'name': ['Mary', 'Joseph'],\n",
    "                   'drink': ['wine', 'beer']},\n",
    "                  columns=['name', 'drink'])\n",
    "\n",
    "print(df6, '\\n')\n",
    "print(df7)"
   ]
  },
  {
   "cell_type": "code",
   "execution_count": 24,
   "id": "a918a1f5-4053-44ff-8663-624a4cbec681",
   "metadata": {},
   "outputs": [
    {
     "data": {
      "text/html": [
       "<div>\n",
       "<style scoped>\n",
       "    .dataframe tbody tr th:only-of-type {\n",
       "        vertical-align: middle;\n",
       "    }\n",
       "\n",
       "    .dataframe tbody tr th {\n",
       "        vertical-align: top;\n",
       "    }\n",
       "\n",
       "    .dataframe thead th {\n",
       "        text-align: right;\n",
       "    }\n",
       "</style>\n",
       "<table border=\"1\" class=\"dataframe\">\n",
       "  <thead>\n",
       "    <tr style=\"text-align: right;\">\n",
       "      <th></th>\n",
       "      <th>name</th>\n",
       "      <th>food</th>\n",
       "      <th>drink</th>\n",
       "    </tr>\n",
       "  </thead>\n",
       "  <tbody>\n",
       "    <tr>\n",
       "      <th>0</th>\n",
       "      <td>Mary</td>\n",
       "      <td>bread</td>\n",
       "      <td>wine</td>\n",
       "    </tr>\n",
       "  </tbody>\n",
       "</table>\n",
       "</div>"
      ],
      "text/plain": [
       "   name   food drink\n",
       "0  Mary  bread  wine"
      ]
     },
     "execution_count": 24,
     "metadata": {},
     "output_type": "execute_result"
    }
   ],
   "source": [
    "# inner join (default)\n",
    "\n",
    "pd.merge(df6, df7, how='inner')"
   ]
  },
  {
   "cell_type": "code",
   "execution_count": 25,
   "id": "0d03dc4c-5e24-403b-8f5c-3aae31d9612e",
   "metadata": {},
   "outputs": [
    {
     "data": {
      "text/html": [
       "<div>\n",
       "<style scoped>\n",
       "    .dataframe tbody tr th:only-of-type {\n",
       "        vertical-align: middle;\n",
       "    }\n",
       "\n",
       "    .dataframe tbody tr th {\n",
       "        vertical-align: top;\n",
       "    }\n",
       "\n",
       "    .dataframe thead th {\n",
       "        text-align: right;\n",
       "    }\n",
       "</style>\n",
       "<table border=\"1\" class=\"dataframe\">\n",
       "  <thead>\n",
       "    <tr style=\"text-align: right;\">\n",
       "      <th></th>\n",
       "      <th>name</th>\n",
       "      <th>food</th>\n",
       "      <th>drink</th>\n",
       "    </tr>\n",
       "  </thead>\n",
       "  <tbody>\n",
       "    <tr>\n",
       "      <th>0</th>\n",
       "      <td>Peter</td>\n",
       "      <td>fish</td>\n",
       "      <td>NaN</td>\n",
       "    </tr>\n",
       "    <tr>\n",
       "      <th>1</th>\n",
       "      <td>Paul</td>\n",
       "      <td>beans</td>\n",
       "      <td>NaN</td>\n",
       "    </tr>\n",
       "    <tr>\n",
       "      <th>2</th>\n",
       "      <td>Mary</td>\n",
       "      <td>bread</td>\n",
       "      <td>wine</td>\n",
       "    </tr>\n",
       "    <tr>\n",
       "      <th>3</th>\n",
       "      <td>Joseph</td>\n",
       "      <td>NaN</td>\n",
       "      <td>beer</td>\n",
       "    </tr>\n",
       "  </tbody>\n",
       "</table>\n",
       "</div>"
      ],
      "text/plain": [
       "     name   food drink\n",
       "0   Peter   fish   NaN\n",
       "1    Paul  beans   NaN\n",
       "2    Mary  bread  wine\n",
       "3  Joseph    NaN  beer"
      ]
     },
     "execution_count": 25,
     "metadata": {},
     "output_type": "execute_result"
    }
   ],
   "source": [
    "# outer join\n",
    "\n",
    "pd.merge(df6, df7, how='outer')\n"
   ]
  },
  {
   "cell_type": "code",
   "execution_count": 26,
   "id": "b425688d-e4b9-4022-a5fa-8ecd03666c06",
   "metadata": {},
   "outputs": [
    {
     "data": {
      "text/html": [
       "<div>\n",
       "<style scoped>\n",
       "    .dataframe tbody tr th:only-of-type {\n",
       "        vertical-align: middle;\n",
       "    }\n",
       "\n",
       "    .dataframe tbody tr th {\n",
       "        vertical-align: top;\n",
       "    }\n",
       "\n",
       "    .dataframe thead th {\n",
       "        text-align: right;\n",
       "    }\n",
       "</style>\n",
       "<table border=\"1\" class=\"dataframe\">\n",
       "  <thead>\n",
       "    <tr style=\"text-align: right;\">\n",
       "      <th></th>\n",
       "      <th>name</th>\n",
       "      <th>food</th>\n",
       "      <th>drink</th>\n",
       "    </tr>\n",
       "  </thead>\n",
       "  <tbody>\n",
       "    <tr>\n",
       "      <th>0</th>\n",
       "      <td>Peter</td>\n",
       "      <td>fish</td>\n",
       "      <td>NaN</td>\n",
       "    </tr>\n",
       "    <tr>\n",
       "      <th>1</th>\n",
       "      <td>Paul</td>\n",
       "      <td>beans</td>\n",
       "      <td>NaN</td>\n",
       "    </tr>\n",
       "    <tr>\n",
       "      <th>2</th>\n",
       "      <td>Mary</td>\n",
       "      <td>bread</td>\n",
       "      <td>wine</td>\n",
       "    </tr>\n",
       "  </tbody>\n",
       "</table>\n",
       "</div>"
      ],
      "text/plain": [
       "    name   food drink\n",
       "0  Peter   fish   NaN\n",
       "1   Paul  beans   NaN\n",
       "2   Mary  bread  wine"
      ]
     },
     "execution_count": 26,
     "metadata": {},
     "output_type": "execute_result"
    }
   ],
   "source": [
    "# left join\n",
    "\n",
    "pd.merge(df6, df7, how='left')"
   ]
  },
  {
   "cell_type": "code",
   "execution_count": 27,
   "id": "8a7d18b3-7b98-4331-be69-ae989ce160f9",
   "metadata": {},
   "outputs": [
    {
     "data": {
      "text/html": [
       "<div>\n",
       "<style scoped>\n",
       "    .dataframe tbody tr th:only-of-type {\n",
       "        vertical-align: middle;\n",
       "    }\n",
       "\n",
       "    .dataframe tbody tr th {\n",
       "        vertical-align: top;\n",
       "    }\n",
       "\n",
       "    .dataframe thead th {\n",
       "        text-align: right;\n",
       "    }\n",
       "</style>\n",
       "<table border=\"1\" class=\"dataframe\">\n",
       "  <thead>\n",
       "    <tr style=\"text-align: right;\">\n",
       "      <th></th>\n",
       "      <th>name</th>\n",
       "      <th>food</th>\n",
       "      <th>drink</th>\n",
       "    </tr>\n",
       "  </thead>\n",
       "  <tbody>\n",
       "    <tr>\n",
       "      <th>0</th>\n",
       "      <td>Mary</td>\n",
       "      <td>bread</td>\n",
       "      <td>wine</td>\n",
       "    </tr>\n",
       "    <tr>\n",
       "      <th>1</th>\n",
       "      <td>Joseph</td>\n",
       "      <td>NaN</td>\n",
       "      <td>beer</td>\n",
       "    </tr>\n",
       "  </tbody>\n",
       "</table>\n",
       "</div>"
      ],
      "text/plain": [
       "     name   food drink\n",
       "0    Mary  bread  wine\n",
       "1  Joseph    NaN  beer"
      ]
     },
     "execution_count": 27,
     "metadata": {},
     "output_type": "execute_result"
    }
   ],
   "source": [
    "# right join\n",
    "\n",
    "pd.merge(df6, df7, how='right')"
   ]
  },
  {
   "cell_type": "code",
   "execution_count": null,
   "id": "57c5c662-1494-4f55-9e68-f14c5a870208",
   "metadata": {},
   "outputs": [],
   "source": []
  }
 ],
 "metadata": {
  "kernelspec": {
   "display_name": "Python 3 (ipykernel)",
   "language": "python",
   "name": "python3"
  },
  "language_info": {
   "codemirror_mode": {
    "name": "ipython",
    "version": 3
   },
   "file_extension": ".py",
   "mimetype": "text/x-python",
   "name": "python",
   "nbconvert_exporter": "python",
   "pygments_lexer": "ipython3",
   "version": "3.8.8"
  }
 },
 "nbformat": 4,
 "nbformat_minor": 5
}
