{
 "cells": [
  {
   "cell_type": "code",
   "execution_count": 1,
   "id": "eb520584-ca56-4b98-afe6-fdab2e74d208",
   "metadata": {},
   "outputs": [
    {
     "name": "stdout",
     "output_type": "stream",
     "text": [
      "Hello world!\n",
      "100\n",
      "3.14\n"
     ]
    }
   ],
   "source": [
    "\"\"\" \n",
    "print() function\n",
    "\"\"\"\n",
    "\n",
    "\n",
    "print(\"Hello world!\")\n",
    "print(100)\n",
    "pi = 3.14\n",
    "print(pi)"
   ]
  },
  {
   "cell_type": "code",
   "execution_count": 5,
   "id": "56eb1a95-9505-40e7-b874-9bce78ac6a5d",
   "metadata": {},
   "outputs": [
    {
     "name": "stdout",
     "output_type": "stream",
     "text": [
      "My name isGeum Cheol\n"
     ]
    }
   ],
   "source": [
    "intro = \"My name is\"\n",
    "name = \"Geum Cheol\"\n",
    "print(intro + name)"
   ]
  },
  {
   "cell_type": "code",
   "execution_count": 9,
   "id": "9ac336c9-0f3d-42d4-aa48-bad1233479c1",
   "metadata": {},
   "outputs": [],
   "source": [
    "\"\"\"\n",
    "Variables\n",
    "\"\"\"\n",
    "\n",
    "user_name = \"Geum Cheol\"\n",
    "user_id = 201755012\n",
    "user_email = \"kja6023@hs.ac.kr\"\n",
    "is_student = True\n",
    "\n",
    "#실습"
   ]
  },
  {
   "cell_type": "code",
   "execution_count": 12,
   "id": "45d29093-eca6-446f-b0ae-54e127ae7a59",
   "metadata": {},
   "outputs": [
    {
     "name": "stdout",
     "output_type": "stream",
     "text": [
      "x =  1\n",
      "Address of x:  140707874285360\n",
      "x =  2\n",
      "Address of x:  140707874285392\n"
     ]
    }
   ],
   "source": [
    "# Declare and Initialize a variable\n",
    "x = 1\n",
    "print('x = ' , x)\n",
    "print(\"Address of x: \", id(x))\n",
    "\n",
    "#(Re)Assign a value to the variable\n",
    "x = 2\n",
    "print('x = ' , x)\n",
    "print(\"Address of x: \", id(x))\n",
    "\n"
   ]
  },
  {
   "cell_type": "code",
   "execution_count": 13,
   "id": "5f19cafa-513c-44fc-b9bc-4ab12523b962",
   "metadata": {},
   "outputs": [],
   "source": [
    "# Valid cases:\n",
    "myvar = \"Shin\"\n",
    "my_var = \"Shin\"\n",
    "_my_var = \"Shin\"\n",
    "myVar = \"Shin\"\n",
    "MYVAR = \"Shin\"\n",
    "myvar2 = \"Shin\""
   ]
  },
  {
   "cell_type": "code",
   "execution_count": 15,
   "id": "a5d4ef83-b54d-4ec9-b21e-691741a24e5e",
   "metadata": {},
   "outputs": [],
   "source": [
    "\"\"\"\n",
    "Data Types: Integers\n",
    "\"\"\"\n",
    "\n",
    "chairs = 7\n",
    "tables = 1\n",
    "smartphone = 5\n",
    "sofas = 1\n",
    "broken_chairs = -1\n",
    "\n",
    "#실습"
   ]
  },
  {
   "cell_type": "code",
   "execution_count": 16,
   "id": "c3fdf12a-0e2f-40fa-b111-dc991b5e502f",
   "metadata": {},
   "outputs": [],
   "source": [
    "\"\"\"\n",
    "Data Types: Real Numbers\n",
    "\"\"\"\n",
    "\n",
    "PI = 3.14\n",
    "Kospi_index = 3125.76\n",
    "Krw_usd_exhange = 1176.83\n",
    "Kosdaq_index =  1035.66\n",
    "\n",
    "#실습 본인이 알고 있는 실수를 변수로 정의"
   ]
  },
  {
   "cell_type": "code",
   "execution_count": 17,
   "id": "8d2cfc30-46a5-4fcb-ba32-22a31df36599",
   "metadata": {},
   "outputs": [],
   "source": [
    "\"\"\"\n",
    "Data Types: Strings\n",
    "\"\"\"\n",
    "\n",
    "favorite_color = \"Black\"\n",
    "favorite_game =  \"Genshin\"\n",
    "favorite_sport = \"Baseball\"\n",
    "\n",
    "\n",
    "#실습 본인이 좋아하는 것들을 문자열 변수로 정의"
   ]
  },
  {
   "cell_type": "code",
   "execution_count": 20,
   "id": "6219731a-1a37-4467-8691-4cd1b39982a7",
   "metadata": {},
   "outputs": [
    {
     "name": "stdout",
     "output_type": "stream",
     "text": [
      "16\n"
     ]
    }
   ],
   "source": [
    "\"\"\"\n",
    "Plus-Equals Operations\n",
    "\"\"\"\n",
    "\n",
    "a = 8\n",
    "a *= 2\n",
    "print(a)"
   ]
  },
  {
   "cell_type": "code",
   "execution_count": 22,
   "id": "99f084f6-5c26-4bf1-bd4b-559ebc511364",
   "metadata": {
    "collapsed": true,
    "jupyter": {
     "outputs_hidden": true
    },
    "tags": []
   },
   "outputs": [
    {
     "name": "stdout",
     "output_type": "stream",
     "text": [
      "HSU\n"
     ]
    }
   ],
   "source": [
    "\"\"\"\n",
    "Erros\n",
    "\"\"\"\n",
    "\n",
    "#Name Erros\n",
    "\n",
    "\n",
    "my_school = \"HSU\"\n",
    "print(my_school)"
   ]
  },
  {
   "cell_type": "code",
   "execution_count": 2,
   "id": "69fd640a-aaca-47ed-bd10-1ad369109997",
   "metadata": {},
   "outputs": [
    {
     "name": "stdout",
     "output_type": "stream",
     "text": [
      "<class 'bool'>\n"
     ]
    }
   ],
   "source": [
    "is_tested = True\n",
    "print(type(is_tested)) # 변수가 어떤 데이터 타입인지를 알려주는 함수\n"
   ]
  },
  {
   "cell_type": "code",
   "execution_count": 4,
   "id": "13a37fd1-cd26-4dcb-8c62-d628087e9fdb",
   "metadata": {},
   "outputs": [
    {
     "name": "stdout",
     "output_type": "stream",
     "text": [
      "True\n",
      "True\n",
      "False\n"
     ]
    }
   ],
   "source": [
    "# 1\n",
    "print(\"Yes\" == 'Yes')\n",
    "\n",
    "# 2\n",
    "print((2 > 1) == (5 < 10))\n",
    "\n",
    "# 3\n",
    "c = '2'\n",
    "d = 2\n",
    "print(c == d)\n"
   ]
  },
  {
   "cell_type": "code",
   "execution_count": 6,
   "id": "7ef7daaa-7f6d-4a20-a463-5a4b836e8d8e",
   "metadata": {},
   "outputs": [
    {
     "name": "stdout",
     "output_type": "stream",
     "text": [
      "False\n"
     ]
    }
   ],
   "source": [
    "\"\"\"\n",
    "conditional statements\n",
    "\"\"\"\n",
    "\n",
    "puppy = \"maltepoo\"\n",
    "is_yes = False\n",
    "\n",
    "if puppy == \"maltese\":\n",
    "    is_yes = True\n",
    "    print(\"말티즈가 맞습니다.\")\n",
    "\n",
    "elif puppy == \"poodle\":\n",
    "    is_yes = True\n",
    "    print(\"푸들이 맞습니다.\")\n",
    "    \n",
    "print(is_yes)"
   ]
  },
  {
   "cell_type": "code",
   "execution_count": 9,
   "id": "088c4449-ed41-45b2-9bb1-57e0f2465e6d",
   "metadata": {},
   "outputs": [
    {
     "name": "stdout",
     "output_type": "stream",
     "text": [
      "[Error]\n",
      "continue...\n"
     ]
    }
   ],
   "source": [
    "\"Exception Handling\"\n",
    "\n",
    "x = 1\n",
    "\n",
    "try:\n",
    "    print(y)\n",
    "    print(x)\n",
    "except:\n",
    "    print('[Error]')\n",
    "\n",
    "print(\"continue...\")"
   ]
  },
  {
   "cell_type": "code",
   "execution_count": 3,
   "id": "b7a05de2-1582-4f45-9d2c-174204d97b92",
   "metadata": {},
   "outputs": [
    {
     "name": "stdout",
     "output_type": "stream",
     "text": [
      "[2, 3, 5, 7, 11, 2]\n",
      "[]\n"
     ]
    }
   ],
   "source": [
    "#리스트 소수\n",
    "\"\"\"\n",
    "Lists\n",
    "\"\"\"\n",
    "primes = [2,3,5,7,11,2]\n",
    "print(primes)\n",
    "\n",
    "empty_list = []\n",
    "print(empty_list)"
   ]
  },
  {
   "cell_type": "code",
   "execution_count": 6,
   "id": "38333732-3c8a-455d-a9b0-1b87b25a7584",
   "metadata": {},
   "outputs": [
    {
     "name": "stdout",
     "output_type": "stream",
     "text": [
      "['Jenny', 1, 1.4, True]\n"
     ]
    }
   ],
   "source": [
    "\"\"\"\n",
    "Multiple differnet data types\n",
    "\"\"\"\n",
    "mixed =['Jenny', 1, 1.4, True]\n",
    "print(mixed)\n",
    "list_of_lists = [ ['a', 1],['b', 2] ]"
   ]
  },
  {
   "cell_type": "code",
   "execution_count": 7,
   "id": "2b07386d-8ac7-42eb-bf74-dd3844e726e8",
   "metadata": {},
   "outputs": [
    {
     "name": "stdout",
     "output_type": "stream",
     "text": [
      "Roger\n",
      "Rafael\n",
      "Andy\n",
      "Novak\n"
     ]
    }
   ],
   "source": [
    "\"\"\"\n",
    "Zero-indexing\n",
    "\"\"\"\n",
    "\n",
    "names = ['Roger','Rafael','Andy','Novak']\n",
    "\n",
    "print(names[0]) #first data\n",
    "print(names[1])\n",
    "print(names[2])\n",
    "print(names[3])"
   ]
  },
  {
   "cell_type": "code",
   "execution_count": 9,
   "id": "be9b285f-6f22-41e5-9d57-4bd8948a1c6c",
   "metadata": {},
   "outputs": [
    {
     "name": "stdout",
     "output_type": "stream",
     "text": [
      "Novak\n",
      "Andy\n",
      "Rafael\n",
      "Roger\n"
     ]
    }
   ],
   "source": [
    "\"\"\"\n",
    "Negative indexing\n",
    "\"\"\"\n",
    "print(names[-1]) #last data\n",
    "print(names[-2]) #second to last data\n",
    "print(names[-3]) #third to last data\n",
    "print(names[-4])"
   ]
  },
  {
   "cell_type": "code",
   "execution_count": 18,
   "id": "646fdb30-077d-442b-b8e2-26672f613459",
   "metadata": {},
   "outputs": [
    {
     "name": "stdout",
     "output_type": "stream",
     "text": [
      "['생활관', '필헌관', '소통관']\n",
      "['만우관', '장공관', '필헌관', '소통관', '송암관', '늦봄관', '장준하통일관']\n",
      "['만우관', '장공관', '필헌관', '소통관', '송암관', '늦봄관', '장준하통일관']\n"
     ]
    }
   ],
   "source": [
    "#인덱스 구간에 있는 값을 구하는 방법\n",
    "\"\"\"\n",
    "List slicing\n",
    "\"\"\"\n",
    "hsu_buildings = ['만우관', '장공관', '필헌관', '소통관', '송암관', '늦봄관', '장준하통일관']\n",
    "building_slice = hsu_buildings[1:4] #독립적인 객체\n",
    "building_slice[0] = '생활관'\n",
    "\n",
    "print(building_slice)\n",
    "print(hsu_buildings)\n",
    "print(hsu_buildings[:])"
   ]
  },
  {
   "cell_type": "code",
   "execution_count": 20,
   "id": "c933a3ec-89e2-48cb-9764-77caaae6fb15",
   "metadata": {},
   "outputs": [
    {
     "name": "stdout",
     "output_type": "stream",
     "text": [
      "[['해우리', '청정원', '맥도날드'], ['짜장명가', ' 중식', '중화비빔밥'], ['찌개동아리', '한식', '제육전골'], ['맘스터치', '양식', '싸이버거']]\n",
      "['해우리', '청정원', '해우라면']\n"
     ]
    }
   ],
   "source": [
    "\"\"\"\n",
    "Multi-dimensinal Lists\n",
    "\"\"\"\n",
    "\n",
    "foodstore = [['해우리', '청정원', '맥도날드'], ['짜장명가', ' 중식', '중화비빔밥'], ['찌개동아리', '한식', '제육전골'], ['맘스터치', '양식', '싸이버거']]\n",
    "\n",
    "print(foodstore)\n",
    "\n",
    "foodstore[0][2] = '해우라면'\n",
    "print(foodstore[0])"
   ]
  },
  {
   "cell_type": "code",
   "execution_count": 23,
   "id": "b25ad05f-a0d2-4aab-a429-47d4ee7532f9",
   "metadata": {},
   "outputs": [
    {
     "name": "stdout",
     "output_type": "stream",
     "text": [
      "['cake', 'cookie', 'bread', 'biscuit', 'tart']\n"
     ]
    }
   ],
   "source": [
    "\"\"\"\n",
    "\n",
    "Adding Lists Together\n",
    "\"\"\"\n",
    "items_one = ['cake', 'cookie', 'bread']\n",
    "items_two = ['biscuit', 'tart']\n",
    "\n",
    "total_items = items_one + items_two\n",
    "print(total_items)"
   ]
  },
  {
   "cell_type": "code",
   "execution_count": 24,
   "id": "91bf90c3-7a69-4279-acc0-04266e8ee0f7",
   "metadata": {},
   "outputs": [
    {
     "name": "stdout",
     "output_type": "stream",
     "text": [
      "5\n"
     ]
    }
   ],
   "source": [
    "\"\"\"\n",
    "Useful Methods for Lists\n",
    "\"\"\"\n",
    "\n",
    "# Len()\n",
    "knapsack = [2, 4, 3, 7, 10]\n",
    "size = len(knapsack)\n",
    "print(size)"
   ]
  },
  {
   "cell_type": "code",
   "execution_count": 25,
   "id": "97a60557-5ffa-4d84-a2b0-9633691309f9",
   "metadata": {},
   "outputs": [
    {
     "name": "stdout",
     "output_type": "stream",
     "text": [
      "['daisies', 'periwinkle', 'tulips']\n"
     ]
    }
   ],
   "source": [
    "# append()\n",
    "orders = ['daisies', 'periwinkle']\n",
    "orders.append('tulips')\n",
    "\n",
    "print(orders)"
   ]
  },
  {
   "cell_type": "code",
   "execution_count": 29,
   "id": "74b4375e-f45e-4866-93a6-0e773000d008",
   "metadata": {},
   "outputs": [
    {
     "name": "stdout",
     "output_type": "stream",
     "text": [
      "['Karla', 'Maxium', 'Vikor', 'Martin', 'Isabella']\n"
     ]
    }
   ],
   "source": [
    "# insert()\n",
    "store_line = ['Karla', 'Maxium', 'Martin', 'Isabella']\n",
    "store_line.insert(2, 'Vikor')\n",
    "\n",
    "print(store_line)"
   ]
  },
  {
   "cell_type": "code",
   "execution_count": 30,
   "id": "e90ad436-b17b-4f6c-b445-cb37d7be584a",
   "metadata": {},
   "outputs": [
    {
     "data": {
      "text/plain": [
       "'Data Engineering'"
      ]
     },
     "execution_count": 30,
     "metadata": {},
     "output_type": "execute_result"
    }
   ],
   "source": [
    "# pop()\n",
    "\n",
    "sw_subjects = ['C Programming', 'Calculus', 'Data Engineering', 'Data Structures', 'Machine Learning']\n",
    "sw_subjects.pop(2)\n",
    "\n",
    "\n"
   ]
  },
  {
   "cell_type": "code",
   "execution_count": 31,
   "id": "5eb0e760-22d7-45ed-b7ec-3e4e36ba83b7",
   "metadata": {},
   "outputs": [
    {
     "name": "stdout",
     "output_type": "stream",
     "text": [
      "['C Programming', 'Data Engineering', 'Data Structures', 'Machine Learning']\n"
     ]
    }
   ],
   "source": [
    "sw_subjects = ['C Programming', 'Calculus', 'Data Engineering', 'Data Structures', 'Machine Learning']\n",
    "sw_subjects.remove('Calculus')\n",
    "print(sw_subjects)"
   ]
  },
  {
   "cell_type": "code",
   "execution_count": 32,
   "id": "44e71c37-6aab-4692-a5eb-97a147a14e48",
   "metadata": {},
   "outputs": [
    {
     "ename": "ValueError",
     "evalue": "list.remove(x): x not in list",
     "output_type": "error",
     "traceback": [
      "\u001b[1;31m---------------------------------------------------------------------------\u001b[0m",
      "\u001b[1;31mValueError\u001b[0m                                Traceback (most recent call last)",
      "\u001b[1;32m<ipython-input-32-6a4210df6adc>\u001b[0m in \u001b[0;36m<module>\u001b[1;34m\u001b[0m\n\u001b[0;32m      1\u001b[0m \u001b[0msw_subjects\u001b[0m \u001b[1;33m=\u001b[0m \u001b[1;33m[\u001b[0m\u001b[1;34m'C Programming'\u001b[0m\u001b[1;33m,\u001b[0m \u001b[1;34m'Calculus'\u001b[0m\u001b[1;33m,\u001b[0m \u001b[1;34m'Data Engineering'\u001b[0m\u001b[1;33m,\u001b[0m \u001b[1;34m'Data Structures'\u001b[0m\u001b[1;33m,\u001b[0m \u001b[1;34m'Machine Learning'\u001b[0m\u001b[1;33m]\u001b[0m\u001b[1;33m\u001b[0m\u001b[1;33m\u001b[0m\u001b[0m\n\u001b[1;32m----> 2\u001b[1;33m \u001b[0msw_subjects\u001b[0m\u001b[1;33m.\u001b[0m\u001b[0mremove\u001b[0m\u001b[1;33m(\u001b[0m\u001b[1;34m'Algorithms'\u001b[0m\u001b[1;33m)\u001b[0m\u001b[1;33m\u001b[0m\u001b[1;33m\u001b[0m\u001b[0m\n\u001b[0m\u001b[0;32m      3\u001b[0m \u001b[0mprint\u001b[0m\u001b[1;33m(\u001b[0m\u001b[0msw_subjects\u001b[0m\u001b[1;33m)\u001b[0m\u001b[1;33m\u001b[0m\u001b[1;33m\u001b[0m\u001b[0m\n",
      "\u001b[1;31mValueError\u001b[0m: list.remove(x): x not in list"
     ]
    }
   ],
   "source": [
    "# Error\n",
    "sw_subjects = ['C Programming', 'Calculus', 'Data Engineering', 'Data Structures', 'Machine Learning']\n",
    "sw_subjects.remove('Algorithms')\n",
    "print(sw_subjects)"
   ]
  },
  {
   "cell_type": "code",
   "execution_count": 33,
   "id": "2819b3f4-3114-45c4-847f-3089e5dc69d5",
   "metadata": {},
   "outputs": [
    {
     "name": "stdout",
     "output_type": "stream",
     "text": [
      "[1, 2, 3, 4]\n"
     ]
    }
   ],
   "source": [
    "# sort()\n",
    "\n",
    "numbers = [4, 2, 1, 3]\n",
    "numbers.sort()\n",
    "print(numbers)\n",
    "\n"
   ]
  },
  {
   "cell_type": "code",
   "execution_count": 34,
   "id": "5da62043-d388-4295-9b9b-0590fc24c256",
   "metadata": {},
   "outputs": [
    {
     "name": "stdout",
     "output_type": "stream",
     "text": [
      "['늦봄관', '만우관', '소통관', '송암관', '장공관', '장준하통일관', '필헌관']\n"
     ]
    }
   ],
   "source": [
    "hsu_buildings = ['만우관', '장공관', '필헌관', '소통관', '송암관', '늦봄관', '장준하통일관']\n",
    "hsu_buildings.sort()\n",
    "\n",
    "print(hsu_buildings)"
   ]
  },
  {
   "cell_type": "code",
   "execution_count": 35,
   "id": "92dd17d5-2ed1-4e47-9dd1-ed12d56abbb2",
   "metadata": {},
   "outputs": [
    {
     "name": "stdout",
     "output_type": "stream",
     "text": [
      "[1, 2, 3, 4]\n"
     ]
    }
   ],
   "source": [
    "# sorted()\n",
    "\n",
    "numbers = [4, 2, 1, 3]\n",
    "sorted_numbers = sorted(numbers)\n",
    "print(sorted_numbers)"
   ]
  },
  {
   "cell_type": "code",
   "execution_count": null,
   "id": "89ab3583-9c3b-4887-bd7b-836afa113024",
   "metadata": {},
   "outputs": [],
   "source": []
  }
 ],
 "metadata": {
  "kernelspec": {
   "display_name": "Python 3",
   "language": "python",
   "name": "python3"
  },
  "language_info": {
   "codemirror_mode": {
    "name": "ipython",
    "version": 3
   },
   "file_extension": ".py",
   "mimetype": "text/x-python",
   "name": "python",
   "nbconvert_exporter": "python",
   "pygments_lexer": "ipython3",
   "version": "3.8.8"
  }
 },
 "nbformat": 4,
 "nbformat_minor": 5
}
