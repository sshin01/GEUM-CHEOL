{
 "cells": [
  {
   "cell_type": "code",
   "execution_count": 4,
   "id": "f6ac89f3-90d0-49c3-949c-82986a4885a5",
   "metadata": {},
   "outputs": [
    {
     "name": "stdout",
     "output_type": "stream",
     "text": [
      "[('physics', 98), ('calculus', 97), ('poetry', 85), ('history', 88), ('computer science', 100), ('visual arts', 93)] [('politics', 80), ('latin', 96), ('dance', 97), ('architecture', 65), ('physics', 98), ('calculus', 97), ('poetry', 85), ('history', 88), ('computer science', 100), ('visual arts', 93)]\n"
     ]
    }
   ],
   "source": [
    "#과제2:Gradebook\n",
    "\n",
    "\n",
    "last_semester_gradebook = [(\"politics\", 80), (\"latin\", 96), (\"dance\", 97), (\"architecture\", 65)]\n",
    "subjects = [\"physics\", \"calculus\", \"poetry\", \"history\"]\n",
    "grades = [98, 97, 85, 88]\n",
    "subjects.append(\"computer science\")\n",
    "grades.append(100)\n",
    "gradebook = list(zip(subjects, grades))\n",
    "gradebook.append((\"visual arts\", 93))\n",
    "full_gradebook = last_semester_gradebook + gradebook\n",
    "print(gradebook, full_gradebook)"
   ]
  },
  {
   "cell_type": "code",
   "execution_count": null,
   "id": "6baad9b3-af12-43d1-bae5-44d9b075110c",
   "metadata": {},
   "outputs": [],
   "source": []
  }
 ],
 "metadata": {
  "kernelspec": {
   "display_name": "Python 3",
   "language": "python",
   "name": "python3"
  },
  "language_info": {
   "codemirror_mode": {
    "name": "ipython",
    "version": 3
   },
   "file_extension": ".py",
   "mimetype": "text/x-python",
   "name": "python",
   "nbconvert_exporter": "python",
   "pygments_lexer": "ipython3",
   "version": "3.8.8"
  }
 },
 "nbformat": 4,
 "nbformat_minor": 5
}
