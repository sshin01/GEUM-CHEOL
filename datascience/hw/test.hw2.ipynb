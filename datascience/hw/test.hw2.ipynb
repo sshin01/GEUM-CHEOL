{
 "cells": [
  {
   "cell_type": "code",
   "execution_count": 10,
   "id": "cffde3cb-62b5-414e-832c-49c923420095",
   "metadata": {},
   "outputs": [
    {
     "name": "stdout",
     "output_type": "stream",
     "text": [
      "[('physics', 98), ('calculus', 97), ('poetry', 85), ('history', 88), ('computer science', 100), ('visual arts', 93)]\n",
      "[('physics', 98), ('calculus', 97), ('poetry', 85), ('history', 88), ('computer science', 100), ('visual arts', 98)]\n",
      "[('physics', 98), ('calculus', 97), ('poetry', 85), ('history', 88), ('computer science', 100), ('visual arts', 98)] [('politics', 80), ('latin', 96), ('dance', 97), ('architecture', 65), ('physics', 98), ('calculus', 97), ('poetry', 85), ('history', 88), ('computer science', 100), ('visual arts', 98)]\n"
     ]
    }
   ],
   "source": [
    "#과제2:Gradebook\n",
    "\n",
    "# Create Some Lists\n",
    "\n",
    "subjects = [\"physics\", \"calculus\", \"poetry\", \"history\"]\n",
    "grades = [98, 97, 85, 88]\n",
    "subjects.append(\"computer science\")\n",
    "grades.append(100)\n",
    "gradebook = list(zip(subjects, grades))\n",
    "gradebook.append((\"visual arts\", 93))\n",
    "print(gradebook)\n",
    "\n",
    "# Modify The Gradebook\n",
    "\n",
    "gradebook.remove((\"visual arts\", 93))\n",
    "gradebook.append((\"visual arts\", 98))\n",
    "print(gradebook)\n",
    "\n",
    "# One Big Gradebook\n",
    "last_semester_gradebook = [(\"politics\", 80), (\"latin\", 96), (\"dance\", 97), (\"architecture\", 65)]\n",
    "full_gradebook = last_semester_gradebook + gradebook\n",
    "print(gradebook, full_gradebook)"
   ]
  }
 ],
 "metadata": {
  "kernelspec": {
   "display_name": "Python 3",
   "language": "python",
   "name": "python3"
  },
  "language_info": {
   "codemirror_mode": {
    "name": "ipython",
    "version": 3
   },
   "file_extension": ".py",
   "mimetype": "text/x-python",
   "name": "python",
   "nbconvert_exporter": "python",
   "pygments_lexer": "ipython3",
   "version": "3.8.8"
  }
 },
 "nbformat": 4,
 "nbformat_minor": 5
}
