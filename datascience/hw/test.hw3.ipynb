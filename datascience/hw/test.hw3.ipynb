{
 "cells": [
  {
   "cell_type": "code",
   "execution_count": 15,
   "id": "afb9e5bb-c54c-47d8-8e4a-61ef11c6e5a7",
   "metadata": {},
   "outputs": [
    {
     "name": "stdout",
     "output_type": "stream",
     "text": [
      "Average Haircut Price : 31.875\n",
      "[25, 20, 35, 15, 15, 30, 45, 30]\n",
      "total revenue: 1085\n",
      "average daily revenue155.0\n",
      "['bouffant', 'pixie', 'crew', 'bowl']\n"
     ]
    }
   ],
   "source": [
    "hairstyles = [\"bouffant\", \"pixie\", \"dreadlocks\", \"crew\", \"bowl\", \"bob\", \"mohawk\", \"flattop\"]\n",
    "\n",
    "prices = [30, 25, 40, 20, 20, 35, 50, 35]\n",
    "last_week = [2, 3, 5, 8, 4, 4, 6, 2]\n",
    "total_price = 0\n",
    "\n",
    "\n",
    "for price in prices:\n",
    "    total_price += price\n",
    "average_price = total_price / len(prices)\n",
    "print(\"Average Haircut Price : \" + str(average_price))\n",
    "\n",
    "\n",
    "new_prices = [price -5 for price in prices]\n",
    "print(new_prices)\n",
    "\n",
    "total_revenue = 0\n",
    "for i in range(len(hairstyles)):\n",
    "    total_revenue += prices[i] * last_week[i]\n",
    "print(\"total revenue: \" + str(total_revenue))\n",
    "average_daily_revenue = total_revenue / 7\n",
    "print(\"average daily revenue\" + str(average_daily_revenue))\n",
    "\n",
    "cuts_under_30 = [hairstyles[i] for i in range(0 , (len(hairstyles) -1)) if new_prices[i] < 30]\n",
    "print(cuts_under_30)\n",
    "                 \n",
    "\n"
   ]
  },
  {
   "cell_type": "code",
   "execution_count": null,
   "id": "cf90fafd-6e85-4988-b86a-ef9c5e168398",
   "metadata": {},
   "outputs": [],
   "source": []
  }
 ],
 "metadata": {
  "kernelspec": {
   "display_name": "Python 3",
   "language": "python",
   "name": "python3"
  },
  "language_info": {
   "codemirror_mode": {
    "name": "ipython",
    "version": 3
   },
   "file_extension": ".py",
   "mimetype": "text/x-python",
   "name": "python",
   "nbconvert_exporter": "python",
   "pygments_lexer": "ipython3",
   "version": "3.8.8"
  }
 },
 "nbformat": 4,
 "nbformat_minor": 5
}
